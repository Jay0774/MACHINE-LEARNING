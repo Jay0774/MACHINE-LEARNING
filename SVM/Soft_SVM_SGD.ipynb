{
  "nbformat": 4,
  "nbformat_minor": 0,
  "metadata": {
    "colab": {
      "name": "Soft_SVM_SGD.ipynb",
      "provenance": []
    },
    "kernelspec": {
      "display_name": "Python 3",
      "name": "python3"
    },
    "language_info": {
      "name": "python"
    }
  },
  "cells": [
    {
      "cell_type": "markdown",
      "metadata": {
        "id": "x1UqBtAvhEHD"
      },
      "source": [
        "# Soft SVM (Support vector machine) using Stochastic Gradient Descent\n",
        "# min(w) (0.5*||w||^2 + hinge_loss(w)) \n",
        "# where hinge_loss((w, b),(x, y)) = 1/m(summation_over_m(max{0, 1 − y(hw, xi + b)}))\n",
        "\n",
        "\n",
        "## Step 1: Import All required Libraries"
      ]
    },
    {
      "cell_type": "code",
      "metadata": {
        "id": "bDvNdYa9CjLj"
      },
      "source": [
        "import pandas as pd\n",
        "import numpy as np\n",
        "from sklearn.model_selection import train_test_split\n",
        "from sklearn.utils import shuffle"
      ],
      "execution_count": 1,
      "outputs": []
    },
    {
      "cell_type": "markdown",
      "metadata": {
        "id": "YwbCo4pnhNcv"
      },
      "source": [
        "## Step 2: Read CSV file (For this i have uploded the file on google colab) "
      ]
    },
    {
      "cell_type": "code",
      "metadata": {
        "colab": {
          "base_uri": "https://localhost:8080/"
        },
        "id": "VKpaEb3HDOUT",
        "outputId": "4f4f7c59-ce17-4a23-d3bf-acbfaca6a885"
      },
      "source": [
        "df = pd.read_csv('file.csv')\n",
        "print(df.shape,df)"
      ],
      "execution_count": 2,
      "outputs": [
        {
          "output_type": "stream",
          "name": "stdout",
          "text": [
            "(2665, 6)       Temperature   Humidity       Light          CO2  HumidityRatio  Occupancy\n",
            "0       23.700000  26.272000  585.200000   749.200000       0.004764          1\n",
            "1       23.718000  26.290000  578.400000   760.400000       0.004773          1\n",
            "2       23.730000  26.230000  572.666667   769.666667       0.004765          1\n",
            "3       23.722500  26.125000  493.750000   774.750000       0.004744          1\n",
            "4       23.754000  26.200000  488.600000   779.000000       0.004767          1\n",
            "...           ...        ...         ...          ...            ...        ...\n",
            "2660    24.290000  25.700000  808.000000  1150.250000       0.004829          1\n",
            "2661    24.330000  25.736000  809.800000  1129.200000       0.004848          1\n",
            "2662    24.330000  25.700000  817.000000  1125.800000       0.004841          1\n",
            "2663    24.356667  25.700000  813.000000  1123.000000       0.004849          1\n",
            "2664    24.408333  25.681667  798.000000  1124.000000       0.004860          1\n",
            "\n",
            "[2665 rows x 6 columns]\n"
          ]
        }
      ]
    },
    {
      "cell_type": "markdown",
      "metadata": {
        "id": "_pqvpAIihVza"
      },
      "source": [
        "## Step 3: Store the features and target in X , Y seperately and since target has value 0,1 change label 0 to -1 "
      ]
    },
    {
      "cell_type": "code",
      "metadata": {
        "colab": {
          "base_uri": "https://localhost:8080/"
        },
        "id": "poQAQWxkDlIQ",
        "outputId": "12e2deca-b114-4d22-f858-08588d2e42af"
      },
      "source": [
        "X = df.iloc[:,:-1].values\n",
        "Y = df.iloc[:,-1:].values\n",
        "print(X.shape,X)\n",
        "Y[Y==0]=-1\n",
        "print(Y.shape,Y)"
      ],
      "execution_count": 3,
      "outputs": [
        {
          "output_type": "stream",
          "name": "stdout",
          "text": [
            "(2665, 5) [[2.37000000e+01 2.62720000e+01 5.85200000e+02 7.49200000e+02\n",
            "  4.76416302e-03]\n",
            " [2.37180000e+01 2.62900000e+01 5.78400000e+02 7.60400000e+02\n",
            "  4.77266099e-03]\n",
            " [2.37300000e+01 2.62300000e+01 5.72666667e+02 7.69666667e+02\n",
            "  4.76515255e-03]\n",
            " ...\n",
            " [2.43300000e+01 2.57000000e+01 8.17000000e+02 1.12580000e+03\n",
            "  4.84075873e-03]\n",
            " [2.43566667e+01 2.57000000e+01 8.13000000e+02 1.12300000e+03\n",
            "  4.84855928e-03]\n",
            " [2.44083333e+01 2.56816667e+01 7.98000000e+02 1.12400000e+03\n",
            "  4.86020770e-03]]\n",
            "(2665, 1) [[1]\n",
            " [1]\n",
            " [1]\n",
            " ...\n",
            " [1]\n",
            " [1]\n",
            " [1]]\n"
          ]
        }
      ]
    },
    {
      "cell_type": "markdown",
      "metadata": {
        "id": "AjSE8T5ihdNM"
      },
      "source": [
        "## Step 4: Processing the Data and Splitting\n"
      ]
    },
    {
      "cell_type": "code",
      "metadata": {
        "colab": {
          "base_uri": "https://localhost:8080/"
        },
        "id": "SZfy-oNAEACo",
        "outputId": "c5704b2b-0117-4aa9-8495-bc7fde7ebdb7"
      },
      "source": [
        "from sklearn import preprocessing\n",
        "min_max_scaler = preprocessing.MinMaxScaler()\n",
        "X_scale = min_max_scaler.fit_transform(X)\n",
        "X_scale"
      ],
      "execution_count": 4,
      "outputs": [
        {
          "output_type": "execute_result",
          "data": {
            "text/plain": [
              "array([[0.83168317, 0.44513204, 0.34479305, 0.33003334, 0.70421197],\n",
              "       [0.8359604 , 0.44705255, 0.34078657, 0.34152347, 0.70830847],\n",
              "       [0.83881188, 0.44065084, 0.33740855, 0.35103018, 0.70468898],\n",
              "       ...,\n",
              "       [0.98138614, 0.38410243, 0.48136692, 0.71638882, 0.74113545],\n",
              "       [0.98772277, 0.38410243, 0.47901016, 0.71351629, 0.74489576],\n",
              "       [1.        , 0.38214635, 0.47017234, 0.71454219, 0.75051096]])"
            ]
          },
          "metadata": {},
          "execution_count": 4
        }
      ]
    },
    {
      "cell_type": "markdown",
      "metadata": {
        "id": "vWkz0kv_mRqT"
      },
      "source": [
        "A. Split the data in 70,30 for training and testing the model "
      ]
    },
    {
      "cell_type": "code",
      "metadata": {
        "colab": {
          "base_uri": "https://localhost:8080/"
        },
        "id": "q8yozto7mOKz",
        "outputId": "6473de75-5dd8-45b8-e2a3-eb0f9ef23a0e"
      },
      "source": [
        "X_train, X_test, y_train, y_test = train_test_split(X_scale, Y, test_size=0.3, random_state=1)\n",
        "print(X_train.shape, X_test.shape, y_train.shape, y_test.shape)"
      ],
      "execution_count": 5,
      "outputs": [
        {
          "output_type": "stream",
          "name": "stdout",
          "text": [
            "(1865, 5) (800, 5) (1865, 1) (800, 1)\n"
          ]
        }
      ]
    },
    {
      "cell_type": "markdown",
      "metadata": {
        "id": "CgkjzYQmheUB"
      },
      "source": [
        "B. Split the data in 80,20 for training and testing the model "
      ]
    },
    {
      "cell_type": "code",
      "metadata": {
        "colab": {
          "base_uri": "https://localhost:8080/"
        },
        "id": "miV86CSwhjt3",
        "outputId": "bc7727a3-004c-48ab-d57f-a80f1e53d779"
      },
      "source": [
        "X_train, X_test, y_train, y_test = train_test_split(X, Y, test_size=0.2, random_state=1)\n",
        "print(X_train.shape, X_test.shape, y_train.shape, y_test.shape)"
      ],
      "execution_count": 6,
      "outputs": [
        {
          "output_type": "stream",
          "name": "stdout",
          "text": [
            "(2132, 5) (533, 5) (2132, 1) (533, 1)\n"
          ]
        }
      ]
    },
    {
      "cell_type": "markdown",
      "metadata": {
        "id": "XOQq3SrIiBVo"
      },
      "source": [
        "C. Split the data in 90,10 for training and testing the model "
      ]
    },
    {
      "cell_type": "code",
      "metadata": {
        "colab": {
          "base_uri": "https://localhost:8080/"
        },
        "id": "pDNx6FeziGfn",
        "outputId": "776048eb-1a0d-4c8e-f082-aad171dedcda"
      },
      "source": [
        "X_train, X_test, y_train, y_test = train_test_split(X, Y, test_size=0.1, random_state=1)\n",
        "print(X_train.shape, X_test.shape, y_train.shape, y_test.shape)"
      ],
      "execution_count": 7,
      "outputs": [
        {
          "output_type": "stream",
          "name": "stdout",
          "text": [
            "(2398, 5) (267, 5) (2398, 1) (267, 1)\n"
          ]
        }
      ]
    },
    {
      "cell_type": "markdown",
      "metadata": {
        "id": "zgyzBmnHiJKA"
      },
      "source": [
        "## Step 5: Defining class for optimizing the weight vector w using the stochastic gradient descent.\n",
        "### In stochastic gradient descent algorithm we minimise the true risk by creating a function that calculates the hinge loss for examples and then we update w using the sub gradient.\n",
        "### As hinge loss is given by :\n",
        "## hinge_loss((w, b),(x, y)) = max{0, 1 − y(hw, xi + b)}\n",
        "## Also the gradients are upgraded as:\n",
        "### if(yi<w,xi> > 1) then w=summation(-lambda*yi*xi) and b=0\n",
        "### else w=summation(-lambda*yi*xi)+yi*xi and b=-yi\n",
        "## also we can say that 1/(c) is our lambda regularization paprameter.\n",
        "\n"
      ]
    },
    {
      "cell_type": "code",
      "metadata": {
        "id": "NGifnzNfEFEA"
      },
      "source": [
        "# Defining calss\n",
        "class my_defined_SVM:\n",
        "  # defining constructor and providing the values of parameters\n",
        "  def __init__(self, learning_rate=0.001, lambda_param_for_regularization=0.01, n_iterations=1000):\n",
        "    self.lr = learning_rate\n",
        "    self.lambda_param = lambda_param_for_regularization\n",
        "    self.n = n_iterations\n",
        "    self.w = None\n",
        "    self.b = None\n",
        "  # defining the fit model using stochastic gradient descent\n",
        "  def fit_model(self, X, y):\n",
        "    n_samples, n_features = X.shape\n",
        "    self.w = np.zeros(n_features)\n",
        "    self.b = 0\n",
        "    # iterations for updation of parameters using stochastic gradient descent\n",
        "    for i in range(self.n):\n",
        "      for id,x_i in enumerate(X):\n",
        "        # condition is the for checking the hinge loss\n",
        "        condition = y[id] * (np.dot(x_i, self.w) - self.b) >= 1\n",
        "        if condition:\n",
        "          # updation of w and b using gradient\n",
        "          self.w -= self.lr * (2 * self.lambda_param * self.w)\n",
        "        else:\n",
        "          # updation of w and b using gradient\n",
        "          self.w -= self.lr * (2 * self.lambda_param * self.w - (x_i*y[id]))\n",
        "          self.b -= self.lr * y[id]\n",
        "  # defining the function for predicting the values\n",
        "  def predict(self, X):\n",
        "    product = np.dot(X, self.w) - self.b\n",
        "    return np.sign(product)"
      ],
      "execution_count": 8,
      "outputs": []
    },
    {
      "cell_type": "markdown",
      "metadata": {
        "id": "aJCY02A8nK0F"
      },
      "source": [
        "## Step 6: Creating the model object and passing different values of lambda regularization parameters."
      ]
    },
    {
      "cell_type": "code",
      "metadata": {
        "colab": {
          "base_uri": "https://localhost:8080/"
        },
        "id": "ZWaOI7nyEKOb",
        "outputId": "9366430e-4198-41a7-80cf-06359c15ccd4"
      },
      "source": [
        "# default values of lambda\n",
        "model = my_defined_SVM()\n",
        "model.fit_model(X_train,y_train)\n",
        "print(\"For lambda 0.01\")\n",
        "print(model.w,model.b)\n",
        "\n",
        "# increasing values of lambda\n",
        "model1 = my_defined_SVM(lambda_param_for_regularization=0.1)\n",
        "model1.fit_model(X_train,y_train)\n",
        "print(\"For lambda 0.1\")\n",
        "print(model1.w,model1.b)\n",
        "\n",
        "# decreasing values of lambda\n",
        "model2 = my_defined_SVM(lambda_param_for_regularization=0.001)\n",
        "model2.fit_model(X_train,y_train)\n",
        "print(\"For lambda 0.001\")\n",
        "print(model2.w,model2.b)"
      ],
      "execution_count": 9,
      "outputs": [
        {
          "output_type": "stream",
          "name": "stdout",
          "text": [
            "For lambda 0.01\n",
            "[-8.14644166e+00 -7.01676773e+00  2.55486281e+00  4.06875247e-01\n",
            " -9.92156414e-04] [19.588]\n",
            "For lambda 0.1\n",
            "[-1.16872627e+00 -1.03996127e+00  3.06486128e+00 -9.26646358e-02\n",
            " -1.45262831e-04] [29.191]\n",
            "For lambda 0.001\n",
            "[-3.25625593e+01 -2.25470523e+01  2.57129722e+00  1.35898536e+00\n",
            " -3.56106411e-03] [8.129]\n"
          ]
        }
      ]
    },
    {
      "cell_type": "markdown",
      "metadata": {
        "id": "pDUC3aBjnZDO"
      },
      "source": [
        "## Step 7: Creating target Array and calculating the target values."
      ]
    },
    {
      "cell_type": "code",
      "metadata": {
        "id": "NjmcLnrGVuMd"
      },
      "source": [
        "target = model.predict(X_test)\n",
        "t = model.predict(X_train)\n",
        "\n",
        "target1 = model1.predict(X_test)\n",
        "t1 = model1.predict(X_train)\n",
        "\n",
        "target2 = model2.predict(X_test)\n",
        "t2 = model2.predict(X_train)"
      ],
      "execution_count": 10,
      "outputs": []
    },
    {
      "cell_type": "markdown",
      "metadata": {
        "id": "PFR8-UtNm8SP"
      },
      "source": [
        "## Step 8: Checking for Accuracy. "
      ]
    },
    {
      "cell_type": "code",
      "metadata": {
        "colab": {
          "base_uri": "https://localhost:8080/"
        },
        "id": "Rs7ja6NHm23v",
        "outputId": "ac28c6d9-860c-4250-906b-70ff3c9dc613"
      },
      "source": [
        "v1 = 0  \n",
        "v2 = 0\n",
        "c = 0\n",
        "i=0\n",
        "sv=0\n",
        "for i in range(X_train.shape[0]):\n",
        "  if y_train[i]*(np.dot(X_train[i], model.w) - model.b) >= 1:\n",
        "    sv=sv+1    \n",
        "for c in range( np.size( target ) ) :  \n",
        "  if y_test[c] == target[c] :            \n",
        "    v1 = v1 + 1\n",
        "  c = c + 1\n",
        "for i in range( np.size( t ) ) :\n",
        "  if y_train[i] == t[i] :            \n",
        "    v2 = v2 + 1\n",
        "  i = i + 1\n",
        "print(\"For lambda = 0.01, c=100\")\n",
        "print(\"Accuracy of Defined Model on test data :\",(v1/c)*100)     \n",
        "print(\"Accuracy of Defined Model on train data:\",(v2/i)*100)   "
      ],
      "execution_count": 11,
      "outputs": [
        {
          "output_type": "stream",
          "name": "stdout",
          "text": [
            "For lambda = 0.01, c=100\n",
            "Accuracy of Defined Model on test data : 94.00749063670412\n",
            "Accuracy of Defined Model on train data: 95.7464553794829\n"
          ]
        }
      ]
    },
    {
      "cell_type": "code",
      "metadata": {
        "colab": {
          "base_uri": "https://localhost:8080/"
        },
        "id": "J51P4Y7oyXwz",
        "outputId": "610988b2-10e5-40c9-de53-1d515993dde7"
      },
      "source": [
        "v1 = 0  \n",
        "v2 = 0\n",
        "c = 0\n",
        "i=0\n",
        "sv1=0\n",
        "for i in range(X_train.shape[0]):\n",
        "  if y_train[i]*(np.dot(X_train[i], model1.w) - model1.b) >= 1:\n",
        "    sv1=sv1+1\n",
        "for c in range( np.size( target1 ) ) :  \n",
        "  if y_test[c] == target1[c] :            \n",
        "    v1 = v1 + 1\n",
        "  c = c +1   \n",
        "for i in range( np.size( t1 ) ) :\n",
        "  if y_train[i] == t1[i] :            \n",
        "    v2 = v2 + 1\n",
        "  i = i + 1\n",
        "print(\"For lambda = 0.1, c=10\")\n",
        "print(\"Accuracy of Defined Model on test data :\",(v1/c)*100)     \n",
        "print(\"Accuracy of Defined Model on train data:\",(v2/i)*100)   "
      ],
      "execution_count": 12,
      "outputs": [
        {
          "output_type": "stream",
          "name": "stdout",
          "text": [
            "For lambda = 0.1, c=10\n",
            "Accuracy of Defined Model on test data : 96.25468164794007\n",
            "Accuracy of Defined Model on train data: 97.16430358632194\n"
          ]
        }
      ]
    },
    {
      "cell_type": "code",
      "metadata": {
        "colab": {
          "base_uri": "https://localhost:8080/"
        },
        "id": "MehGvb2oybaS",
        "outputId": "e1d17ed4-469e-4458-f436-9bef5f57bb85"
      },
      "source": [
        "v1 = 0  \n",
        "v2 = 0\n",
        "c = 0\n",
        "i=0\n",
        "sv2=0\n",
        "for i in range(X_train.shape[0]):\n",
        "  if y_train[i]*(np.dot(X_train[i], model2.w) - model2.b) >= 1:\n",
        "    sv2=sv2+1   \n",
        "for c in range( np.size( target2 ) ) :  \n",
        "  if y_test[c] == target2[c] :            \n",
        "    v1 = v1 + 1\n",
        "  c = c +1\n",
        "for i in range( np.size( t2 ) ) :\n",
        "  if y_train[i] == t2[i] :            \n",
        "    v2 = v2 + 1\n",
        "  i = i + 1\n",
        "print(\"For lambda = 0.001, c=1000\")\n",
        "print(\"Accuracy of Defined Model on test data :\",(v1/c)*100)     \n",
        "print(\"Accuracy of Defined Model on train data:\",(v2/i)*100)   "
      ],
      "execution_count": 13,
      "outputs": [
        {
          "output_type": "stream",
          "name": "stdout",
          "text": [
            "For lambda = 0.001, c=1000\n",
            "Accuracy of Defined Model on test data : 94.3820224719101\n",
            "Accuracy of Defined Model on train data: 95.95496246872393\n"
          ]
        }
      ]
    },
    {
      "cell_type": "markdown",
      "metadata": {
        "id": "8ikiv0GFytxN"
      },
      "source": [
        "# Hence we can see different results for different values of regularization factor.\n"
      ]
    }
  ]
}