{
  "nbformat": 4,
  "nbformat_minor": 0,
  "metadata": {
    "colab": {
      "name": "Hard_SVM_Quadratic_Program.ipynb",
      "provenance": []
    },
    "kernelspec": {
      "display_name": "Python 3",
      "name": "python3"
    },
    "language_info": {
      "name": "python"
    }
  },
  "cells": [
    {
      "cell_type": "markdown",
      "metadata": {
        "id": "x1UqBtAvhEHD"
      },
      "source": [
        "# Hard SVM (Support vector machine) using convex Quadratic program \n",
        "\n",
        "## Step 1: Import All required Libraries"
      ]
    },
    {
      "cell_type": "code",
      "metadata": {
        "id": "bDvNdYa9CjLj"
      },
      "source": [
        "import pandas as pd\n",
        "import numpy as np\n",
        "from sklearn.model_selection import train_test_split\n",
        "from sklearn.datasets.samples_generator import make_blobs\n",
        "from cvxopt import matrix as cvxopt_matrix\n",
        "from cvxopt import solvers as cvxopt_solvers\n",
        "import matplotlib.pyplot as plt"
      ],
      "execution_count": 117,
      "outputs": []
    },
    {
      "cell_type": "markdown",
      "metadata": {
        "id": "YwbCo4pnhNcv"
      },
      "source": [
        "## Step 2: Read CSV file (For this i have uploded the file on google colab) "
      ]
    },
    {
      "cell_type": "code",
      "metadata": {
        "colab": {
          "base_uri": "https://localhost:8080/"
        },
        "id": "VKpaEb3HDOUT",
        "outputId": "bab9cf52-abf9-4385-9264-58f5d2f265ed"
      },
      "source": [
        "df = pd.read_csv(\"file.csv\")\n",
        "print(df.head(),df.shape)"
      ],
      "execution_count": 118,
      "outputs": [
        {
          "output_type": "stream",
          "name": "stdout",
          "text": [
            "   Temperature  Humidity       Light         CO2  HumidityRatio  Occupancy\n",
            "0      23.7000    26.272  585.200000  749.200000       0.004764          1\n",
            "1      23.7180    26.290  578.400000  760.400000       0.004773          1\n",
            "2      23.7300    26.230  572.666667  769.666667       0.004765          1\n",
            "3      23.7225    26.125  493.750000  774.750000       0.004744          1\n",
            "4      23.7540    26.200  488.600000  779.000000       0.004767          1 (2665, 6)\n"
          ]
        }
      ]
    },
    {
      "cell_type": "markdown",
      "metadata": {
        "id": "_pqvpAIihVza"
      },
      "source": [
        "## Step 3: Store the features and target in X , Y seperately and since target has value 0,1 change label 0 to -1 "
      ]
    },
    {
      "cell_type": "code",
      "metadata": {
        "colab": {
          "base_uri": "https://localhost:8080/"
        },
        "id": "poQAQWxkDlIQ",
        "outputId": "76b4a2c0-71cf-4758-b388-5564e1b51c20"
      },
      "source": [
        "X = df.iloc[:,:-2].to_numpy()\n",
        "y = df.iloc[:,-1:].to_numpy()\n",
        "print(X.shape,X.flatten())\n",
        "y[y==0]=-1\n",
        "print(y.shape,y.flatten())\n"
      ],
      "execution_count": 119,
      "outputs": [
        {
          "output_type": "stream",
          "name": "stdout",
          "text": [
            "(2665, 4) [[  23.7          26.272       585.2         749.2       ]\n",
            " [  23.718        26.29        578.4         760.4       ]\n",
            " [  23.73         26.23        572.66666667  769.66666667]\n",
            " ...\n",
            " [  24.33         25.7         817.         1125.8       ]\n",
            " [  24.35666667   25.7         813.         1123.        ]\n",
            " [  24.40833333   25.68166667  798.         1124.        ]]\n",
            "(2665, 1) [[1]\n",
            " [1]\n",
            " [1]\n",
            " ...\n",
            " [1]\n",
            " [1]\n",
            " [1]]\n"
          ]
        }
      ]
    },
    {
      "cell_type": "markdown",
      "metadata": {
        "id": "AjSE8T5ihdNM"
      },
      "source": [
        "## Step 4: Processing the Data and Splitting\n"
      ]
    },
    {
      "cell_type": "code",
      "metadata": {
        "colab": {
          "base_uri": "https://localhost:8080/"
        },
        "id": "SZfy-oNAEACo",
        "outputId": "3bf886d4-d6ba-4a8c-de3d-7bbefd34e9a9"
      },
      "source": [
        "from sklearn import preprocessing\n",
        "min_max_scaler = preprocessing.MinMaxScaler()\n",
        "X_scale = min_max_scaler.fit_transform(X)\n",
        "X_scale"
      ],
      "execution_count": 120,
      "outputs": [
        {
          "output_type": "execute_result",
          "data": {
            "text/plain": [
              "array([[0.83168317, 0.44513204, 0.34479305, 0.33003334],\n",
              "       [0.8359604 , 0.44705255, 0.34078657, 0.34152347],\n",
              "       [0.83881188, 0.44065084, 0.33740855, 0.35103018],\n",
              "       ...,\n",
              "       [0.98138614, 0.38410243, 0.48136692, 0.71638882],\n",
              "       [0.98772277, 0.38410243, 0.47901016, 0.71351629],\n",
              "       [1.        , 0.38214635, 0.47017234, 0.71454219]])"
            ]
          },
          "metadata": {},
          "execution_count": 120
        }
      ]
    },
    {
      "cell_type": "markdown",
      "metadata": {
        "id": "vWkz0kv_mRqT"
      },
      "source": [
        "A. Split the data in 70,30 for training and testing the model "
      ]
    },
    {
      "cell_type": "code",
      "metadata": {
        "colab": {
          "base_uri": "https://localhost:8080/"
        },
        "id": "q8yozto7mOKz",
        "outputId": "1a52a9fb-7b8a-487f-d0ce-5cec58cabf37"
      },
      "source": [
        "X_train, X_test, y_train, y_test = train_test_split(X_scale, y, test_size=0.3, random_state=1)\n",
        "print(X_train.shape, X_test.shape, y_train.shape, y_test.shape)"
      ],
      "execution_count": 121,
      "outputs": [
        {
          "output_type": "stream",
          "name": "stdout",
          "text": [
            "(1865, 4) (800, 4) (1865, 1) (800, 1)\n"
          ]
        }
      ]
    },
    {
      "cell_type": "markdown",
      "metadata": {
        "id": "CgkjzYQmheUB"
      },
      "source": [
        "B. Split the data in 80,20 for training and testing the model "
      ]
    },
    {
      "cell_type": "code",
      "metadata": {
        "id": "miV86CSwhjt3",
        "colab": {
          "base_uri": "https://localhost:8080/"
        },
        "outputId": "38fd7acb-7d9c-44da-dc87-244a205949eb"
      },
      "source": [
        "X_train, X_test, y_train, y_test = train_test_split(X_scale, y, test_size=0.2, random_state=1)\n",
        "print(X_train.shape, X_test.shape, y_train.shape, y_test.shape)"
      ],
      "execution_count": 122,
      "outputs": [
        {
          "output_type": "stream",
          "name": "stdout",
          "text": [
            "(2132, 4) (533, 4) (2132, 1) (533, 1)\n"
          ]
        }
      ]
    },
    {
      "cell_type": "markdown",
      "metadata": {
        "id": "XOQq3SrIiBVo"
      },
      "source": [
        "C. Split the data in 90,10 for training and testing the model "
      ]
    },
    {
      "cell_type": "code",
      "metadata": {
        "id": "pDNx6FeziGfn",
        "colab": {
          "base_uri": "https://localhost:8080/"
        },
        "outputId": "bcf9076c-21df-4974-e387-85e9c18e3b24"
      },
      "source": [
        "X_train, X_test, y_train, y_test = train_test_split(X_scale, y, test_size=0.1, random_state=1)\n",
        "print(X_train.shape, X_test.shape, y_train.shape, y_test.shape)"
      ],
      "execution_count": 123,
      "outputs": [
        {
          "output_type": "stream",
          "name": "stdout",
          "text": [
            "(2398, 4) (267, 4) (2398, 1) (267, 1)\n"
          ]
        }
      ]
    },
    {
      "cell_type": "markdown",
      "metadata": {
        "id": "zgyzBmnHiJKA"
      },
      "source": [
        "## Step 5: Optimizing the weight vector w using the cvxopt_solvers.\n",
        "### Create H where Hi,j=y(i)y(j)<x(i)x(j)>\n",
        "### Calculate w=∑y(i)α(i)x(i)\n",
        "### Determine the set of support vectors S by finding the indices such that αi>0\n",
        "### For each new point x′ classify according to y′=sign(wTx′+b)\n",
        "### as this is hard svm there is no need for y*alpha=0"
      ]
    },
    {
      "cell_type": "code",
      "metadata": {
        "id": "NGifnzNfEFEA"
      },
      "source": [
        "# Initializing values of m,n and computing gram matrix.\n",
        "samples,features = X_train.shape\n",
        "y_train = y_train.reshape(-1,1)\n",
        "H = np.dot((y_train*X_train),(y_train*X_train).T)\n",
        "\n",
        "# Converting into cvxopt format\n",
        "P = cvxopt_matrix(H)\n",
        "q = cvxopt_matrix(np.repeat([-1.0], samples)[..., None])\n",
        "G = cvxopt_matrix(np.negative(np.eye(samples)))\n",
        "h = cvxopt_matrix(np.zeros(samples))\n",
        "A = cvxopt_matrix(y_train.reshape(1, -1)*1.0)\n",
        "b = cvxopt_matrix(0.0)\n",
        "cvxopt_solvers.options['show_progress']=False"
      ],
      "execution_count": 133,
      "outputs": []
    },
    {
      "cell_type": "markdown",
      "metadata": {
        "id": "aJCY02A8nK0F"
      },
      "source": [
        "## Step 6: Running the solver and printing the values of solution "
      ]
    },
    {
      "cell_type": "code",
      "metadata": {
        "colab": {
          "base_uri": "https://localhost:8080/"
        },
        "id": "QMf8dOL4tPcs",
        "outputId": "008f6db3-e51b-4b2f-ecb3-2e18cbeea8a2"
      },
      "source": [
        "sol = cvxopt_solvers.qp(P, q, G, h, A, b)\n",
        "alphas = np.array(sol['x'])\n",
        "print(sol,alphas.flatten()) "
      ],
      "execution_count": 134,
      "outputs": [
        {
          "output_type": "stream",
          "name": "stdout",
          "text": [
            "{'x': <2398x1 matrix, tc='d'>, 'y': <1x1 matrix, tc='d'>, 's': <2398x1 matrix, tc='d'>, 'z': <2398x1 matrix, tc='d'>, 'status': 'unknown', 'gap': 260971874.9584264, 'relative gap': 0.00023825117631605714, 'primal objective': -1095364476237.5847, 'dual objective': -1095625448111.9617, 'primal infeasibility': 71.1386676051738, 'dual infeasibility': 1.0002827724635441, 'primal slack': 13373.10587901375, 'dual slack': 5.93557280433168e-07, 'iterations': 18} [1.31931387e+06 5.43512248e+08 1.19376018e+08 ... 2.12531653e+08\n",
            " 5.75481447e+07 2.28620974e+08]\n"
          ]
        }
      ]
    },
    {
      "cell_type": "markdown",
      "metadata": {
        "id": "iEPrvYy8O_Dr"
      },
      "source": [
        "## Calculating W and b Displaying results"
      ]
    },
    {
      "cell_type": "code",
      "metadata": {
        "colab": {
          "base_uri": "https://localhost:8080/"
        },
        "id": "wj0UDZLKFSpe",
        "outputId": "4f9490c3-c869-4e32-a6ef-dd5f39df7c66"
      },
      "source": [
        "# w parameter using alphas \n",
        "w = np.dot((y_train * alphas).T,X_train)[0]\n",
        "\n",
        "# Selecting the set of indices S corresponding to non zero parameters\n",
        "S = (alphas > 1e-4).flatten()\n",
        "\n",
        "#Computing b of non zero paprameters\n",
        "b = y_train[S] - np.dot(X_train[S], w.reshape(-1,1))\n",
        "b = sum(b)/len(b)\n",
        "\n",
        "# Display results\n",
        "print('Alphas = ',alphas[alphas > 1e-4])\n",
        "print('w = ', w.flatten())\n",
        "print('b = ', b)"
      ],
      "execution_count": 135,
      "outputs": [
        {
          "output_type": "stream",
          "name": "stdout",
          "text": [
            "Alphas =  [1.31931387e+06 5.43512248e+08 1.19376018e+08 ... 2.12531653e+08\n",
            " 5.75481447e+07 2.28620974e+08]\n",
            "w =  [-2.78472900e-04 -1.83105469e-04 -3.81469727e-05  8.39233398e-05]\n",
            "b =  [-0.26926671]\n"
          ]
        }
      ]
    },
    {
      "cell_type": "markdown",
      "metadata": {
        "id": "49m5VMNgjuA3"
      },
      "source": [
        "## Printing all support vectors"
      ]
    },
    {
      "cell_type": "code",
      "metadata": {
        "colab": {
          "base_uri": "https://localhost:8080/"
        },
        "id": "gCpFNPQWjR8I",
        "outputId": "6a95048b-c377-402c-a2d2-abd5f5c5d60b"
      },
      "source": [
        "X_Support_vectors = X_train[S]\n",
        "y_support_vectors = y_train[S]\n",
        "print(alphas,'\\n',\"Support vectors are : = \",X_Support_vectors,'\\n','\\n',\"Number of Support vectors are: \",len(X_Support_vectors))"
      ],
      "execution_count": 136,
      "outputs": [
        {
          "output_type": "stream",
          "name": "stdout",
          "text": [
            "[[1.31931387e+06]\n",
            " [5.43512248e+08]\n",
            " [1.19376018e+08]\n",
            " ...\n",
            " [2.12531653e+08]\n",
            " [5.75481447e+07]\n",
            " [2.28620974e+08]] \n",
            " Support vectors are : =  [[0.0950495  0.24433182 0.         0.04180559]\n",
            " [0.63920792 0.58682315 0.25497128 0.6320595 ]\n",
            " [0.04514851 0.04267805 0.         0.00769428]\n",
            " ...\n",
            " [0.14019802 0.28700987 0.25511857 0.25151748]\n",
            " [0.48237624 0.28736552 0.         0.34444729]\n",
            " [0.07128713 0.22192585 0.24286346 0.11644011]] \n",
            " \n",
            " Number of Support vectors are:  2398\n"
          ]
        }
      ]
    },
    {
      "cell_type": "markdown",
      "metadata": {
        "id": "pDUC3aBjnZDO"
      },
      "source": [
        "## Step 7: Creating target Array and calculating the target values."
      ]
    },
    {
      "cell_type": "code",
      "metadata": {
        "id": "NjmcLnrGVuMd"
      },
      "source": [
        "target = np.where(np.dot(X_test,w)+b>=0.0,1,-1)\n",
        "t = np.where(np.dot(X_train,w)+b>=0.0,1,-1)"
      ],
      "execution_count": 137,
      "outputs": []
    },
    {
      "cell_type": "markdown",
      "metadata": {
        "id": "PFR8-UtNm8SP"
      },
      "source": [
        "## Step 8: Checking for Accuracy. "
      ]
    },
    {
      "cell_type": "code",
      "metadata": {
        "colab": {
          "base_uri": "https://localhost:8080/"
        },
        "id": "Rs7ja6NHm23v",
        "outputId": "42da562d-fbdf-4816-b469-e088dfcbc2b2"
      },
      "source": [
        "v1 = 0  \n",
        "v2 = 0\n",
        "c = 0\n",
        "i=0    \n",
        "for c in range( np.size( target ) ) :  \n",
        "  if y_test[c] == target[c] :            \n",
        "    v1 = v1 + 1\n",
        "for i in range( np.size( t ) ) :\n",
        "  if y_train[i] == t[i] :            \n",
        "    v2 = v2 + 1\n",
        "  i = i + 1\n",
        "print(\"Accuracy of Defined Model on test data :\",(v1/c)*100)     \n",
        "print(\"Accuracy of Defined Model on train data:\",(v2/i)*100)   "
      ],
      "execution_count": 138,
      "outputs": [
        {
          "output_type": "stream",
          "name": "stdout",
          "text": [
            "Accuracy of Defined Model on test data : 64.28571428571429\n",
            "Accuracy of Defined Model on train data: 63.46955796497081\n"
          ]
        }
      ]
    }
  ]
}