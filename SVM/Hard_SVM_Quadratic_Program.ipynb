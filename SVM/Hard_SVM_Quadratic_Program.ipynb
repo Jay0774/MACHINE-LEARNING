{
  "nbformat": 4,
  "nbformat_minor": 0,
  "metadata": {
    "colab": {
      "name": "Hard_SVM_Quadratic_Program.ipynb",
      "provenance": []
    },
    "kernelspec": {
      "display_name": "Python 3",
      "name": "python3"
    },
    "language_info": {
      "name": "python"
    }
  },
  "cells": [
    {
      "cell_type": "markdown",
      "metadata": {
        "id": "x1UqBtAvhEHD"
      },
      "source": [
        "# Hard SVM (Support vector machine) using convex Quadratic program \n",
        "\n",
        "## Step 1: Import All required Libraries"
      ]
    },
    {
      "cell_type": "code",
      "metadata": {
        "id": "bDvNdYa9CjLj"
      },
      "source": [
        "import pandas as pd\n",
        "import numpy as np\n",
        "from sklearn.model_selection import train_test_split\n",
        "from sklearn.datasets.samples_generator import make_blobs\n",
        "from cvxopt import matrix as cvxopt_matrix\n",
        "from cvxopt import solvers as cvxopt_solvers\n",
        "import matplotlib.pyplot as plt"
      ],
      "execution_count": 61,
      "outputs": []
    },
    {
      "cell_type": "markdown",
      "metadata": {
        "id": "YwbCo4pnhNcv"
      },
      "source": [
        "## Step 2: Read CSV file (For this i have uploded the file on google colab) "
      ]
    },
    {
      "cell_type": "code",
      "metadata": {
        "colab": {
          "base_uri": "https://localhost:8080/"
        },
        "id": "VKpaEb3HDOUT",
        "outputId": "8a560e5f-ac40-45fa-ceb6-636752204f38"
      },
      "source": [
        "df = pd.read_csv(\"file.csv\")\n",
        "print(df.head(),df.shape)"
      ],
      "execution_count": 62,
      "outputs": [
        {
          "output_type": "stream",
          "name": "stdout",
          "text": [
            "   Temperature  Humidity       Light         CO2  HumidityRatio  Occupancy\n",
            "0      23.7000    26.272  585.200000  749.200000       0.004764          1\n",
            "1      23.7180    26.290  578.400000  760.400000       0.004773          1\n",
            "2      23.7300    26.230  572.666667  769.666667       0.004765          1\n",
            "3      23.7225    26.125  493.750000  774.750000       0.004744          1\n",
            "4      23.7540    26.200  488.600000  779.000000       0.004767          1 (2665, 6)\n"
          ]
        }
      ]
    },
    {
      "cell_type": "markdown",
      "metadata": {
        "id": "_pqvpAIihVza"
      },
      "source": [
        "## Step 3: Store the features and target in X , Y seperately and since target has value 0,1 change label 0 to -1 "
      ]
    },
    {
      "cell_type": "code",
      "metadata": {
        "colab": {
          "base_uri": "https://localhost:8080/"
        },
        "id": "poQAQWxkDlIQ",
        "outputId": "48ebfb85-d478-43d2-d9da-a6c0f3f3c4d1"
      },
      "source": [
        "X = df.iloc[:,:-2].to_numpy()\n",
        "y = df.iloc[:,-1:].to_numpy()\n",
        "print(X.shape,X.flatten())\n",
        "y[y==0]=-1\n",
        "print(y.shape,y.flatten())\n"
      ],
      "execution_count": 63,
      "outputs": [
        {
          "output_type": "stream",
          "name": "stdout",
          "text": [
            "(2665, 4) [  23.7          26.272       585.2        ...   25.68166667  798.\n",
            " 1124.        ]\n",
            "(2665, 1) [1 1 1 ... 1 1 1]\n"
          ]
        }
      ]
    },
    {
      "cell_type": "markdown",
      "metadata": {
        "id": "AjSE8T5ihdNM"
      },
      "source": [
        "## Step 4: Processing the Data and Splitting\n"
      ]
    },
    {
      "cell_type": "code",
      "metadata": {
        "colab": {
          "base_uri": "https://localhost:8080/"
        },
        "id": "SZfy-oNAEACo",
        "outputId": "bc93fdf5-3647-4629-d5a7-c630a89522fb"
      },
      "source": [
        "from sklearn import preprocessing\n",
        "min_max_scaler = preprocessing.MinMaxScaler()\n",
        "X_scale = min_max_scaler.fit_transform(X)\n",
        "X_scale"
      ],
      "execution_count": 64,
      "outputs": [
        {
          "output_type": "execute_result",
          "data": {
            "text/plain": [
              "array([[0.83168317, 0.44513204, 0.34479305, 0.33003334],\n",
              "       [0.8359604 , 0.44705255, 0.34078657, 0.34152347],\n",
              "       [0.83881188, 0.44065084, 0.33740855, 0.35103018],\n",
              "       ...,\n",
              "       [0.98138614, 0.38410243, 0.48136692, 0.71638882],\n",
              "       [0.98772277, 0.38410243, 0.47901016, 0.71351629],\n",
              "       [1.        , 0.38214635, 0.47017234, 0.71454219]])"
            ]
          },
          "metadata": {},
          "execution_count": 64
        }
      ]
    },
    {
      "cell_type": "markdown",
      "metadata": {
        "id": "vWkz0kv_mRqT"
      },
      "source": [
        "A. Split the data in 70,30 for training and testing the model "
      ]
    },
    {
      "cell_type": "code",
      "metadata": {
        "colab": {
          "base_uri": "https://localhost:8080/"
        },
        "id": "q8yozto7mOKz",
        "outputId": "874016d5-e76a-4e40-c2f1-adfb67e193f9"
      },
      "source": [
        "X_train, X_test, y_train, y_test = train_test_split(X_scale, y, test_size=0.3, random_state=1)\n",
        "print(X_train.shape, X_test.shape, y_train.shape, y_test.shape)"
      ],
      "execution_count": 65,
      "outputs": [
        {
          "output_type": "stream",
          "name": "stdout",
          "text": [
            "(1865, 4) (800, 4) (1865, 1) (800, 1)\n"
          ]
        }
      ]
    },
    {
      "cell_type": "markdown",
      "metadata": {
        "id": "CgkjzYQmheUB"
      },
      "source": [
        "B. Split the data in 80,20 for training and testing the model "
      ]
    },
    {
      "cell_type": "code",
      "metadata": {
        "id": "miV86CSwhjt3",
        "colab": {
          "base_uri": "https://localhost:8080/"
        },
        "outputId": "f0fa9e04-7320-4257-d419-7545aee32096"
      },
      "source": [
        "X_train, X_test, y_train, y_test = train_test_split(X_scale, y, test_size=0.2, random_state=1)\n",
        "print(X_train.shape, X_test.shape, y_train.shape, y_test.shape)"
      ],
      "execution_count": 66,
      "outputs": [
        {
          "output_type": "stream",
          "name": "stdout",
          "text": [
            "(2132, 4) (533, 4) (2132, 1) (533, 1)\n"
          ]
        }
      ]
    },
    {
      "cell_type": "markdown",
      "metadata": {
        "id": "XOQq3SrIiBVo"
      },
      "source": [
        "C. Split the data in 90,10 for training and testing the model "
      ]
    },
    {
      "cell_type": "code",
      "metadata": {
        "id": "pDNx6FeziGfn",
        "colab": {
          "base_uri": "https://localhost:8080/"
        },
        "outputId": "2b452505-97d2-4901-81d7-85d4398ebd35"
      },
      "source": [
        "X_train, X_test, y_train, y_test = train_test_split(X_scale, y, test_size=0.1, random_state=1)\n",
        "print(X_train.shape, X_test.shape, y_train.shape, y_test.shape)"
      ],
      "execution_count": 67,
      "outputs": [
        {
          "output_type": "stream",
          "name": "stdout",
          "text": [
            "(2398, 4) (267, 4) (2398, 1) (267, 1)\n"
          ]
        }
      ]
    },
    {
      "cell_type": "markdown",
      "metadata": {
        "id": "zgyzBmnHiJKA"
      },
      "source": [
        "## Step 5: Optimizing the weight vector w using the cvxopt_solvers.\n",
        "### Create H where Hi,j=y(i)y(j)<x(i)x(j)>\n",
        "### Calculate w=∑y(i)α(i)x(i)\n",
        "### Determine the set of support vectors S by finding the indices such that αi>0\n",
        "### For each new point x′ classify according to y′=sign(wTx′+b)"
      ]
    },
    {
      "cell_type": "code",
      "metadata": {
        "id": "NGifnzNfEFEA"
      },
      "source": [
        "# Initializing values of m,n and computing gram matrix.\n",
        "samples,features = X_train.shape\n",
        "y_train = y_train.reshape(-1,1)\n",
        "H = np.dot((y_train*X_train),(y_train*X_train).T)\n",
        "\n",
        "# Converting into cvxopt format\n",
        "P = cvxopt_matrix(H)\n",
        "q = cvxopt_matrix(np.repeat([-1.0], samples)[..., None])\n",
        "G = cvxopt_matrix(np.negative(np.eye(samples)))\n",
        "h = cvxopt_matrix(np.zeros(samples))\n",
        "A = cvxopt_matrix(y_train.reshape(1, -1)*1.0)\n",
        "b = cvxopt_matrix(0.0)\n",
        "cvxopt_solvers.options['show_progress']=False"
      ],
      "execution_count": 68,
      "outputs": []
    },
    {
      "cell_type": "markdown",
      "metadata": {
        "id": "aJCY02A8nK0F"
      },
      "source": [
        "## Step 6: Running the solver and printing the values of solution "
      ]
    },
    {
      "cell_type": "code",
      "metadata": {
        "colab": {
          "base_uri": "https://localhost:8080/"
        },
        "id": "QMf8dOL4tPcs",
        "outputId": "76a3e136-943c-492e-8e20-2d6434151e9d"
      },
      "source": [
        "sol = cvxopt_solvers.qp(P, q, G, h, A, b)\n",
        "alphas = np.array(sol['x'])\n",
        "print(sol,alphas.flatten()) "
      ],
      "execution_count": 69,
      "outputs": [
        {
          "output_type": "stream",
          "name": "stdout",
          "text": [
            "{'x': <2398x1 matrix, tc='d'>, 'y': <1x1 matrix, tc='d'>, 's': <2398x1 matrix, tc='d'>, 'z': <2398x1 matrix, tc='d'>, 'status': 'unknown', 'gap': 260971874.9584264, 'relative gap': 0.00023825117631605714, 'primal objective': -1095364476237.5847, 'dual objective': -1095625448111.9617, 'primal infeasibility': 71.1386676051738, 'dual infeasibility': 1.0002827724635441, 'primal slack': 13373.10587901375, 'dual slack': 5.93557280433168e-07, 'iterations': 18} [1.31931387e+06 5.43512248e+08 1.19376018e+08 ... 2.12531653e+08\n",
            " 5.75481447e+07 2.28620974e+08]\n"
          ]
        }
      ]
    },
    {
      "cell_type": "markdown",
      "metadata": {
        "id": "iEPrvYy8O_Dr"
      },
      "source": [
        "## Calculating W and b Displaying results"
      ]
    },
    {
      "cell_type": "code",
      "metadata": {
        "colab": {
          "base_uri": "https://localhost:8080/"
        },
        "id": "wj0UDZLKFSpe",
        "outputId": "06b7a559-c292-487b-c2de-c8a46156c4ac"
      },
      "source": [
        "# w parameter using alphas \n",
        "w = np.dot((y_train * alphas).T,X_train)[0]\n",
        "\n",
        "# Selecting the set of indices S corresponding to non zero parameters\n",
        "S = (alphas > 1e-4).flatten()\n",
        "\n",
        "#Computing b of non zero paprameters\n",
        "b = y_train[S] - np.dot(X_train[S], w.reshape(-1,1))\n",
        "b = sum(b)/len(b)\n",
        "\n",
        "# Display results\n",
        "print('Alphas = ',alphas[alphas > 1e-4])\n",
        "print('w = ', w.flatten())\n",
        "print('b = ', b)"
      ],
      "execution_count": 70,
      "outputs": [
        {
          "output_type": "stream",
          "name": "stdout",
          "text": [
            "Alphas =  [1.31931387e+06 5.43512248e+08 1.19376018e+08 ... 2.12531653e+08\n",
            " 5.75481447e+07 2.28620974e+08]\n",
            "w =  [-2.78472900e-04 -1.83105469e-04 -3.81469727e-05  8.39233398e-05]\n",
            "b =  [-0.26926671]\n"
          ]
        }
      ]
    },
    {
      "cell_type": "markdown",
      "metadata": {
        "id": "49m5VMNgjuA3"
      },
      "source": [
        "## Printing all support vectors"
      ]
    },
    {
      "cell_type": "code",
      "metadata": {
        "colab": {
          "base_uri": "https://localhost:8080/"
        },
        "id": "gCpFNPQWjR8I",
        "outputId": "60f69b3d-e2d0-42a5-a11b-8bb2b2c69f43"
      },
      "source": [
        "X_Support_vectors = X_train[S]\n",
        "y_support_vectors = y_train[S]\n",
        "print(alphas,'\\n',\"Support vectors are : = \",X_Support_vectors,'\\n','\\n',\"Number of Support vectors are: \",len(X_Support_vectors))"
      ],
      "execution_count": 71,
      "outputs": [
        {
          "output_type": "stream",
          "name": "stdout",
          "text": [
            "[[1.31931387e+06]\n",
            " [5.43512248e+08]\n",
            " [1.19376018e+08]\n",
            " ...\n",
            " [2.12531653e+08]\n",
            " [5.75481447e+07]\n",
            " [2.28620974e+08]] \n",
            " Support vectors are : =  [[0.0950495  0.24433182 0.         0.04180559]\n",
            " [0.63920792 0.58682315 0.25497128 0.6320595 ]\n",
            " [0.04514851 0.04267805 0.         0.00769428]\n",
            " ...\n",
            " [0.14019802 0.28700987 0.25511857 0.25151748]\n",
            " [0.48237624 0.28736552 0.         0.34444729]\n",
            " [0.07128713 0.22192585 0.24286346 0.11644011]] \n",
            " \n",
            " Number of Support vectors are:  2398\n"
          ]
        }
      ]
    },
    {
      "cell_type": "markdown",
      "metadata": {
        "id": "pDUC3aBjnZDO"
      },
      "source": [
        "## Step 7: Creating target Array and calculating the target values."
      ]
    },
    {
      "cell_type": "code",
      "metadata": {
        "id": "NjmcLnrGVuMd"
      },
      "source": [
        "target = np.where(np.dot(X_test,w)+b>=0.0,1,-1)\n",
        "t = np.where(np.dot(X_train,w)+b>=0.0,1,-1)"
      ],
      "execution_count": 72,
      "outputs": []
    },
    {
      "cell_type": "markdown",
      "metadata": {
        "id": "PFR8-UtNm8SP"
      },
      "source": [
        "## Step 8: Checking for Accuracy. "
      ]
    },
    {
      "cell_type": "code",
      "metadata": {
        "colab": {
          "base_uri": "https://localhost:8080/"
        },
        "id": "Rs7ja6NHm23v",
        "outputId": "800e7c57-9626-44b8-bdbf-4ab23a85f4a8"
      },
      "source": [
        "v1 = 0  \n",
        "v2 = 0\n",
        "c = 0\n",
        "i=0    \n",
        "for c in range( np.size( target ) ) :  \n",
        "  if y_test[c] == target[c] :            \n",
        "    v1 = v1 + 1\n",
        "  c = c + 1\n",
        "for i in range( np.size( t ) ) :\n",
        "  if y_train[i] == t[i] :            \n",
        "    v2 = v2 + 1\n",
        "  i = i + 1\n",
        "print(\"Accuracy of Defined Model on test data :\",(v1/c)*100)     \n",
        "print(\"Accuracy of Defined Model on train data:\",(v2/i)*100)   "
      ],
      "execution_count": 73,
      "outputs": [
        {
          "output_type": "stream",
          "name": "stdout",
          "text": [
            "Accuracy of Defined Model on test data : 64.04494382022472\n",
            "Accuracy of Defined Model on train data: 63.46955796497081\n"
          ]
        }
      ]
    },
    {
      "cell_type": "markdown",
      "metadata": {
        "id": "-EJQ-NeWRdkc"
      },
      "source": [
        "## For Any randomly generated Linear separable data"
      ]
    },
    {
      "cell_type": "code",
      "metadata": {
        "colab": {
          "base_uri": "https://localhost:8080/",
          "height": 299
        },
        "id": "P_bdFdd6Rc-M",
        "outputId": "964d2da0-182b-4843-fdc0-314c50e8051d"
      },
      "source": [
        "# geberating linearly separable data.\n",
        "x, y = make_blobs(n_samples = 1000, centers = 2, random_state = 0, cluster_std = 0.50)\n",
        "y[y==0]=-1\n",
        "# changeing some points to irregular or impurities\n",
        "for i in range(len(y)):\n",
        "  if y[i] == -1 :\n",
        "    y[i]=1\n",
        "  else:\n",
        "    y[i]=-1\n",
        "  i=i**2\n",
        "# pre processing the data\n",
        "from sklearn import preprocessing\n",
        "min_max_scaler = preprocessing.MinMaxScaler()\n",
        "x_scale = min_max_scaler.fit_transform(x)\n",
        "x_scale\n",
        "X_train, X_test, y_train, y_test = train_test_split(x_scale, y, test_size=0.3, random_state=1)\n",
        "print(X_train.shape, X_test.shape, y_train.shape, y_test.shape)\n",
        "# plotting the data\n",
        "plt.scatter(x_scale[:, 0], x_scale[:, 1], c = y, s = 50)"
      ],
      "execution_count": 85,
      "outputs": [
        {
          "output_type": "stream",
          "name": "stdout",
          "text": [
            "(700, 2) (300, 2) (700,) (300,)\n"
          ]
        },
        {
          "output_type": "execute_result",
          "data": {
            "text/plain": [
              "<matplotlib.collections.PathCollection at 0x7fea6c903bd0>"
            ]
          },
          "metadata": {},
          "execution_count": 85
        },
        {
          "output_type": "display_data",
          "data": {
            "image/png": "[encoded data removed]",
            "text/plain": [
              "<Figure size 432x288 with 1 Axes>"
            ]
          },
          "metadata": {
            "needs_background": "light"
          }
        }
      ]
    },
    {
      "cell_type": "code",
      "metadata": {
        "id": "8EYx6P5bTsjr"
      },
      "source": [
        "# Initializing values of m,n and computing gram matrix.\n",
        "samples,features = X_train.shape\n",
        "y_train = y_train.reshape(-1,1)\n",
        "H = np.dot((y_train*X_train),(y_train*X_train).T)\n",
        "\n",
        "# Converting into cvxopt format\n",
        "P = cvxopt_matrix(H)\n",
        "q = cvxopt_matrix(np.repeat([-1.0], samples)[..., None])\n",
        "G = cvxopt_matrix(np.negative(np.eye(samples)))\n",
        "h = cvxopt_matrix(np.zeros(samples))\n",
        "A = cvxopt_matrix(y_train.reshape(1, -1)*1.0)\n",
        "b = cvxopt_matrix(0.0)\n",
        "cvxopt_solvers.options['show_progress']=True"
      ],
      "execution_count": 86,
      "outputs": []
    },
    {
      "cell_type": "code",
      "metadata": {
        "colab": {
          "base_uri": "https://localhost:8080/"
        },
        "id": "f4MpcdWHTww6",
        "outputId": "ccaf5d00-be7a-424f-d960-993534ecdc69"
      },
      "source": [
        "sol = cvxopt_solvers.qp(P, q, G, h, A, b)\n",
        "alphas = np.array(sol['x'])\n",
        "print(sol,alphas.flatten()) "
      ],
      "execution_count": 87,
      "outputs": [
        {
          "output_type": "stream",
          "name": "stdout",
          "text": [
            "     pcost       dcost       gap    pres   dres\n",
            " 0: -5.2785e+01 -1.1052e+02  2e+03  4e+01  2e+00\n",
            " 1: -4.8873e+01 -7.4035e+01  7e+02  1e+01  7e-01\n",
            " 2: -8.1421e+01 -1.0235e+02  6e+02  1e+01  5e-01\n",
            " 3: -2.4338e+02 -1.8213e+02  5e+02  6e+00  3e-01\n",
            " 4: -1.2688e+02 -1.2851e+02  7e+01  7e-01  3e-02\n",
            " 5: -1.1642e+02 -1.1689e+02  1e+00  1e-02  4e-04\n",
            " 6: -1.1663e+02 -1.1666e+02  1e-01  7e-04  3e-05\n",
            " 7: -1.1666e+02 -1.1666e+02  3e-03  1e-05  5e-07\n",
            " 8: -1.1666e+02 -1.1666e+02  3e-05  1e-07  5e-09\n",
            " 9: -1.1666e+02 -1.1666e+02  3e-07  1e-09  5e-11\n",
            "Optimal solution found.\n",
            "{'x': <700x1 matrix, tc='d'>, 'y': <1x1 matrix, tc='d'>, 's': <700x1 matrix, tc='d'>, 'z': <700x1 matrix, tc='d'>, 'status': 'optimal', 'gap': 2.622020560297984e-07, 'relative gap': 2.247617083864587e-09, 'primal objective': -116.65779634445748, 'dual objective': -116.65779649042895, 'primal infeasibility': 1.2197578211673499e-09, 'dual infeasibility': 5.3966335828080824e-11, 'primal slack': 5.3310323501099204e-11, 'dual slack': 2.5696432386138877e-11, 'iterations': 9} [3.16080842e-11 4.85492476e-11 2.29400972e-11 3.77300439e-11\n",
            " 1.68054952e-11 4.34505767e-11 6.09955223e-11 4.95582164e-11\n",
            " 6.40326862e-11 1.99644857e-11 6.33721137e-11 2.81603610e-11\n",
            " 3.05961409e-11 4.30645417e-11 2.33277709e-11 6.88106535e-11\n",
            " 6.91173724e-11 2.54373980e-11 6.18286098e-11 1.08376799e-10\n",
            " 4.68313529e-11 2.12636925e-11 2.41159880e-11 5.53770357e-11\n",
            " 4.64977758e-11 6.44753687e-11 1.14591460e-10 4.71672574e-11\n",
            " 3.17646180e-11 7.37625684e-11 4.14628667e-11 8.76017910e-12\n",
            " 1.97732215e-11 4.40040460e-11 5.74616290e-11 4.34538499e-11\n",
            " 3.97649393e-11 2.61502765e-11 4.95609752e-11 7.50870030e-11\n",
            " 4.79556652e-11 8.68858636e-11 4.57823339e-11 9.64498553e-11\n",
            " 2.34343589e-11 6.80759844e-11 3.60842865e-11 4.23400896e-11\n",
            " 1.25220865e-10 2.98796204e-11 3.96672945e-11 1.27061233e-11\n",
            " 4.97967367e-11 9.80558447e-11 4.82445325e-11 7.20779036e-12\n",
            " 4.98935192e-11 3.86149529e-11 2.70809924e-11 5.11309756e-11\n",
            " 3.30046299e-11 4.61563470e-11 3.67548895e-11 7.76392127e-11\n",
            " 2.60676401e-11 5.01845571e-11 5.78772921e-11 3.45885193e-11\n",
            " 4.41039118e-11 1.11791293e-10 5.95227349e-11 2.11501237e-11\n",
            " 4.71061285e-11 2.95587847e-11 4.50951386e-11 6.68712551e-11\n",
            " 1.01795344e-10 1.82036907e-11 8.95317465e-11 5.42073414e-11\n",
            " 3.11176456e-10 4.59466664e-11 6.02986559e-11 6.07229611e-11\n",
            " 1.17839409e-11 4.45674958e-11 6.39095008e-11 8.31927116e-11\n",
            " 5.30144688e-11 1.65178896e-11 6.92924871e-11 3.90980159e-11\n",
            " 7.37659831e-11 3.96668087e-11 6.59358705e-11 4.04727976e-11\n",
            " 1.92176301e-10 1.87225247e-11 3.33539306e-11 3.60388645e-11\n",
            " 8.40910980e-11 3.30267203e-11 5.07254582e-11 1.78360351e-11\n",
            " 7.80720257e-11 3.06326135e-11 3.55076647e-11 6.97144112e-11\n",
            " 3.02018135e-11 6.12505473e-11 2.04611072e-11 1.65266552e-11\n",
            " 6.96058016e-11 7.58024359e-11 5.26306914e-11 4.64235076e-11\n",
            " 4.46187900e-11 2.78498124e-11 5.95918234e-11 6.18788571e-11\n",
            " 2.83418235e-11 2.41828083e-11 2.66484550e-11 4.96218364e-11\n",
            " 1.67742947e-10 1.09504242e-10 4.11982620e-11 4.95585182e-11\n",
            " 3.26030427e-11 2.58556385e-11 3.46591552e-11 1.29034713e-10\n",
            " 2.86239642e-11 8.37418630e-11 4.33530448e-11 4.56697604e-11\n",
            " 1.78944795e-11 3.85086974e-11 5.41947652e-11 5.81797720e-11\n",
            " 4.39114054e-11 7.95007285e+01 3.70945213e-11 3.67496391e-11\n",
            " 3.11353264e-11 2.69907762e-11 6.29670059e-11 2.30507140e-10\n",
            " 1.68470303e-11 1.03530471e-10 2.50390713e-11 5.68445361e-11\n",
            " 4.18135211e-11 3.76088083e-11 1.79574334e-11 2.46836127e-11\n",
            " 9.88387075e-11 6.16055356e-11 6.87940921e-11 4.00868465e-11\n",
            " 4.09582558e-11 1.11274033e-11 3.95325444e-11 1.08903173e-10\n",
            " 4.91094763e-11 9.30049905e-11 7.78522551e-11 6.30862755e-11\n",
            " 5.17326718e-11 2.32037304e-11 5.83010788e-11 1.10597626e-10\n",
            " 1.85709827e-11 1.35993193e-10 3.10492057e-11 1.02205290e-11\n",
            " 6.73742875e-11 6.55029349e-11 2.05847260e-11 2.82074807e-11\n",
            " 1.18158996e-10 1.42238842e-11 4.06103199e-11 1.41068754e-10\n",
            " 2.68961962e-11 4.49453628e-11 3.27242699e-11 1.37482441e-11\n",
            " 4.36747950e-11 4.69615275e-11 5.04371933e-11 1.83919352e-11\n",
            " 4.33442034e-11 2.42938399e-10 3.51482915e-11 5.27643121e-11\n",
            " 2.86412051e-11 5.33867454e-11 5.67298982e-11 1.26389436e-10\n",
            " 3.65486438e-11 1.94522784e-11 5.63121826e-11 2.77678131e-11\n",
            " 1.84128329e-11 2.62206924e-11 5.12183618e-11 1.40839191e-11\n",
            " 3.54318144e-11 1.53791134e-11 7.75675785e-11 1.49088139e-11\n",
            " 3.74453649e-11 2.52852777e-11 8.19783057e-11 3.40990140e-11\n",
            " 6.97980129e-11 8.19239069e-11 4.27093768e-11 5.13188750e-11\n",
            " 2.93290342e-11 6.71490724e-11 4.76761109e-11 1.33854313e-10\n",
            " 1.70570502e-11 1.73327154e-11 4.92935191e-11 6.04808342e-11\n",
            " 6.30719999e-11 9.36333753e-11 2.50007152e-11 1.18757661e-10\n",
            " 5.08360074e-11 4.53468615e-11 7.19444266e-11 6.30775284e-11\n",
            " 2.94406156e-11 4.48327662e-11 2.46987445e-11 1.03433067e-10\n",
            " 1.00480405e-10 7.16771989e-11 3.57452780e-11 4.58912696e-11\n",
            " 5.73941609e-11 3.65314395e-11 2.73561307e-11 3.76030578e-11\n",
            " 8.35853441e-11 7.99169563e-11 6.73824718e-11 7.31561945e-11\n",
            " 4.10860233e-11 8.27401349e-11 4.82705791e-11 2.72395428e-11\n",
            " 8.30733079e-11 2.99255985e-11 3.66426571e-11 1.08563744e-10\n",
            " 3.50727743e-11 7.48097111e-11 3.77732225e-11 3.05091534e-11\n",
            " 2.48735116e-11 5.80561556e-11 6.85360679e-11 2.24638708e-10\n",
            " 1.05091161e-11 2.93204100e-11 1.71147910e-10 1.81977902e-11\n",
            " 8.64316330e-11 2.46367575e-11 6.50506259e-11 1.82383792e-11\n",
            " 5.84453307e-11 1.72133475e-11 5.68778508e-11 6.09703786e-11\n",
            " 1.65522426e-10 3.12092827e-11 1.03857523e-10 4.11300976e-11\n",
            " 1.47884391e-11 6.32590204e-11 2.69874512e-11 4.79280583e-11\n",
            " 4.51220620e-11 3.44678359e-11 6.21558008e-11 2.93892521e-11\n",
            " 3.05558650e-11 4.57920198e-11 1.80138791e-11 4.09713226e-11\n",
            " 1.30917318e-10 2.52611982e-11 1.67622953e-11 7.69340065e-11\n",
            " 2.24963149e-11 1.67011532e-10 2.99686211e-11 2.83605450e-11\n",
            " 3.96267006e-11 6.05132076e-11 7.54286014e-11 3.20746365e-11\n",
            " 2.30169798e-11 3.71858848e-11 3.12649213e-11 4.28274719e-11\n",
            " 3.78709625e-11 3.51305054e-11 3.97762842e-11 9.30817247e-11\n",
            " 2.72304155e-11 5.69532590e-11 3.90059628e-11 5.85717847e-11\n",
            " 4.35518481e-11 6.14697840e-11 3.91166706e-11 5.93605899e-11\n",
            " 8.87904849e-12 4.44040308e-11 1.18910584e-10 4.33233143e-11\n",
            " 1.01945724e-10 2.78151667e-11 2.23678467e-11 1.57813157e-10\n",
            " 3.74055521e-11 3.18803825e-11 2.21421886e-10 4.88606825e-11\n",
            " 2.92292279e-11 4.72422971e-11 7.42198877e-11 6.28903059e-11\n",
            " 4.47781898e-11 2.72842237e-11 8.80567406e-11 2.29165423e-11\n",
            " 8.51058772e-11 1.36198046e-10 3.41930949e-11 5.36839088e-11\n",
            " 2.83508329e-11 5.29254522e-11 3.04651419e-11 2.66781282e-11\n",
            " 3.16018455e-11 2.81160470e-11 8.20978085e-11 1.99274653e-11\n",
            " 8.44337490e-11 6.62832143e-11 4.39565430e-10 4.89302812e-11\n",
            " 7.18791657e-11 4.94556615e-11 9.01083140e-11 7.41879953e-11\n",
            " 9.36387163e-11 4.25912102e-11 3.89073200e-11 2.16124756e-11\n",
            " 5.42020487e-11 3.48432666e-11 3.00467778e-10 8.25273576e-11\n",
            " 7.52799344e-11 7.94938202e-11 3.19344668e-11 1.27367471e-10\n",
            " 9.40293170e-11 4.20518597e-11 1.84901828e-10 4.72719720e-11\n",
            " 4.64112485e-11 8.12380968e-11 4.01919601e-11 1.71458183e-11\n",
            " 5.53605372e-11 2.32069027e-11 3.41328314e-11 1.22192198e-10\n",
            " 7.79565940e-11 4.73524633e-11 5.65745759e-11 3.58371659e-11\n",
            " 4.86909730e-11 3.43005995e-10 4.81178491e-11 4.74852086e-11\n",
            " 2.19305823e-11 7.89485369e-11 2.16727302e-11 6.43552254e-11\n",
            " 3.51105461e-11 4.50027130e-11 3.97394801e-11 2.45633614e-11\n",
            " 6.42021256e-11 1.48940284e-11 2.14847713e-11 5.33189241e-11\n",
            " 1.72394075e-11 4.78428093e-11 6.30018043e-11 3.05081622e-11\n",
            " 1.55972029e-11 3.75493782e-11 1.49645242e-10 2.17350453e-11\n",
            " 4.78271629e-11 4.26422748e-11 2.99537660e-11 7.90719139e-11\n",
            " 2.01097662e-11 5.35472853e-11 5.28015290e-11 1.90779440e-10\n",
            " 3.75953159e-11 7.35291712e-11 6.13382755e-11 4.79431183e-11\n",
            " 4.21854857e-11 2.85723706e-11 9.30802226e-11 3.45183856e-11\n",
            " 3.01138132e-11 4.71733471e-11 2.04814522e-11 1.19852209e-10\n",
            " 3.09722378e-11 1.04223144e-10 3.13997675e-11 2.57957283e-11\n",
            " 1.24356067e-11 1.66871177e-10 3.14362896e-11 3.22924275e-11\n",
            " 4.68782902e-11 2.71500040e-11 5.88820326e-11 6.42945613e-11\n",
            " 8.68277284e-11 3.15124203e-11 9.81958893e-11 4.43981402e-11\n",
            " 4.07919536e-11 6.00906041e-11 3.72209580e-11 4.32471085e-11\n",
            " 3.82401177e-11 4.45065262e-11 4.48360208e-11 5.94313577e-11\n",
            " 6.55631503e-11 2.60262627e-11 8.69326840e-11 2.34559937e-11\n",
            " 2.15268700e-10 8.50871916e-11 1.68063999e-10 7.15750017e-11\n",
            " 1.33183475e-10 1.21856706e-10 4.85960453e-11 3.62358848e-11\n",
            " 4.42368194e-11 4.11272077e-11 6.40351797e-11 6.86329023e-11\n",
            " 3.25904867e-11 5.30101242e-11 1.16657796e+02 6.41120265e-11\n",
            " 8.49744348e-11 4.09629872e-11 4.08013854e-11 3.44584844e-11\n",
            " 8.36129983e-11 3.73586810e-11 8.01645104e-11 2.11552256e-11\n",
            " 5.62238286e-11 4.51772730e-11 7.55325542e-11 5.45061537e-11\n",
            " 5.80195478e-11 2.16112796e-11 5.53964892e-11 5.77428971e-11\n",
            " 3.84951537e-11 3.30379775e-11 3.34179838e-11 5.61978827e-11\n",
            " 1.93688761e-11 5.00627966e-11 4.50963656e-11 2.33048386e-11\n",
            " 4.17323725e-11 9.59700960e-11 8.29002678e-11 6.58547117e-11\n",
            " 6.76251146e-11 2.06789411e-11 2.43728722e-11 6.13626604e-11\n",
            " 1.06236100e-10 7.71184738e-11 8.23665307e-11 1.16445911e-10\n",
            " 3.64656697e-11 6.81063504e-11 7.12602055e-11 1.57919448e-10\n",
            " 4.77476404e-11 3.73614682e-11 1.92607802e-11 1.45488790e-11\n",
            " 4.38150102e-11 1.00447929e-11 2.20891980e-05 3.20113859e-11\n",
            " 1.68358647e-11 1.16125668e-10 1.44112173e-11 4.63399730e-11\n",
            " 2.14849242e-11 7.81402761e-11 1.35692662e-11 5.57927094e-11\n",
            " 7.11406130e-11 2.42423232e-11 6.72865208e-11 1.66370657e-10\n",
            " 2.34183786e-11 5.28245647e-11 4.40175541e-11 3.71570458e+01\n",
            " 1.18108308e-10 4.20904025e-11 6.84201046e-11 1.76892045e-10\n",
            " 3.27888584e-11 9.48438804e-11 5.81462826e-11 4.47808362e-11\n",
            " 1.41503507e-10 2.95824050e-10 3.34704450e-11 9.84818625e-11\n",
            " 2.32327400e-11 7.27100578e-11 2.10212930e-11 3.12252135e-11\n",
            " 1.93907208e-11 1.77042448e-11 5.69335569e-11 6.48410125e-11\n",
            " 4.30292518e-11 2.13710351e-11 7.27159924e-11 1.29975201e-11\n",
            " 2.37544056e-11 3.37663408e-11 1.79878595e-11 7.51187940e-11\n",
            " 3.66098444e-11 5.50039512e-11 1.03472259e-10 4.14213316e-11\n",
            " 4.95896232e-11 9.25922935e-11 5.40149479e-11 1.11158568e-11\n",
            " 3.25564208e-11 1.03788185e-11 5.66117770e-11 6.13422488e-11\n",
            " 8.37994186e-11 1.62919267e-10 2.02777725e-11 4.51964678e-11\n",
            " 5.87011678e-11 2.53729614e-11 1.65654953e-11 4.22131246e-11\n",
            " 3.44563560e-11 1.70512341e-10 2.30564158e-11 2.18592132e-10\n",
            " 5.84114035e-11 2.95344859e-11 2.21428143e-11 3.33327121e-11\n",
            " 3.43605301e-11 5.98103023e-11 1.76391531e-10 2.08010844e-11\n",
            " 3.01971556e-11 3.69456556e-11 2.56554813e-11 3.64438763e-10\n",
            " 3.26734057e-11 3.71161410e-11 2.46076709e-11 7.66492981e-11\n",
            " 1.50520499e-10 4.09420548e-11 4.46072379e-11 6.38886137e-11\n",
            " 4.60551163e-11 4.92402852e-11 3.69405323e-11 4.73286554e-11\n",
            " 4.78759475e-11 1.18121523e-10 5.53051373e-11 4.19441119e-11\n",
            " 7.07677816e-11 3.62071885e-11 1.00835098e-10 3.85180739e-11\n",
            " 4.17576747e-11 4.75847021e-11 1.71415127e-11 7.55073924e-11\n",
            " 2.72758022e-11 2.46537339e-11 5.07096779e-11 1.68695317e-11\n",
            " 3.33193133e-11 3.02359214e-10 3.22664060e-11 3.58959178e-11\n",
            " 8.02416571e-11 3.23844415e-11 3.16924154e-11 6.52203968e-11\n",
            " 4.85927123e-11 2.72123125e-11 1.15554287e-10 8.49082103e-11\n",
            " 5.73193335e-11 2.42272031e-11 4.28623316e-11 3.85603296e-11\n",
            " 4.81207143e-11 5.14687758e-11 1.39065975e-11 2.87996849e-10\n",
            " 3.18560278e-11 1.75279151e-10 4.28066151e-11 4.02109338e-11\n",
            " 5.58537077e-11 4.12827260e-11 1.30175716e-10 3.41829986e-11\n",
            " 4.77955357e-11 1.61533578e-11 2.39004382e-11 2.15938911e-11\n",
            " 3.71117044e-11 6.95541708e-11 1.96777972e-11 2.39444744e-11\n",
            " 4.28674009e-11 1.01058828e-10 2.70585880e-11 3.32882903e-11\n",
            " 3.45229635e-11 3.03017059e-11 6.05260033e-11 4.35727756e-11\n",
            " 5.14964465e-11 2.92158298e-11 3.28928931e-11 6.61603240e-11\n",
            " 2.63782749e-11 6.98478932e-11 4.30487902e-11 5.36419756e-11\n",
            " 4.13374110e-11 4.79414899e-11 1.05076632e-10 5.78189490e-11\n",
            " 4.81957565e-11 4.14914306e-11 5.02814544e-11 1.88772482e-11\n",
            " 5.70322515e-11 3.40954242e-11 4.46032650e-11 3.43474282e-11]\n"
          ]
        }
      ]
    },
    {
      "cell_type": "code",
      "metadata": {
        "colab": {
          "base_uri": "https://localhost:8080/"
        },
        "id": "bVxJZ34aWjYS",
        "outputId": "f2bcc0cb-361a-4ae9-caee-c1ec14502adb"
      },
      "source": [
        "# w parameter using alphas \n",
        "w = np.dot((y_train * alphas).T,X_train)[0]\n",
        "\n",
        "# Selecting the set of indices S corresponding to non zero parameters\n",
        "S = (alphas > 1e-4).flatten()\n",
        "\n",
        "#Computing b of non zero paprameters\n",
        "b = y_train[S] - np.dot(X_train[S], w.reshape(-1,1))\n",
        "b = sum(b)/len(b)\n",
        "\n",
        "# Display results\n",
        "print('Alphas = ',alphas[alphas > 1e-4])\n",
        "print('w = ', w.flatten())\n",
        "print('b = ', b)\n",
        "X_Support_vectors = X_train[S]\n",
        "y_support_vectors = y_train[S]\n",
        "print(alphas.flatten(),'\\n',\"Support vectors are : = \",X_Support_vectors.flatten(),'\\n','\\n',\"Number of Support vectors are: \",len(X_Support_vectors))"
      ],
      "execution_count": 88,
      "outputs": [
        {
          "output_type": "stream",
          "name": "stdout",
          "text": [
            "Alphas =  [ 79.50072855 116.65779639  37.15704576]\n",
            "w =  [-2.49737947 15.06913032]\n",
            "b =  [-6.23093325]\n",
            "[3.16080842e-11 4.85492476e-11 2.29400972e-11 3.77300439e-11\n",
            " 1.68054952e-11 4.34505767e-11 6.09955223e-11 4.95582164e-11\n",
            " 6.40326862e-11 1.99644857e-11 6.33721137e-11 2.81603610e-11\n",
            " 3.05961409e-11 4.30645417e-11 2.33277709e-11 6.88106535e-11\n",
            " 6.91173724e-11 2.54373980e-11 6.18286098e-11 1.08376799e-10\n",
            " 4.68313529e-11 2.12636925e-11 2.41159880e-11 5.53770357e-11\n",
            " 4.64977758e-11 6.44753687e-11 1.14591460e-10 4.71672574e-11\n",
            " 3.17646180e-11 7.37625684e-11 4.14628667e-11 8.76017910e-12\n",
            " 1.97732215e-11 4.40040460e-11 5.74616290e-11 4.34538499e-11\n",
            " 3.97649393e-11 2.61502765e-11 4.95609752e-11 7.50870030e-11\n",
            " 4.79556652e-11 8.68858636e-11 4.57823339e-11 9.64498553e-11\n",
            " 2.34343589e-11 6.80759844e-11 3.60842865e-11 4.23400896e-11\n",
            " 1.25220865e-10 2.98796204e-11 3.96672945e-11 1.27061233e-11\n",
            " 4.97967367e-11 9.80558447e-11 4.82445325e-11 7.20779036e-12\n",
            " 4.98935192e-11 3.86149529e-11 2.70809924e-11 5.11309756e-11\n",
            " 3.30046299e-11 4.61563470e-11 3.67548895e-11 7.76392127e-11\n",
            " 2.60676401e-11 5.01845571e-11 5.78772921e-11 3.45885193e-11\n",
            " 4.41039118e-11 1.11791293e-10 5.95227349e-11 2.11501237e-11\n",
            " 4.71061285e-11 2.95587847e-11 4.50951386e-11 6.68712551e-11\n",
            " 1.01795344e-10 1.82036907e-11 8.95317465e-11 5.42073414e-11\n",
            " 3.11176456e-10 4.59466664e-11 6.02986559e-11 6.07229611e-11\n",
            " 1.17839409e-11 4.45674958e-11 6.39095008e-11 8.31927116e-11\n",
            " 5.30144688e-11 1.65178896e-11 6.92924871e-11 3.90980159e-11\n",
            " 7.37659831e-11 3.96668087e-11 6.59358705e-11 4.04727976e-11\n",
            " 1.92176301e-10 1.87225247e-11 3.33539306e-11 3.60388645e-11\n",
            " 8.40910980e-11 3.30267203e-11 5.07254582e-11 1.78360351e-11\n",
            " 7.80720257e-11 3.06326135e-11 3.55076647e-11 6.97144112e-11\n",
            " 3.02018135e-11 6.12505473e-11 2.04611072e-11 1.65266552e-11\n",
            " 6.96058016e-11 7.58024359e-11 5.26306914e-11 4.64235076e-11\n",
            " 4.46187900e-11 2.78498124e-11 5.95918234e-11 6.18788571e-11\n",
            " 2.83418235e-11 2.41828083e-11 2.66484550e-11 4.96218364e-11\n",
            " 1.67742947e-10 1.09504242e-10 4.11982620e-11 4.95585182e-11\n",
            " 3.26030427e-11 2.58556385e-11 3.46591552e-11 1.29034713e-10\n",
            " 2.86239642e-11 8.37418630e-11 4.33530448e-11 4.56697604e-11\n",
            " 1.78944795e-11 3.85086974e-11 5.41947652e-11 5.81797720e-11\n",
            " 4.39114054e-11 7.95007285e+01 3.70945213e-11 3.67496391e-11\n",
            " 3.11353264e-11 2.69907762e-11 6.29670059e-11 2.30507140e-10\n",
            " 1.68470303e-11 1.03530471e-10 2.50390713e-11 5.68445361e-11\n",
            " 4.18135211e-11 3.76088083e-11 1.79574334e-11 2.46836127e-11\n",
            " 9.88387075e-11 6.16055356e-11 6.87940921e-11 4.00868465e-11\n",
            " 4.09582558e-11 1.11274033e-11 3.95325444e-11 1.08903173e-10\n",
            " 4.91094763e-11 9.30049905e-11 7.78522551e-11 6.30862755e-11\n",
            " 5.17326718e-11 2.32037304e-11 5.83010788e-11 1.10597626e-10\n",
            " 1.85709827e-11 1.35993193e-10 3.10492057e-11 1.02205290e-11\n",
            " 6.73742875e-11 6.55029349e-11 2.05847260e-11 2.82074807e-11\n",
            " 1.18158996e-10 1.42238842e-11 4.06103199e-11 1.41068754e-10\n",
            " 2.68961962e-11 4.49453628e-11 3.27242699e-11 1.37482441e-11\n",
            " 4.36747950e-11 4.69615275e-11 5.04371933e-11 1.83919352e-11\n",
            " 4.33442034e-11 2.42938399e-10 3.51482915e-11 5.27643121e-11\n",
            " 2.86412051e-11 5.33867454e-11 5.67298982e-11 1.26389436e-10\n",
            " 3.65486438e-11 1.94522784e-11 5.63121826e-11 2.77678131e-11\n",
            " 1.84128329e-11 2.62206924e-11 5.12183618e-11 1.40839191e-11\n",
            " 3.54318144e-11 1.53791134e-11 7.75675785e-11 1.49088139e-11\n",
            " 3.74453649e-11 2.52852777e-11 8.19783057e-11 3.40990140e-11\n",
            " 6.97980129e-11 8.19239069e-11 4.27093768e-11 5.13188750e-11\n",
            " 2.93290342e-11 6.71490724e-11 4.76761109e-11 1.33854313e-10\n",
            " 1.70570502e-11 1.73327154e-11 4.92935191e-11 6.04808342e-11\n",
            " 6.30719999e-11 9.36333753e-11 2.50007152e-11 1.18757661e-10\n",
            " 5.08360074e-11 4.53468615e-11 7.19444266e-11 6.30775284e-11\n",
            " 2.94406156e-11 4.48327662e-11 2.46987445e-11 1.03433067e-10\n",
            " 1.00480405e-10 7.16771989e-11 3.57452780e-11 4.58912696e-11\n",
            " 5.73941609e-11 3.65314395e-11 2.73561307e-11 3.76030578e-11\n",
            " 8.35853441e-11 7.99169563e-11 6.73824718e-11 7.31561945e-11\n",
            " 4.10860233e-11 8.27401349e-11 4.82705791e-11 2.72395428e-11\n",
            " 8.30733079e-11 2.99255985e-11 3.66426571e-11 1.08563744e-10\n",
            " 3.50727743e-11 7.48097111e-11 3.77732225e-11 3.05091534e-11\n",
            " 2.48735116e-11 5.80561556e-11 6.85360679e-11 2.24638708e-10\n",
            " 1.05091161e-11 2.93204100e-11 1.71147910e-10 1.81977902e-11\n",
            " 8.64316330e-11 2.46367575e-11 6.50506259e-11 1.82383792e-11\n",
            " 5.84453307e-11 1.72133475e-11 5.68778508e-11 6.09703786e-11\n",
            " 1.65522426e-10 3.12092827e-11 1.03857523e-10 4.11300976e-11\n",
            " 1.47884391e-11 6.32590204e-11 2.69874512e-11 4.79280583e-11\n",
            " 4.51220620e-11 3.44678359e-11 6.21558008e-11 2.93892521e-11\n",
            " 3.05558650e-11 4.57920198e-11 1.80138791e-11 4.09713226e-11\n",
            " 1.30917318e-10 2.52611982e-11 1.67622953e-11 7.69340065e-11\n",
            " 2.24963149e-11 1.67011532e-10 2.99686211e-11 2.83605450e-11\n",
            " 3.96267006e-11 6.05132076e-11 7.54286014e-11 3.20746365e-11\n",
            " 2.30169798e-11 3.71858848e-11 3.12649213e-11 4.28274719e-11\n",
            " 3.78709625e-11 3.51305054e-11 3.97762842e-11 9.30817247e-11\n",
            " 2.72304155e-11 5.69532590e-11 3.90059628e-11 5.85717847e-11\n",
            " 4.35518481e-11 6.14697840e-11 3.91166706e-11 5.93605899e-11\n",
            " 8.87904849e-12 4.44040308e-11 1.18910584e-10 4.33233143e-11\n",
            " 1.01945724e-10 2.78151667e-11 2.23678467e-11 1.57813157e-10\n",
            " 3.74055521e-11 3.18803825e-11 2.21421886e-10 4.88606825e-11\n",
            " 2.92292279e-11 4.72422971e-11 7.42198877e-11 6.28903059e-11\n",
            " 4.47781898e-11 2.72842237e-11 8.80567406e-11 2.29165423e-11\n",
            " 8.51058772e-11 1.36198046e-10 3.41930949e-11 5.36839088e-11\n",
            " 2.83508329e-11 5.29254522e-11 3.04651419e-11 2.66781282e-11\n",
            " 3.16018455e-11 2.81160470e-11 8.20978085e-11 1.99274653e-11\n",
            " 8.44337490e-11 6.62832143e-11 4.39565430e-10 4.89302812e-11\n",
            " 7.18791657e-11 4.94556615e-11 9.01083140e-11 7.41879953e-11\n",
            " 9.36387163e-11 4.25912102e-11 3.89073200e-11 2.16124756e-11\n",
            " 5.42020487e-11 3.48432666e-11 3.00467778e-10 8.25273576e-11\n",
            " 7.52799344e-11 7.94938202e-11 3.19344668e-11 1.27367471e-10\n",
            " 9.40293170e-11 4.20518597e-11 1.84901828e-10 4.72719720e-11\n",
            " 4.64112485e-11 8.12380968e-11 4.01919601e-11 1.71458183e-11\n",
            " 5.53605372e-11 2.32069027e-11 3.41328314e-11 1.22192198e-10\n",
            " 7.79565940e-11 4.73524633e-11 5.65745759e-11 3.58371659e-11\n",
            " 4.86909730e-11 3.43005995e-10 4.81178491e-11 4.74852086e-11\n",
            " 2.19305823e-11 7.89485369e-11 2.16727302e-11 6.43552254e-11\n",
            " 3.51105461e-11 4.50027130e-11 3.97394801e-11 2.45633614e-11\n",
            " 6.42021256e-11 1.48940284e-11 2.14847713e-11 5.33189241e-11\n",
            " 1.72394075e-11 4.78428093e-11 6.30018043e-11 3.05081622e-11\n",
            " 1.55972029e-11 3.75493782e-11 1.49645242e-10 2.17350453e-11\n",
            " 4.78271629e-11 4.26422748e-11 2.99537660e-11 7.90719139e-11\n",
            " 2.01097662e-11 5.35472853e-11 5.28015290e-11 1.90779440e-10\n",
            " 3.75953159e-11 7.35291712e-11 6.13382755e-11 4.79431183e-11\n",
            " 4.21854857e-11 2.85723706e-11 9.30802226e-11 3.45183856e-11\n",
            " 3.01138132e-11 4.71733471e-11 2.04814522e-11 1.19852209e-10\n",
            " 3.09722378e-11 1.04223144e-10 3.13997675e-11 2.57957283e-11\n",
            " 1.24356067e-11 1.66871177e-10 3.14362896e-11 3.22924275e-11\n",
            " 4.68782902e-11 2.71500040e-11 5.88820326e-11 6.42945613e-11\n",
            " 8.68277284e-11 3.15124203e-11 9.81958893e-11 4.43981402e-11\n",
            " 4.07919536e-11 6.00906041e-11 3.72209580e-11 4.32471085e-11\n",
            " 3.82401177e-11 4.45065262e-11 4.48360208e-11 5.94313577e-11\n",
            " 6.55631503e-11 2.60262627e-11 8.69326840e-11 2.34559937e-11\n",
            " 2.15268700e-10 8.50871916e-11 1.68063999e-10 7.15750017e-11\n",
            " 1.33183475e-10 1.21856706e-10 4.85960453e-11 3.62358848e-11\n",
            " 4.42368194e-11 4.11272077e-11 6.40351797e-11 6.86329023e-11\n",
            " 3.25904867e-11 5.30101242e-11 1.16657796e+02 6.41120265e-11\n",
            " 8.49744348e-11 4.09629872e-11 4.08013854e-11 3.44584844e-11\n",
            " 8.36129983e-11 3.73586810e-11 8.01645104e-11 2.11552256e-11\n",
            " 5.62238286e-11 4.51772730e-11 7.55325542e-11 5.45061537e-11\n",
            " 5.80195478e-11 2.16112796e-11 5.53964892e-11 5.77428971e-11\n",
            " 3.84951537e-11 3.30379775e-11 3.34179838e-11 5.61978827e-11\n",
            " 1.93688761e-11 5.00627966e-11 4.50963656e-11 2.33048386e-11\n",
            " 4.17323725e-11 9.59700960e-11 8.29002678e-11 6.58547117e-11\n",
            " 6.76251146e-11 2.06789411e-11 2.43728722e-11 6.13626604e-11\n",
            " 1.06236100e-10 7.71184738e-11 8.23665307e-11 1.16445911e-10\n",
            " 3.64656697e-11 6.81063504e-11 7.12602055e-11 1.57919448e-10\n",
            " 4.77476404e-11 3.73614682e-11 1.92607802e-11 1.45488790e-11\n",
            " 4.38150102e-11 1.00447929e-11 2.20891980e-05 3.20113859e-11\n",
            " 1.68358647e-11 1.16125668e-10 1.44112173e-11 4.63399730e-11\n",
            " 2.14849242e-11 7.81402761e-11 1.35692662e-11 5.57927094e-11\n",
            " 7.11406130e-11 2.42423232e-11 6.72865208e-11 1.66370657e-10\n",
            " 2.34183786e-11 5.28245647e-11 4.40175541e-11 3.71570458e+01\n",
            " 1.18108308e-10 4.20904025e-11 6.84201046e-11 1.76892045e-10\n",
            " 3.27888584e-11 9.48438804e-11 5.81462826e-11 4.47808362e-11\n",
            " 1.41503507e-10 2.95824050e-10 3.34704450e-11 9.84818625e-11\n",
            " 2.32327400e-11 7.27100578e-11 2.10212930e-11 3.12252135e-11\n",
            " 1.93907208e-11 1.77042448e-11 5.69335569e-11 6.48410125e-11\n",
            " 4.30292518e-11 2.13710351e-11 7.27159924e-11 1.29975201e-11\n",
            " 2.37544056e-11 3.37663408e-11 1.79878595e-11 7.51187940e-11\n",
            " 3.66098444e-11 5.50039512e-11 1.03472259e-10 4.14213316e-11\n",
            " 4.95896232e-11 9.25922935e-11 5.40149479e-11 1.11158568e-11\n",
            " 3.25564208e-11 1.03788185e-11 5.66117770e-11 6.13422488e-11\n",
            " 8.37994186e-11 1.62919267e-10 2.02777725e-11 4.51964678e-11\n",
            " 5.87011678e-11 2.53729614e-11 1.65654953e-11 4.22131246e-11\n",
            " 3.44563560e-11 1.70512341e-10 2.30564158e-11 2.18592132e-10\n",
            " 5.84114035e-11 2.95344859e-11 2.21428143e-11 3.33327121e-11\n",
            " 3.43605301e-11 5.98103023e-11 1.76391531e-10 2.08010844e-11\n",
            " 3.01971556e-11 3.69456556e-11 2.56554813e-11 3.64438763e-10\n",
            " 3.26734057e-11 3.71161410e-11 2.46076709e-11 7.66492981e-11\n",
            " 1.50520499e-10 4.09420548e-11 4.46072379e-11 6.38886137e-11\n",
            " 4.60551163e-11 4.92402852e-11 3.69405323e-11 4.73286554e-11\n",
            " 4.78759475e-11 1.18121523e-10 5.53051373e-11 4.19441119e-11\n",
            " 7.07677816e-11 3.62071885e-11 1.00835098e-10 3.85180739e-11\n",
            " 4.17576747e-11 4.75847021e-11 1.71415127e-11 7.55073924e-11\n",
            " 2.72758022e-11 2.46537339e-11 5.07096779e-11 1.68695317e-11\n",
            " 3.33193133e-11 3.02359214e-10 3.22664060e-11 3.58959178e-11\n",
            " 8.02416571e-11 3.23844415e-11 3.16924154e-11 6.52203968e-11\n",
            " 4.85927123e-11 2.72123125e-11 1.15554287e-10 8.49082103e-11\n",
            " 5.73193335e-11 2.42272031e-11 4.28623316e-11 3.85603296e-11\n",
            " 4.81207143e-11 5.14687758e-11 1.39065975e-11 2.87996849e-10\n",
            " 3.18560278e-11 1.75279151e-10 4.28066151e-11 4.02109338e-11\n",
            " 5.58537077e-11 4.12827260e-11 1.30175716e-10 3.41829986e-11\n",
            " 4.77955357e-11 1.61533578e-11 2.39004382e-11 2.15938911e-11\n",
            " 3.71117044e-11 6.95541708e-11 1.96777972e-11 2.39444744e-11\n",
            " 4.28674009e-11 1.01058828e-10 2.70585880e-11 3.32882903e-11\n",
            " 3.45229635e-11 3.03017059e-11 6.05260033e-11 4.35727756e-11\n",
            " 5.14964465e-11 2.92158298e-11 3.28928931e-11 6.61603240e-11\n",
            " 2.63782749e-11 6.98478932e-11 4.30487902e-11 5.36419756e-11\n",
            " 4.13374110e-11 4.79414899e-11 1.05076632e-10 5.78189490e-11\n",
            " 4.81957565e-11 4.14914306e-11 5.02814544e-11 1.88772482e-11\n",
            " 5.70322515e-11 3.40954242e-11 4.46032650e-11 3.43474282e-11] \n",
            " Support vectors are : =  [0.3828448  0.5432989  0.48791277 0.42798997 0.64550338 0.58682883] \n",
            " \n",
            " Number of Support vectors are:  3\n"
          ]
        }
      ]
    },
    {
      "cell_type": "code",
      "metadata": {
        "colab": {
          "base_uri": "https://localhost:8080/"
        },
        "id": "791RIFJPW2J5",
        "outputId": "2e63e893-ba86-4bdc-c553-926498f4a4df"
      },
      "source": [
        "target = np.where(np.dot(X_test,w)+b>=0.0,1,-1)\n",
        "t = np.where(np.dot(X_train,w)+b>=0.0,1,-1)\n",
        "v1 = 0  \n",
        "v2 = 0\n",
        "c = 0\n",
        "i=0    \n",
        "for c in range( np.size( target ) ) :  \n",
        "  if y_test[c] == target[c] :            \n",
        "    v1 = v1 + 1\n",
        "  c = c + 1 \n",
        "for i in range( np.size( t ) ) :\n",
        "  if y_train[i] == t[i] :            \n",
        "    v2 = v2 + 1\n",
        "  i = i + 1\n",
        "print(\"Accuracy of Defined Model on test data :\",(v1/c)*100)     \n",
        "print(\"Accuracy of Defined Model on train data:\",(v2/i)*100)   "
      ],
      "execution_count": 89,
      "outputs": [
        {
          "output_type": "stream",
          "name": "stdout",
          "text": [
            "Accuracy of Defined Model on test data : 100.0\n",
            "Accuracy of Defined Model on train data: 100.0\n"
          ]
        }
      ]
    },
    {
      "cell_type": "markdown",
      "metadata": {
        "id": "nTBSiu3UY6DQ"
      },
      "source": [
        "# Hence we ca see that the hard SVM on Linearly separable data gives 100% accuracy and on non linearly separable data it gives less effeciency."
      ]
    }
  ]
}