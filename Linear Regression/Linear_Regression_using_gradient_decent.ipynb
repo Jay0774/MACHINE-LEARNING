{
  "nbformat": 4,
  "nbformat_minor": 0,
  "metadata": {
    "colab": {
      "name": "Linear_Regression_using_gradient_decent.ipynb",
      "provenance": []
    },
    "kernelspec": {
      "name": "python3",
      "display_name": "Python 3"
    },
    "language_info": {
      "name": "python"
    }
  },
  "cells": [
    {
      "cell_type": "markdown",
      "metadata": {
        "id": "-ldLmhm74X1X"
      },
      "source": [
        "# Linear Regression using Gradient Decent\n",
        "\n",
        "## Step 1: Import All required Libraries"
      ]
    },
    {
      "cell_type": "code",
      "metadata": {
        "id": "4vdKv9l_4QyD"
      },
      "source": [
        "import numpy as np\n",
        "import pandas as pd\n",
        "from sklearn.model_selection import train_test_split\n",
        "import matplotlib.pyplot as plt\n",
        "from sklearn.datasets import load_boston\n",
        "from sklearn.metrics import mean_squared_error\n",
        "from sklearn.preprocessing import MinMaxScaler"
      ],
      "execution_count": 89,
      "outputs": []
    },
    {
      "cell_type": "markdown",
      "metadata": {
        "id": "kVChucUu4c-3"
      },
      "source": [
        "## Step 2: Import Linear Regression for checking accuracy of defined model with original model"
      ]
    },
    {
      "cell_type": "code",
      "metadata": {
        "id": "Ek5UHRG14p0_"
      },
      "source": [
        "from sklearn.linear_model import LinearRegression"
      ],
      "execution_count": 90,
      "outputs": []
    },
    {
      "cell_type": "markdown",
      "metadata": {
        "id": "G3tq_xUE4svG"
      },
      "source": [
        "## Step 3: Defining class and functions for model training in this defined model the update function is used for updating the weight using gradient descent"
      ]
    },
    {
      "cell_type": "code",
      "metadata": {
        "id": "1DsGQYkF5Aln"
      },
      "source": [
        "  class learning() :\n",
        "    # constructor taking learning rate and no of iterations\n",
        "    def __init__( self, learning_rate, iterations ) :\n",
        "        self.learning_rate = learning_rate\n",
        "        self.iterations = iterations\n",
        "    # function defined for fitting the model bias here is defined as 0\n",
        "    def fit_model( self, X, Y ) :\n",
        "        self.m, self.n = X.shape\n",
        "        self.W = np.zeros( self.n )\n",
        "        self.b = 0\n",
        "        self.X = X\n",
        "        self.Y = Y\n",
        "        # Loops running for Gradient Decent Learning       \n",
        "        for i in range( self.iterations ) :   \n",
        "            self.update()\n",
        "        return self\n",
        "    # for updating the gradients of Y=X.W+C\n",
        "    def update( self ) :     \n",
        "        Y_pred = self.predict( self.X )\n",
        "        # Differentating with respect to W\n",
        "        dW = - ( 2 * ( self.X.T ).dot( self.Y - Y_pred )  ) / self.m\n",
        "        # Differentating with respect to C or bias\n",
        "        db = - 2 * np.sum( self.Y - Y_pred ) / self.m   \n",
        "        # update weights\n",
        "        self.W = self.W - self.learning_rate * dW\n",
        "        self.b = self.b - self.learning_rate * db\n",
        "        return self\n",
        "    # for predicting using Y=X.W+c\n",
        "    def predict( self, X ) :\n",
        "        return X.dot( self.W ) + self.b"
      ],
      "execution_count": 91,
      "outputs": []
    },
    {
      "cell_type": "markdown",
      "metadata": {
        "id": "htf4IJgt5r_Z"
      },
      "source": [
        "## Step 4: Loading CSV File for dataset (For this i have used boston house price predicition dataset provided by sklearn)"
      ]
    },
    {
      "cell_type": "code",
      "metadata": {
        "colab": {
          "base_uri": "https://localhost:8080/"
        },
        "id": "SfhzIhqH5zZH",
        "outputId": "eef645d9-4b62-4e34-f784-1cb9c103c78c"
      },
      "source": [
        "boston = load_boston()\n",
        "features = pd.DataFrame(boston.data,columns=boston.feature_names)\n",
        "target = pd.DataFrame(boston.target,columns=['target'])\n",
        "df = pd.concat([features,target],axis=1)\n",
        "print(boston.feature_names)\n",
        "print(df.shape,df)"
      ],
      "execution_count": 92,
      "outputs": [
        {
          "output_type": "stream",
          "name": "stdout",
          "text": [
            "['CRIM' 'ZN' 'INDUS' 'CHAS' 'NOX' 'RM' 'AGE' 'DIS' 'RAD' 'TAX' 'PTRATIO'\n",
            " 'B' 'LSTAT']\n",
            "(506, 14)         CRIM    ZN  INDUS  CHAS    NOX  ...    TAX  PTRATIO       B  LSTAT  target\n",
            "0    0.00632  18.0   2.31   0.0  0.538  ...  296.0     15.3  396.90   4.98    24.0\n",
            "1    0.02731   0.0   7.07   0.0  0.469  ...  242.0     17.8  396.90   9.14    21.6\n",
            "2    0.02729   0.0   7.07   0.0  0.469  ...  242.0     17.8  392.83   4.03    34.7\n",
            "3    0.03237   0.0   2.18   0.0  0.458  ...  222.0     18.7  394.63   2.94    33.4\n",
            "4    0.06905   0.0   2.18   0.0  0.458  ...  222.0     18.7  396.90   5.33    36.2\n",
            "..       ...   ...    ...   ...    ...  ...    ...      ...     ...    ...     ...\n",
            "501  0.06263   0.0  11.93   0.0  0.573  ...  273.0     21.0  391.99   9.67    22.4\n",
            "502  0.04527   0.0  11.93   0.0  0.573  ...  273.0     21.0  396.90   9.08    20.6\n",
            "503  0.06076   0.0  11.93   0.0  0.573  ...  273.0     21.0  396.90   5.64    23.9\n",
            "504  0.10959   0.0  11.93   0.0  0.573  ...  273.0     21.0  393.45   6.48    22.0\n",
            "505  0.04741   0.0  11.93   0.0  0.573  ...  273.0     21.0  396.90   7.88    11.9\n",
            "\n",
            "[506 rows x 14 columns]\n"
          ]
        }
      ]
    },
    {
      "cell_type": "markdown",
      "metadata": {
        "id": "g1CzY0qc5-cG"
      },
      "source": [
        "## Step 5: Store the features and target in X , Y seprately, here i have used the LSTAT feature as independelt feature (Any other feature can also be chosen for predicting target)"
      ]
    },
    {
      "cell_type": "code",
      "metadata": {
        "colab": {
          "base_uri": "https://localhost:8080/"
        },
        "id": "gk23X_3C6C54",
        "outputId": "82af13e0-796b-4c27-fdea-0b95b673116a"
      },
      "source": [
        "X = df['LSTAT'].values\n",
        "Y = df['target'].values\n",
        "\n",
        "# Reshaping the array using min max scaler\n",
        "x_scaler = MinMaxScaler()\n",
        "X = x_scaler.fit_transform(X.reshape(-1,1))\n",
        "X = X[ : -1]\n",
        "y_scaler = MinMaxScaler()\n",
        "Y = y_scaler.fit_transform(Y.reshape(-1,1))\n",
        "Y = Y[ : -1]\n",
        "\n",
        "print(X.shape)\n",
        "print(Y.shape)"
      ],
      "execution_count": 93,
      "outputs": [
        {
          "output_type": "stream",
          "name": "stdout",
          "text": [
            "(505, 1)\n",
            "(505, 1)\n"
          ]
        }
      ]
    },
    {
      "cell_type": "markdown",
      "metadata": {
        "id": "mzOnwEyk6Hb2"
      },
      "source": [
        "## Step 6: Splitting the Data into three ratios 70/30, 80/20, 90/10 (Use the last one for best prediction)\n",
        "A. Split the data in 70,30 for training and testing the model "
      ]
    },
    {
      "cell_type": "code",
      "metadata": {
        "colab": {
          "base_uri": "https://localhost:8080/"
        },
        "id": "jtLHhb8h6No2",
        "outputId": "7de0dd7a-631d-489f-a0ed-ae247f692e09"
      },
      "source": [
        "X_train, X_test, y_train, y_test = train_test_split(X, Y, test_size=0.3, random_state=0)\n",
        "print(X_train.shape, X_test.shape, y_train.shape, y_test.shape)\n"
      ],
      "execution_count": 94,
      "outputs": [
        {
          "output_type": "stream",
          "name": "stdout",
          "text": [
            "(353, 1) (152, 1) (353, 1) (152, 1)\n"
          ]
        }
      ]
    },
    {
      "cell_type": "markdown",
      "metadata": {
        "id": "N1Fm9lit6TN3"
      },
      "source": [
        "B. Split the data in 80,20 for training and testing the model "
      ]
    },
    {
      "cell_type": "code",
      "metadata": {
        "colab": {
          "base_uri": "https://localhost:8080/"
        },
        "id": "p4qDY5BV6UCX",
        "outputId": "72bab0c6-ef78-4b91-eecd-8d77faf66ef3"
      },
      "source": [
        "X_train, X_test, y_train, y_test = train_test_split(X, Y, test_size=0.2, random_state=1)\n",
        "print(X_train.shape, X_test.shape, y_train.shape, y_test.shape)"
      ],
      "execution_count": 95,
      "outputs": [
        {
          "output_type": "stream",
          "name": "stdout",
          "text": [
            "(404, 1) (101, 1) (404, 1) (101, 1)\n"
          ]
        }
      ]
    },
    {
      "cell_type": "markdown",
      "metadata": {
        "id": "34ZXVHgM6W3I"
      },
      "source": [
        "C. Split the data in 90,10 for training and testing the model"
      ]
    },
    {
      "cell_type": "code",
      "metadata": {
        "colab": {
          "base_uri": "https://localhost:8080/"
        },
        "id": "8l9mMuEV6Y5v",
        "outputId": "69b24fdd-1d65-4473-f9c0-ce7fae90c830"
      },
      "source": [
        "X_train, X_test, y_train, y_test = train_test_split(X, Y, test_size=0.1, random_state=1)\n",
        "print(X_train.shape, X_test.shape, y_train.shape, y_test.shape)\n"
      ],
      "execution_count": 96,
      "outputs": [
        {
          "output_type": "stream",
          "name": "stdout",
          "text": [
            "(454, 1) (51, 1) (454, 1) (51, 1)\n"
          ]
        }
      ]
    },
    {
      "cell_type": "markdown",
      "metadata": {
        "id": "_qWkcac86cH-"
      },
      "source": [
        "## Step 7: Creating model object and passing values which are no of iterations and learning rate"
      ]
    },
    {
      "cell_type": "code",
      "metadata": {
        "id": "3Yh-o1AV6pXu"
      },
      "source": [
        "model = learning(learning_rate=0.001,iterations=10000)"
      ],
      "execution_count": 97,
      "outputs": []
    },
    {
      "cell_type": "markdown",
      "metadata": {
        "id": "WLquCPSc651l"
      },
      "source": [
        "## Step 8: Fitting model using training data"
      ]
    },
    {
      "cell_type": "code",
      "metadata": {
        "colab": {
          "base_uri": "https://localhost:8080/"
        },
        "id": "4RJhOpXx6_U_",
        "outputId": "70c14111-e342-4cf3-a70c-308838aaf050"
      },
      "source": [
        "model.fit_model(X_train,y_train)"
      ],
      "execution_count": 98,
      "outputs": [
        {
          "output_type": "execute_result",
          "data": {
            "text/plain": [
              "<__main__.learning at 0x7f28a599d390>"
            ]
          },
          "metadata": {},
          "execution_count": 98
        }
      ]
    },
    {
      "cell_type": "markdown",
      "metadata": {
        "id": "AWzYK1Y37Z-n"
      },
      "source": [
        "## Step 9: Creating model provided by Sklearn and fitting that model with training data"
      ]
    },
    {
      "cell_type": "code",
      "metadata": {
        "colab": {
          "base_uri": "https://localhost:8080/"
        },
        "id": "1_sgMQgY7N6N",
        "outputId": "917171d4-2bcc-4ff1-ff09-a95ebdd5601e"
      },
      "source": [
        "model1 = LinearRegression()\n",
        "model1.fit( X_train, y_train)"
      ],
      "execution_count": 99,
      "outputs": [
        {
          "output_type": "execute_result",
          "data": {
            "text/plain": [
              "LinearRegression(copy_X=True, fit_intercept=True, n_jobs=None, normalize=False)"
            ]
          },
          "metadata": {},
          "execution_count": 99
        }
      ]
    },
    {
      "cell_type": "markdown",
      "metadata": {
        "id": "cnserFvg7ptG"
      },
      "source": [
        "## Step 10: Predicting the values of both models using test data"
      ]
    },
    {
      "cell_type": "code",
      "metadata": {
        "colab": {
          "base_uri": "https://localhost:8080/"
        },
        "id": "vs0hfALe7xE0",
        "outputId": "cb996d1c-6a69-43b8-e7cf-56166ceff1e7"
      },
      "source": [
        "target = model.predict(X_test)\n",
        "target1 = model1.predict( X_test )\n",
        "target = target[:,1]\n",
        "print(target,target1)"
      ],
      "execution_count": 100,
      "outputs": [
        {
          "output_type": "stream",
          "name": "stdout",
          "text": [
            "[0.45042117 0.45441664 0.32176723 0.44391427 0.3743932  0.40943913\n",
            " 0.48272735 0.38752115 0.33181297 0.43580919 0.41377706 0.48375476\n",
            " 0.38101425 0.41948487 0.40258976 0.26994035 0.38295491 0.48352645\n",
            " 0.45156273 0.19927771 0.40510119 0.34631079 0.43044385 0.46651719\n",
            " 0.48306982 0.34048883 0.30418719 0.41617434 0.45350339 0.1868347\n",
            " 0.47370902 0.32564854 0.50350377 0.333297   0.43261282 0.39927923\n",
            " 0.26263436 0.47553552 0.31594527 0.41560356 0.45259014 0.45932535\n",
            " 0.44962208 0.32930153 0.30898174 0.30099082 0.51446276 0.45635729\n",
            " 0.42439358 0.41503278 0.37245255] [[0.49972615]\n",
            " [0.50705185]\n",
            " [0.26383855]\n",
            " [0.48779572]\n",
            " [0.36032851]\n",
            " [0.42458538]\n",
            " [0.55895968]\n",
            " [0.38439867]\n",
            " [0.28225746]\n",
            " [0.47293501]\n",
            " [0.432539  ]\n",
            " [0.56084343]\n",
            " [0.37246824]\n",
            " [0.44300429]\n",
            " [0.41202703]\n",
            " [0.16881374]\n",
            " [0.37602644]\n",
            " [0.56042482]\n",
            " [0.50181921]\n",
            " [0.03925347]\n",
            " [0.41663176]\n",
            " [0.30883929]\n",
            " [0.46309764]\n",
            " [0.52923826]\n",
            " [0.5595876 ]\n",
            " [0.2981647 ]\n",
            " [0.23160547]\n",
            " [0.43693442]\n",
            " [0.50537741]\n",
            " [0.01643914]\n",
            " [0.54242453]\n",
            " [0.27095495]\n",
            " [0.59705333]\n",
            " [0.28497844]\n",
            " [0.46707445]\n",
            " [0.40595717]\n",
            " [0.15541817]\n",
            " [0.54577342]\n",
            " [0.25316396]\n",
            " [0.43588789]\n",
            " [0.50370296]\n",
            " [0.516052  ]\n",
            " [0.49826101]\n",
            " [0.27765273]\n",
            " [0.24039631]\n",
            " [0.2257449 ]\n",
            " [0.61714668]\n",
            " [0.51061005]\n",
            " [0.45200444]\n",
            " [0.43484136]\n",
            " [0.35677031]]\n"
          ]
        }
      ]
    },
    {
      "cell_type": "markdown",
      "metadata": {
        "id": "3oDE4oDq75DX"
      },
      "source": [
        "## Step 11: Checking for Accuracy by plotting the target values and the predicted values by both the models\n",
        "\n"
      ]
    },
    {
      "cell_type": "code",
      "metadata": {
        "colab": {
          "base_uri": "https://localhost:8080/",
          "height": 295
        },
        "id": "ElhNjo247-gF",
        "outputId": "6b301f09-99af-475d-e0a6-0536db58cf3f"
      },
      "source": [
        "plt.scatter( X_test, y_test, color = 'blue' )  \n",
        "plt.plot( X_test, target, color = 'orange' )  \n",
        "plt.title( 'Feature VS Target (defined model)' )  \n",
        "plt.xlabel( 'Feature' )  \n",
        "plt.ylabel( 'Target' )  \n",
        "plt.show()"
      ],
      "execution_count": 101,
      "outputs": [
        {
          "output_type": "display_data",
          "data": {
            "image/png": "[encoded data removed]",
            "text/plain": [
              "<Figure size 432x288 with 1 Axes>"
            ]
          },
          "metadata": {
            "needs_background": "light"
          }
        }
      ]
    },
    {
      "cell_type": "code",
      "metadata": {
        "colab": {
          "base_uri": "https://localhost:8080/",
          "height": 295
        },
        "id": "H78APgpWfmGH",
        "outputId": "23de064b-4740-436e-aee8-d3141d4c3aed"
      },
      "source": [
        "plt.scatter( X_test, y_test, color = 'blue' )  \n",
        "plt.plot( X_test, target1, color = 'orange' )    \n",
        "plt.title( 'Feature VS Target (sklearn model)' )  \n",
        "plt.xlabel( 'Feature' )  \n",
        "plt.ylabel( 'Target' )    \n",
        "plt.show()"
      ],
      "execution_count": 102,
      "outputs": [
        {
          "output_type": "display_data",
          "data": {
            "image/png": "[encoded data removed]",
            "text/plain": [
              "<Figure size 432x288 with 1 Axes>"
            ]
          },
          "metadata": {
            "needs_background": "light"
          }
        }
      ]
    },
    {
      "cell_type": "code",
      "metadata": {
        "colab": {
          "base_uri": "https://localhost:8080/"
        },
        "id": "jX4daBD74vK1",
        "outputId": "5274bf9f-696b-49d6-8900-e397424e5508"
      },
      "source": [
        "print(\"Mean squared error in Predicition by defined model on test data: \",mean_squared_error(target,y_test)*100)\n",
        "print(\"Mean squared error in Predicition by original(sklearn) model on test data: \",mean_squared_error(target1,y_test)*100)"
      ],
      "execution_count": 103,
      "outputs": [
        {
          "output_type": "stream",
          "name": "stdout",
          "text": [
            "Mean squared error in Predicition by defined model on test data:  2.7681670539880123\n",
            "Mean squared error in Predicition by original(sklearn) model on test data:  2.142687769346051\n"
          ]
        }
      ]
    },
    {
      "cell_type": "markdown",
      "metadata": {
        "id": "4ERmG4dOfJrC"
      },
      "source": [
        "# For the training set Accuracy and plot"
      ]
    },
    {
      "cell_type": "code",
      "metadata": {
        "colab": {
          "base_uri": "https://localhost:8080/",
          "height": 606
        },
        "id": "oFJLYdjdfNmj",
        "outputId": "f3057e15-d20e-4866-8184-d65507793ee5"
      },
      "source": [
        "t = model.predict(X_train)\n",
        "t1 = model1.predict( X_train )\n",
        "plt.scatter( X_train, y_train, color = 'blue' )  \n",
        "plt.plot( X_train, t, color = 'orange' )  \n",
        "plt.title( 'Feature VS Target (defined model)' )  \n",
        "plt.xlabel( 'Feature' )  \n",
        "plt.ylabel( 'Target' )  \n",
        "plt.show()\n",
        "plt.scatter( X_train, y_train, color = 'blue' )  \n",
        "plt.plot( X_train, t1, color = 'orange' )  \n",
        "plt.title( 'Feature VS Target (sklearn model)' )  \n",
        "plt.xlabel( 'Feature' )  \n",
        "plt.ylabel( 'Target' )  \n",
        "plt.show()\n",
        "print(\"Mean squared error in Predicition by defined model on training data : \",mean_squared_error(target,y_test)*100)\n",
        "print(\"Mean squared error in Predicition by original(sklearn) model on training data : \",mean_squared_error(target1,y_test)*100)"
      ],
      "execution_count": 105,
      "outputs": [
        {
          "output_type": "display_data",
          "data": {
            "image/png": "[encoded data removed]",
            "text/plain": [
              "<Figure size 432x288 with 1 Axes>"
            ]
          },
          "metadata": {
            "needs_background": "light"
          }
        },
        {
          "output_type": "display_data",
          "data": {
            "image/png": "[encoded data removed]",
            "text/plain": [
              "<Figure size 432x288 with 1 Axes>"
            ]
          },
          "metadata": {
            "needs_background": "light"
          }
        },
        {
          "output_type": "stream",
          "name": "stdout",
          "text": [
            "Mean squared error in Predicition by defined model on training data :  2.7681670539880123\n",
            "Mean squared error in Predicition by original(sklearn) model on training data :  2.142687769346051\n"
          ]
        }
      ]
    }
  ]
}