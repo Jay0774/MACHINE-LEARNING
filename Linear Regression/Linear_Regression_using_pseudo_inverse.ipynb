{
  "nbformat": 4,
  "nbformat_minor": 0,
  "metadata": {
    "colab": {
      "name": "Linear Regression using pseudo inverse",
      "provenance": [],
      "collapsed_sections": []
    },
    "kernelspec": {
      "name": "python3",
      "display_name": "Python 3"
    },
    "language_info": {
      "name": "python"
    }
  },
  "cells": [
    {
      "cell_type": "markdown",
      "metadata": {
        "id": "-ldLmhm74X1X"
      },
      "source": [
        "# Linear Regression using pseudo inverse\n",
        "\n",
        "## Step 1: Import All required Libraries"
      ]
    },
    {
      "cell_type": "code",
      "metadata": {
        "id": "4vdKv9l_4QyD"
      },
      "source": [
        "import numpy as np\n",
        "import pandas as pd\n",
        "from sklearn.model_selection import train_test_split\n",
        "import matplotlib.pyplot as plt\n",
        "from sklearn.datasets import load_boston\n",
        "from sklearn.metrics import mean_squared_error\n",
        "from sklearn.preprocessing import MinMaxScaler"
      ],
      "execution_count": null,
      "outputs": []
    },
    {
      "cell_type": "markdown",
      "metadata": {
        "id": "kVChucUu4c-3"
      },
      "source": [
        "## Step 2: Import Linear Regression for checking accuracy of defined model with original model"
      ]
    },
    {
      "cell_type": "code",
      "metadata": {
        "id": "Ek5UHRG14p0_"
      },
      "source": [
        "from sklearn.linear_model import LinearRegression"
      ],
      "execution_count": null,
      "outputs": []
    },
    {
      "cell_type": "markdown",
      "metadata": {
        "id": "G3tq_xUE4svG"
      },
      "source": [
        "## Step 3: Defining class and functions for model training in this defined model the update function is used for updating the wieght using gradient decent"
      ]
    },
    {
      "cell_type": "code",
      "metadata": {
        "id": "1DsGQYkF5Aln"
      },
      "source": [
        "  class learning() :\n",
        "    # constructor\n",
        "    def __init__(self):\n",
        "        self.weights = 0\n",
        "    # here the np.linalg.pinv function is used to calculate the inverse of x*x^T\n",
        "    def fit_model(self, X, y):\n",
        "        X2 = np.linalg.pinv(np.matmul(X.T, X)).dot(X.T)\n",
        "        self.weights = np.matmul(X2, y)\n",
        "        return self.weights\n",
        "\n",
        "    def predict(self, x):\n",
        "        y_pred = x.dot(self.weights) \n",
        "        return y_pred\n",
        "\n",
        "    def error(self, X, y):\n",
        "        error = 0\n",
        "        X = np.insert(X.T, 0, 1, axis=0)\n",
        "        for i, x in enumerate(X.T):\n",
        "            if self.predict(x)!=y[i]:\n",
        "                error += 1\n",
        "        return error/len(y)"
      ],
      "execution_count": null,
      "outputs": []
    },
    {
      "cell_type": "markdown",
      "metadata": {
        "id": "htf4IJgt5r_Z"
      },
      "source": [
        "## Step 4: Loading CSV File for dataset (For this i have used boston house price predicition dataset provided by sklearn)"
      ]
    },
    {
      "cell_type": "code",
      "metadata": {
        "colab": {
          "base_uri": "https://localhost:8080/"
        },
        "id": "SfhzIhqH5zZH",
        "outputId": "b022631f-02ea-4424-ae50-39561df78700"
      },
      "source": [
        "boston = load_boston()\n",
        "features = pd.DataFrame(boston.data,columns=boston.feature_names)\n",
        "target = pd.DataFrame(boston.target,columns=['target'])\n",
        "df = pd.concat([features,target],axis=1)\n",
        "print(boston.feature_names)\n",
        "print(df.shape,df)"
      ],
      "execution_count": null,
      "outputs": [
        {
          "output_type": "stream",
          "name": "stdout",
          "text": [
            "['CRIM' 'ZN' 'INDUS' 'CHAS' 'NOX' 'RM' 'AGE' 'DIS' 'RAD' 'TAX' 'PTRATIO'\n",
            " 'B' 'LSTAT']\n",
            "(506, 14)         CRIM    ZN  INDUS  CHAS    NOX  ...    TAX  PTRATIO       B  LSTAT  target\n",
            "0    0.00632  18.0   2.31   0.0  0.538  ...  296.0     15.3  396.90   4.98    24.0\n",
            "1    0.02731   0.0   7.07   0.0  0.469  ...  242.0     17.8  396.90   9.14    21.6\n",
            "2    0.02729   0.0   7.07   0.0  0.469  ...  242.0     17.8  392.83   4.03    34.7\n",
            "3    0.03237   0.0   2.18   0.0  0.458  ...  222.0     18.7  394.63   2.94    33.4\n",
            "4    0.06905   0.0   2.18   0.0  0.458  ...  222.0     18.7  396.90   5.33    36.2\n",
            "..       ...   ...    ...   ...    ...  ...    ...      ...     ...    ...     ...\n",
            "501  0.06263   0.0  11.93   0.0  0.573  ...  273.0     21.0  391.99   9.67    22.4\n",
            "502  0.04527   0.0  11.93   0.0  0.573  ...  273.0     21.0  396.90   9.08    20.6\n",
            "503  0.06076   0.0  11.93   0.0  0.573  ...  273.0     21.0  396.90   5.64    23.9\n",
            "504  0.10959   0.0  11.93   0.0  0.573  ...  273.0     21.0  393.45   6.48    22.0\n",
            "505  0.04741   0.0  11.93   0.0  0.573  ...  273.0     21.0  396.90   7.88    11.9\n",
            "\n",
            "[506 rows x 14 columns]\n"
          ]
        }
      ]
    },
    {
      "cell_type": "markdown",
      "metadata": {
        "id": "g1CzY0qc5-cG"
      },
      "source": [
        "## Step 5: Store the features and target in X , Y seprately, here i have used the LSTAT feature as when using others the error were more (Any other feature can also be chosen for predicting target)"
      ]
    },
    {
      "cell_type": "code",
      "metadata": {
        "colab": {
          "base_uri": "https://localhost:8080/"
        },
        "id": "gk23X_3C6C54",
        "outputId": "fdf06935-cbbb-408f-ea79-d86f8890cc78"
      },
      "source": [
        "X = df['LSTAT'].values\n",
        "Y = df['target'].values\n",
        "\n",
        "# Reshaping the array using min max scaler\n",
        "x_scaler = MinMaxScaler()\n",
        "X = x_scaler.fit_transform(X.reshape(-1,1))\n",
        "X = X[ : -1]\n",
        "y_scaler = MinMaxScaler()\n",
        "Y = y_scaler.fit_transform(Y.reshape(-1,1))\n",
        "Y = Y[ : -1]\n",
        "\n",
        "print(X.shape)\n",
        "print(Y.shape)"
      ],
      "execution_count": null,
      "outputs": [
        {
          "output_type": "stream",
          "name": "stdout",
          "text": [
            "(505, 1)\n",
            "(505, 1)\n"
          ]
        }
      ]
    },
    {
      "cell_type": "markdown",
      "metadata": {
        "id": "mzOnwEyk6Hb2"
      },
      "source": [
        "## Step 6: Splitting the Data into three ratios 70/30, 80/20, 90/10\n",
        "A. Split the data in 70,30 for training and testing the model "
      ]
    },
    {
      "cell_type": "code",
      "metadata": {
        "colab": {
          "base_uri": "https://localhost:8080/"
        },
        "id": "jtLHhb8h6No2",
        "outputId": "8901cff3-f2ee-44e5-d026-aded7c9e951b"
      },
      "source": [
        "X_train, X_test, y_train, y_test = train_test_split(X, Y, test_size=0.3, random_state=0)\n",
        "print(X_train.shape, X_test.shape, y_train.shape, y_test.shape)\n"
      ],
      "execution_count": null,
      "outputs": [
        {
          "output_type": "stream",
          "name": "stdout",
          "text": [
            "(353, 1) (152, 1) (353, 1) (152, 1)\n"
          ]
        }
      ]
    },
    {
      "cell_type": "markdown",
      "metadata": {
        "id": "N1Fm9lit6TN3"
      },
      "source": [
        "B. Split the data in 80,20 for training and testing the model "
      ]
    },
    {
      "cell_type": "code",
      "metadata": {
        "colab": {
          "base_uri": "https://localhost:8080/"
        },
        "id": "p4qDY5BV6UCX",
        "outputId": "fa9e2d94-c01e-4fc6-967b-cdd08aee743b"
      },
      "source": [
        "X_train, X_test, y_train, y_test = train_test_split(X, Y, test_size=0.2, random_state=1)\n",
        "print(X_train.shape, X_test.shape, y_train.shape, y_test.shape)"
      ],
      "execution_count": null,
      "outputs": [
        {
          "output_type": "stream",
          "name": "stdout",
          "text": [
            "(404, 1) (101, 1) (404, 1) (101, 1)\n"
          ]
        }
      ]
    },
    {
      "cell_type": "markdown",
      "metadata": {
        "id": "34ZXVHgM6W3I"
      },
      "source": [
        "C. Split the data in 90,10 for training and testing the model"
      ]
    },
    {
      "cell_type": "code",
      "metadata": {
        "colab": {
          "base_uri": "https://localhost:8080/"
        },
        "id": "8l9mMuEV6Y5v",
        "outputId": "4ad9107d-6717-45e7-85cb-bbee0612d6f1"
      },
      "source": [
        "X_train, X_test, y_train, y_test = train_test_split(X, Y, test_size=0.1, random_state=1)\n",
        "print(X_train.shape, X_test.shape, y_train.shape, y_test.shape)\n"
      ],
      "execution_count": null,
      "outputs": [
        {
          "output_type": "stream",
          "name": "stdout",
          "text": [
            "(454, 1) (51, 1) (454, 1) (51, 1)\n"
          ]
        }
      ]
    },
    {
      "cell_type": "markdown",
      "metadata": {
        "id": "_qWkcac86cH-"
      },
      "source": [
        "## Step 7: Creating model object and passing values which are no of iterations and learning rate"
      ]
    },
    {
      "cell_type": "code",
      "metadata": {
        "id": "3Yh-o1AV6pXu"
      },
      "source": [
        "model = learning()"
      ],
      "execution_count": null,
      "outputs": []
    },
    {
      "cell_type": "markdown",
      "metadata": {
        "id": "WLquCPSc651l"
      },
      "source": [
        "## Step 8: Fitting model using training data"
      ]
    },
    {
      "cell_type": "code",
      "metadata": {
        "colab": {
          "base_uri": "https://localhost:8080/"
        },
        "id": "4RJhOpXx6_U_",
        "outputId": "ef1dafbd-5ba5-43ae-c5da-ffef8124bdf2"
      },
      "source": [
        "model.fit_model(X_train,y_train)"
      ],
      "execution_count": null,
      "outputs": [
        {
          "output_type": "stream",
          "name": "stdout",
          "text": [
            "(454, 1)\n",
            "(1, 454)\n",
            "(1, 1)\n"
          ]
        },
        {
          "output_type": "execute_result",
          "data": {
            "text/plain": [
              "array([[0.67537663]])"
            ]
          },
          "metadata": {},
          "execution_count": 184
        }
      ]
    },
    {
      "cell_type": "markdown",
      "metadata": {
        "id": "AWzYK1Y37Z-n"
      },
      "source": [
        "## Step 9: Creating model provided by Sklearn and fitting that model with training data"
      ]
    },
    {
      "cell_type": "code",
      "metadata": {
        "colab": {
          "base_uri": "https://localhost:8080/"
        },
        "id": "1_sgMQgY7N6N",
        "outputId": "eb1b6da4-0d62-418c-b048-90d20dc0c736"
      },
      "source": [
        "model1 = LinearRegression()\n",
        "model1.fit( X_train, y_train)"
      ],
      "execution_count": null,
      "outputs": [
        {
          "output_type": "execute_result",
          "data": {
            "text/plain": [
              "LinearRegression(copy_X=True, fit_intercept=True, n_jobs=None, normalize=False)"
            ]
          },
          "metadata": {},
          "execution_count": 185
        }
      ]
    },
    {
      "cell_type": "markdown",
      "metadata": {
        "id": "cnserFvg7ptG"
      },
      "source": [
        "## Step 10: Predicting the values of both models using test data"
      ]
    },
    {
      "cell_type": "code",
      "metadata": {
        "colab": {
          "base_uri": "https://localhost:8080/"
        },
        "id": "vs0hfALe7xE0",
        "outputId": "60a68949-42fe-4c0c-ef3e-66ff322b4975"
      },
      "source": [
        "target = model.predict(X_test)\n",
        "target1 = model1.predict( X_test )\n",
        "print(target,target1,y_test)"
      ],
      "execution_count": null,
      "outputs": [
        {
          "output_type": "stream",
          "name": "stdout",
          "text": [
            "[[0.10809008]\n",
            " [0.1015674 ]\n",
            " [0.31812029]\n",
            " [0.11871273]\n",
            " [0.23220731]\n",
            " [0.17499411]\n",
            " [0.05534958]\n",
            " [0.21077565]\n",
            " [0.30172041]\n",
            " [0.13194444]\n",
            " [0.16791235]\n",
            " [0.05367232]\n",
            " [0.2213983 ]\n",
            " [0.15859424]\n",
            " [0.18617584]\n",
            " [0.40272873]\n",
            " [0.21823014]\n",
            " [0.05404504]\n",
            " [0.10622646]\n",
            " [0.51808693]\n",
            " [0.18207588]\n",
            " [0.27805241]\n",
            " [0.14070347]\n",
            " [0.08181301]\n",
            " [0.05479049]\n",
            " [0.28755688]\n",
            " [0.34682007]\n",
            " [0.16399874]\n",
            " [0.1030583 ]\n",
            " [0.53840041]\n",
            " [0.07007219]\n",
            " [0.31178397]\n",
            " [0.02143165]\n",
            " [0.2992977 ]\n",
            " [0.13716258]\n",
            " [0.19158035]\n",
            " [0.41465591]\n",
            " [0.06709039]\n",
            " [0.32762476]\n",
            " [0.16493055]\n",
            " [0.1045492 ]\n",
            " [0.09355383]\n",
            " [0.10939461]\n",
            " [0.30582038]\n",
            " [0.33899285]\n",
            " [0.35203821]\n",
            " [0.00354088]\n",
            " [0.09839924]\n",
            " [0.15058066]\n",
            " [0.16586236]\n",
            " [0.23537547]] [[0.49972615]\n",
            " [0.50705185]\n",
            " [0.26383855]\n",
            " [0.48779572]\n",
            " [0.36032851]\n",
            " [0.42458538]\n",
            " [0.55895968]\n",
            " [0.38439867]\n",
            " [0.28225746]\n",
            " [0.47293501]\n",
            " [0.432539  ]\n",
            " [0.56084343]\n",
            " [0.37246824]\n",
            " [0.44300429]\n",
            " [0.41202703]\n",
            " [0.16881374]\n",
            " [0.37602644]\n",
            " [0.56042482]\n",
            " [0.50181921]\n",
            " [0.03925347]\n",
            " [0.41663176]\n",
            " [0.30883929]\n",
            " [0.46309764]\n",
            " [0.52923826]\n",
            " [0.5595876 ]\n",
            " [0.2981647 ]\n",
            " [0.23160547]\n",
            " [0.43693442]\n",
            " [0.50537741]\n",
            " [0.01643914]\n",
            " [0.54242453]\n",
            " [0.27095495]\n",
            " [0.59705333]\n",
            " [0.28497844]\n",
            " [0.46707445]\n",
            " [0.40595717]\n",
            " [0.15541817]\n",
            " [0.54577342]\n",
            " [0.25316396]\n",
            " [0.43588789]\n",
            " [0.50370296]\n",
            " [0.516052  ]\n",
            " [0.49826101]\n",
            " [0.27765273]\n",
            " [0.24039631]\n",
            " [0.2257449 ]\n",
            " [0.61714668]\n",
            " [0.51061005]\n",
            " [0.45200444]\n",
            " [0.43484136]\n",
            " [0.35677031]] [[0.51555556]\n",
            " [0.42      ]\n",
            " [0.25777778]\n",
            " [0.37777778]\n",
            " [0.33111111]\n",
            " [0.4       ]\n",
            " [0.50888889]\n",
            " [0.21111111]\n",
            " [0.36666667]\n",
            " [0.39111111]\n",
            " [0.4       ]\n",
            " [0.58222222]\n",
            " [0.31777778]\n",
            " [0.32      ]\n",
            " [0.32      ]\n",
            " [0.15333333]\n",
            " [0.22222222]\n",
            " [1.        ]\n",
            " [0.42444444]\n",
            " [0.21333333]\n",
            " [0.24888889]\n",
            " [0.23555556]\n",
            " [0.41777778]\n",
            " [0.44444444]\n",
            " [0.41111111]\n",
            " [0.14888889]\n",
            " [0.18888889]\n",
            " [0.27777778]\n",
            " [0.84666667]\n",
            " [0.11555556]\n",
            " [0.42444444]\n",
            " [0.3       ]\n",
            " [1.        ]\n",
            " [0.22      ]\n",
            " [0.32888889]\n",
            " [0.37333333]\n",
            " [0.15111111]\n",
            " [0.69333333]\n",
            " [0.17777778]\n",
            " [0.36      ]\n",
            " [0.39111111]\n",
            " [0.34888889]\n",
            " [0.55777778]\n",
            " [0.19555556]\n",
            " [0.07777778]\n",
            " [0.08444444]\n",
            " [1.        ]\n",
            " [0.44444444]\n",
            " [0.44444444]\n",
            " [0.30222222]\n",
            " [0.40444444]]\n"
          ]
        }
      ]
    },
    {
      "cell_type": "markdown",
      "metadata": {
        "id": "3oDE4oDq75DX"
      },
      "source": [
        "## Step 11: Checking for Accuracy by plotting the target values and the presicted values by both the models\n",
        "\n"
      ]
    },
    {
      "cell_type": "code",
      "metadata": {
        "colab": {
          "base_uri": "https://localhost:8080/",
          "height": 295
        },
        "id": "ElhNjo247-gF",
        "outputId": "20a06fec-5692-4795-808c-51cb08c7ef01"
      },
      "source": [
        "plt.scatter( X_test, y_test, color = 'blue' )  \n",
        "plt.plot( X_test, target, color = 'orange' )  \n",
        "plt.title( 'Feature VS Target' )  \n",
        "plt.xlabel( 'Feature' )  \n",
        "plt.ylabel( 'Target' )  \n",
        "plt.show()"
      ],
      "execution_count": null,
      "outputs": [
        {
          "output_type": "display_data",
          "data": {
            "image/png": "[encoded data removed]",
            "text/plain": [
              "<Figure size 432x288 with 1 Axes>"
            ]
          },
          "metadata": {
            "needs_background": "light"
          }
        }
      ]
    },
    {
      "cell_type": "code",
      "metadata": {
        "colab": {
          "base_uri": "https://localhost:8080/",
          "height": 295
        },
        "id": "H78APgpWfmGH",
        "outputId": "b00eb73d-edad-402a-a75c-a852d9738d65"
      },
      "source": [
        "plt.scatter( X_test, y_test, color = 'blue' )  \n",
        "plt.plot( X_test, target1, color = 'orange' )    \n",
        "plt.title( 'Feature VS Target' )  \n",
        "plt.xlabel( 'Feature' )  \n",
        "plt.ylabel( 'Target' )    \n",
        "plt.show()"
      ],
      "execution_count": null,
      "outputs": [
        {
          "output_type": "display_data",
          "data": {
            "image/png": "[encoded data removed]",
            "text/plain": [
              "<Figure size 432x288 with 1 Axes>"
            ]
          },
          "metadata": {
            "needs_background": "light"
          }
        }
      ]
    },
    {
      "cell_type": "code",
      "metadata": {
        "colab": {
          "base_uri": "https://localhost:8080/"
        },
        "id": "jX4daBD74vK1",
        "outputId": "ceab08ea-dd03-4125-8863-5b977d95277b"
      },
      "source": [
        "print(\"Mean squared error in Predicition by defined model : \",mean_squared_error(target,y_test)*100)\n",
        "print(\"Mean squared error in Predicition by original(sklearn) model : \",mean_squared_error(target1,y_test)*100)"
      ],
      "execution_count": null,
      "outputs": [
        {
          "output_type": "stream",
          "name": "stdout",
          "text": [
            "Mean squared error in Predicition by defined model :  13.278081692477011\n",
            "Mean squared error in Predicition by original(sklearn) model :  2.142687769346051\n"
          ]
        }
      ]
    }
  ]
}