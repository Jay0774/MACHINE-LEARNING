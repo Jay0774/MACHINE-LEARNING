{
  "nbformat": 4,
  "nbformat_minor": 0,
  "metadata": {
    "colab": {
      "name": "Linear_Regression_using_pseudo_inverse.ipynb",
      "provenance": [],
      "collapsed_sections": []
    },
    "kernelspec": {
      "name": "python3",
      "display_name": "Python 3"
    },
    "language_info": {
      "name": "python"
    }
  },
  "cells": [
    {
      "cell_type": "markdown",
      "metadata": {
        "id": "-ldLmhm74X1X"
      },
      "source": [
        "# Linear Regression using pseudo inverse\n",
        "\n",
        "## Step 1: Import All required Libraries"
      ]
    },
    {
      "cell_type": "code",
      "metadata": {
        "id": "4vdKv9l_4QyD"
      },
      "source": [
        "import numpy as np\n",
        "import pandas as pd\n",
        "from sklearn.model_selection import train_test_split\n",
        "import matplotlib.pyplot as plt\n",
        "from sklearn.datasets import load_boston\n",
        "from sklearn.metrics import mean_squared_error\n",
        "from sklearn.preprocessing import MinMaxScaler"
      ],
      "execution_count": 1,
      "outputs": []
    },
    {
      "cell_type": "markdown",
      "metadata": {
        "id": "kVChucUu4c-3"
      },
      "source": [
        "## Step 2: Import Linear Regression for checking accuracy of defined model with original model"
      ]
    },
    {
      "cell_type": "code",
      "metadata": {
        "id": "Ek5UHRG14p0_"
      },
      "source": [
        "from sklearn.linear_model import LinearRegression"
      ],
      "execution_count": 2,
      "outputs": []
    },
    {
      "cell_type": "markdown",
      "metadata": {
        "id": "G3tq_xUE4svG"
      },
      "source": [
        "## Step 3: Defining class and functions for model training in this defined model the fit_model function is used for calculating the pseudo inverse of the independent feature to calculate the weight "
      ]
    },
    {
      "cell_type": "code",
      "metadata": {
        "id": "1DsGQYkF5Aln"
      },
      "source": [
        "  class learning() :\n",
        "    # constructor\n",
        "    def __init__(self):\n",
        "        self.weights = 0\n",
        "\n",
        "    # here the np.linalg.pinv function is used to calculate the inverse of x*x^T\n",
        "    def fit_model(self, X, y):\n",
        "        X2 = np.linalg.pinv(np.matmul(X.T, X)).dot(X.T)\n",
        "        self.weights = np.matmul(X2, y)\n",
        "        return self.weights\n",
        "\n",
        "    def predict(self, x):\n",
        "        y_pred = x.dot(self.weights) \n",
        "        return y_pred"
      ],
      "execution_count": 3,
      "outputs": []
    },
    {
      "cell_type": "markdown",
      "metadata": {
        "id": "htf4IJgt5r_Z"
      },
      "source": [
        "## Step 4: Loading CSV File for dataset (For this i have used boston house price predicition dataset provided by sklearn)"
      ]
    },
    {
      "cell_type": "code",
      "metadata": {
        "colab": {
          "base_uri": "https://localhost:8080/"
        },
        "id": "SfhzIhqH5zZH",
        "outputId": "b7883419-4e11-4f48-f50f-48ece2117bf9"
      },
      "source": [
        "boston = load_boston()\n",
        "features = pd.DataFrame(boston.data,columns=boston.feature_names)\n",
        "target = pd.DataFrame(boston.target,columns=['target'])\n",
        "df = pd.concat([features,target],axis=1)\n",
        "print(boston.feature_names)\n",
        "print(df.shape,df)"
      ],
      "execution_count": 4,
      "outputs": [
        {
          "output_type": "stream",
          "name": "stdout",
          "text": [
            "['CRIM' 'ZN' 'INDUS' 'CHAS' 'NOX' 'RM' 'AGE' 'DIS' 'RAD' 'TAX' 'PTRATIO'\n",
            " 'B' 'LSTAT']\n",
            "(506, 14)         CRIM    ZN  INDUS  CHAS    NOX  ...    TAX  PTRATIO       B  LSTAT  target\n",
            "0    0.00632  18.0   2.31   0.0  0.538  ...  296.0     15.3  396.90   4.98    24.0\n",
            "1    0.02731   0.0   7.07   0.0  0.469  ...  242.0     17.8  396.90   9.14    21.6\n",
            "2    0.02729   0.0   7.07   0.0  0.469  ...  242.0     17.8  392.83   4.03    34.7\n",
            "3    0.03237   0.0   2.18   0.0  0.458  ...  222.0     18.7  394.63   2.94    33.4\n",
            "4    0.06905   0.0   2.18   0.0  0.458  ...  222.0     18.7  396.90   5.33    36.2\n",
            "..       ...   ...    ...   ...    ...  ...    ...      ...     ...    ...     ...\n",
            "501  0.06263   0.0  11.93   0.0  0.573  ...  273.0     21.0  391.99   9.67    22.4\n",
            "502  0.04527   0.0  11.93   0.0  0.573  ...  273.0     21.0  396.90   9.08    20.6\n",
            "503  0.06076   0.0  11.93   0.0  0.573  ...  273.0     21.0  396.90   5.64    23.9\n",
            "504  0.10959   0.0  11.93   0.0  0.573  ...  273.0     21.0  393.45   6.48    22.0\n",
            "505  0.04741   0.0  11.93   0.0  0.573  ...  273.0     21.0  396.90   7.88    11.9\n",
            "\n",
            "[506 rows x 14 columns]\n"
          ]
        }
      ]
    },
    {
      "cell_type": "markdown",
      "metadata": {
        "id": "g1CzY0qc5-cG"
      },
      "source": [
        "## Step 5: Store the features and target in X , Y seprately, here i have used the RM feature as independent feature (Any other feature can also be chosen for predicting target but this feature gives best prediction with pseudo inverse)"
      ]
    },
    {
      "cell_type": "code",
      "metadata": {
        "colab": {
          "base_uri": "https://localhost:8080/"
        },
        "id": "gk23X_3C6C54",
        "outputId": "dd46fc85-4a16-4182-b9d6-24db67c90286"
      },
      "source": [
        "X = df['RM'].values\n",
        "Y = df['target'].values\n",
        "\n",
        "# Reshaping the array using min max scaler\n",
        "x_scaler = MinMaxScaler()\n",
        "X = x_scaler.fit_transform(X.reshape(-1,1))\n",
        "X = X[ : -1]\n",
        "y_scaler = MinMaxScaler()\n",
        "Y = y_scaler.fit_transform(Y.reshape(-1,1))\n",
        "Y = Y[ : -1]\n",
        "\n",
        "print(X.shape)\n",
        "print(Y.shape)"
      ],
      "execution_count": 5,
      "outputs": [
        {
          "output_type": "stream",
          "name": "stdout",
          "text": [
            "(505, 1)\n",
            "(505, 1)\n"
          ]
        }
      ]
    },
    {
      "cell_type": "markdown",
      "metadata": {
        "id": "mzOnwEyk6Hb2"
      },
      "source": [
        "## Step 6: Splitting the Data into three ratios 70/30, 80/20, 90/10 (Use the last one for best prediction)\n",
        "A. Split the data in 70,30 for training and testing the model "
      ]
    },
    {
      "cell_type": "code",
      "metadata": {
        "colab": {
          "base_uri": "https://localhost:8080/"
        },
        "id": "jtLHhb8h6No2",
        "outputId": "3feb103d-33ce-40fe-914a-1afe15ccc6a5"
      },
      "source": [
        "X_train, X_test, y_train, y_test = train_test_split(X, Y, test_size=0.3, random_state=0)\n",
        "print(X_train.shape, X_test.shape, y_train.shape, y_test.shape)\n"
      ],
      "execution_count": 6,
      "outputs": [
        {
          "output_type": "stream",
          "name": "stdout",
          "text": [
            "(353, 1) (152, 1) (353, 1) (152, 1)\n"
          ]
        }
      ]
    },
    {
      "cell_type": "markdown",
      "metadata": {
        "id": "N1Fm9lit6TN3"
      },
      "source": [
        "B. Split the data in 80,20 for training and testing the model "
      ]
    },
    {
      "cell_type": "code",
      "metadata": {
        "colab": {
          "base_uri": "https://localhost:8080/"
        },
        "id": "p4qDY5BV6UCX",
        "outputId": "860445e9-b3bf-4466-8098-5456259e112e"
      },
      "source": [
        "X_train, X_test, y_train, y_test = train_test_split(X, Y, test_size=0.2, random_state=1)\n",
        "print(X_train.shape, X_test.shape, y_train.shape, y_test.shape)"
      ],
      "execution_count": 7,
      "outputs": [
        {
          "output_type": "stream",
          "name": "stdout",
          "text": [
            "(404, 1) (101, 1) (404, 1) (101, 1)\n"
          ]
        }
      ]
    },
    {
      "cell_type": "markdown",
      "metadata": {
        "id": "34ZXVHgM6W3I"
      },
      "source": [
        "C. Split the data in 90,10 for training and testing the model"
      ]
    },
    {
      "cell_type": "code",
      "metadata": {
        "colab": {
          "base_uri": "https://localhost:8080/"
        },
        "id": "8l9mMuEV6Y5v",
        "outputId": "00cdfe0e-d8bb-479a-c0e6-fa61966ed50a"
      },
      "source": [
        "X_train, X_test, y_train, y_test = train_test_split(X, Y, test_size=0.1, random_state=1)\n",
        "print(X_train.shape, X_test.shape, y_train.shape, y_test.shape)\n"
      ],
      "execution_count": 8,
      "outputs": [
        {
          "output_type": "stream",
          "name": "stdout",
          "text": [
            "(454, 1) (51, 1) (454, 1) (51, 1)\n"
          ]
        }
      ]
    },
    {
      "cell_type": "markdown",
      "metadata": {
        "id": "_qWkcac86cH-"
      },
      "source": [
        "## Step 7: Creating model object and passing values which are no of iterations and learning rate"
      ]
    },
    {
      "cell_type": "code",
      "metadata": {
        "id": "3Yh-o1AV6pXu"
      },
      "source": [
        "model = learning()"
      ],
      "execution_count": 9,
      "outputs": []
    },
    {
      "cell_type": "markdown",
      "metadata": {
        "id": "WLquCPSc651l"
      },
      "source": [
        "## Step 8: Fitting model using training data"
      ]
    },
    {
      "cell_type": "code",
      "metadata": {
        "colab": {
          "base_uri": "https://localhost:8080/"
        },
        "id": "4RJhOpXx6_U_",
        "outputId": "396e8b3a-383c-420d-d0c3-e6b80109f0ba"
      },
      "source": [
        "model.fit_model(X_train,y_train)"
      ],
      "execution_count": 10,
      "outputs": [
        {
          "output_type": "execute_result",
          "data": {
            "text/plain": [
              "array([[0.76739976]])"
            ]
          },
          "metadata": {},
          "execution_count": 10
        }
      ]
    },
    {
      "cell_type": "markdown",
      "metadata": {
        "id": "AWzYK1Y37Z-n"
      },
      "source": [
        "## Step 9: Creating model provided by Sklearn and fitting that model with training data"
      ]
    },
    {
      "cell_type": "code",
      "metadata": {
        "colab": {
          "base_uri": "https://localhost:8080/"
        },
        "id": "1_sgMQgY7N6N",
        "outputId": "71bb3ad9-6a02-4c05-a1b2-e18892b10a7f"
      },
      "source": [
        "model1 = LinearRegression()\n",
        "model1.fit( X_train, y_train)"
      ],
      "execution_count": 11,
      "outputs": [
        {
          "output_type": "execute_result",
          "data": {
            "text/plain": [
              "LinearRegression(copy_X=True, fit_intercept=True, n_jobs=None, normalize=False)"
            ]
          },
          "metadata": {},
          "execution_count": 11
        }
      ]
    },
    {
      "cell_type": "markdown",
      "metadata": {
        "id": "cnserFvg7ptG"
      },
      "source": [
        "## Step 10: Predicting the values of both models using test data"
      ]
    },
    {
      "cell_type": "code",
      "metadata": {
        "colab": {
          "base_uri": "https://localhost:8080/"
        },
        "id": "vs0hfALe7xE0",
        "outputId": "6a542c1b-d6ff-49e7-f90c-eb811db7c79b"
      },
      "source": [
        "target = model.predict(X_test)\n",
        "target1 = model1.predict( X_test )\n",
        "print(target,target1,y_test)"
      ],
      "execution_count": 12,
      "outputs": [
        {
          "output_type": "stream",
          "name": "stdout",
          "text": [
            "[[0.48346626]\n",
            " [0.4609692 ]\n",
            " [0.36304081]\n",
            " [0.34069079]\n",
            " [0.39553657]\n",
            " [0.41332836]\n",
            " [0.45126458]\n",
            " [0.36921648]\n",
            " [0.35142468]\n",
            " [0.41994515]\n",
            " [0.39421321]\n",
            " [0.48714225]\n",
            " [0.31907597]\n",
            " [0.32731019]\n",
            " [0.36201154]\n",
            " [0.08484186]\n",
            " [0.55169264]\n",
            " [0.75931258]\n",
            " [0.38245004]\n",
            " [0.20070908]\n",
            " [0.31525294]\n",
            " [0.30393089]\n",
            " [0.44200109]\n",
            " [0.41965107]\n",
            " [0.40127111]\n",
            " [0.29466739]\n",
            " [0.37274543]\n",
            " [0.36068818]\n",
            " [0.58212984]\n",
            " [0.19394525]\n",
            " [0.44376556]\n",
            " [0.30054898]\n",
            " [0.65770821]\n",
            " [0.40877013]\n",
            " [0.37980333]\n",
            " [0.31554702]\n",
            " [0.42612081]\n",
            " [0.52728407]\n",
            " [0.41994515]\n",
            " [0.40450599]\n",
            " [0.40759382]\n",
            " [0.40421191]\n",
            " [0.44950011]\n",
            " [0.27437592]\n",
            " [0.3214286 ]\n",
            " [0.35230692]\n",
            " [0.62359501]\n",
            " [0.51463866]\n",
            " [0.37348063]\n",
            " [0.41818067]\n",
            " [0.42288594]] [[ 0.50351497]\n",
            " [ 0.47308034]\n",
            " [ 0.34060018]\n",
            " [ 0.31036447]\n",
            " [ 0.38456131]\n",
            " [ 0.40863053]\n",
            " [ 0.45995167]\n",
            " [ 0.34895479]\n",
            " [ 0.32488557]\n",
            " [ 0.41758189]\n",
            " [ 0.38277104]\n",
            " [ 0.50848795]\n",
            " [ 0.28112336]\n",
            " [ 0.29226283]\n",
            " [ 0.33920775]\n",
            " [-0.03575485]\n",
            " [ 0.59581345]\n",
            " [ 0.8766873 ]\n",
            " [ 0.36685751]\n",
            " [ 0.12099344]\n",
            " [ 0.27595146]\n",
            " [ 0.26063468]\n",
            " [ 0.44741977]\n",
            " [ 0.41718405]\n",
            " [ 0.39231916]\n",
            " [ 0.24810278]\n",
            " [ 0.35372885]\n",
            " [ 0.33741748]\n",
            " [ 0.63698972]\n",
            " [ 0.11184316]\n",
            " [ 0.4498068 ]\n",
            " [ 0.25605954]\n",
            " [ 0.73923416]\n",
            " [ 0.40246404]\n",
            " [ 0.36327696]\n",
            " [ 0.2763493 ]\n",
            " [ 0.4259365 ]\n",
            " [ 0.56279287]\n",
            " [ 0.41758189]\n",
            " [ 0.39669538]\n",
            " [ 0.40087268]\n",
            " [ 0.39629754]\n",
            " [ 0.45756464]\n",
            " [ 0.22065193]\n",
            " [ 0.28430606]\n",
            " [ 0.32607908]\n",
            " [ 0.69308492]\n",
            " [ 0.54568583]\n",
            " [ 0.35472344]\n",
            " [ 0.41519486]\n",
            " [ 0.42156028]] [[0.51555556]\n",
            " [0.42      ]\n",
            " [0.25777778]\n",
            " [0.37777778]\n",
            " [0.33111111]\n",
            " [0.4       ]\n",
            " [0.50888889]\n",
            " [0.21111111]\n",
            " [0.36666667]\n",
            " [0.39111111]\n",
            " [0.4       ]\n",
            " [0.58222222]\n",
            " [0.31777778]\n",
            " [0.32      ]\n",
            " [0.32      ]\n",
            " [0.15333333]\n",
            " [0.22222222]\n",
            " [1.        ]\n",
            " [0.42444444]\n",
            " [0.21333333]\n",
            " [0.24888889]\n",
            " [0.23555556]\n",
            " [0.41777778]\n",
            " [0.44444444]\n",
            " [0.41111111]\n",
            " [0.14888889]\n",
            " [0.18888889]\n",
            " [0.27777778]\n",
            " [0.84666667]\n",
            " [0.11555556]\n",
            " [0.42444444]\n",
            " [0.3       ]\n",
            " [1.        ]\n",
            " [0.22      ]\n",
            " [0.32888889]\n",
            " [0.37333333]\n",
            " [0.15111111]\n",
            " [0.69333333]\n",
            " [0.17777778]\n",
            " [0.36      ]\n",
            " [0.39111111]\n",
            " [0.34888889]\n",
            " [0.55777778]\n",
            " [0.19555556]\n",
            " [0.07777778]\n",
            " [0.08444444]\n",
            " [1.        ]\n",
            " [0.44444444]\n",
            " [0.44444444]\n",
            " [0.30222222]\n",
            " [0.40444444]]\n"
          ]
        }
      ]
    },
    {
      "cell_type": "markdown",
      "metadata": {
        "id": "3oDE4oDq75DX"
      },
      "source": [
        "## Step 11: Checking for Accuracy by plotting the target values and the predicted values by both the models\n",
        "\n"
      ]
    },
    {
      "cell_type": "code",
      "metadata": {
        "colab": {
          "base_uri": "https://localhost:8080/",
          "height": 295
        },
        "id": "ElhNjo247-gF",
        "outputId": "edc4a791-f3f2-4a21-89b8-7d32ed35c8f9"
      },
      "source": [
        "plt.scatter( X_test, y_test, color = 'blue' )  \n",
        "plt.plot( X_test, target, color = 'orange' )  \n",
        "plt.title( 'Feature VS Target (defined model)' )  \n",
        "plt.xlabel( 'Feature' )  \n",
        "plt.ylabel( 'Target' )  \n",
        "plt.show()"
      ],
      "execution_count": 13,
      "outputs": [
        {
          "output_type": "display_data",
          "data": {
            "image/png": "[encoded data removed]",
            "text/plain": [
              "<Figure size 432x288 with 1 Axes>"
            ]
          },
          "metadata": {
            "needs_background": "light"
          }
        }
      ]
    },
    {
      "cell_type": "code",
      "metadata": {
        "colab": {
          "base_uri": "https://localhost:8080/",
          "height": 295
        },
        "id": "H78APgpWfmGH",
        "outputId": "9efd6f61-9bef-40b6-bc22-4afd900bf586"
      },
      "source": [
        "plt.scatter( X_test, y_test, color = 'blue' )  \n",
        "plt.plot( X_test, target1, color = 'orange' )  \n",
        "plt.title( 'Feature VS Target (defined model)' )  \n",
        "plt.xlabel( 'Feature' )  \n",
        "plt.ylabel( 'Target' )  \n",
        "plt.show()"
      ],
      "execution_count": 17,
      "outputs": [
        {
          "output_type": "display_data",
          "data": {
            "image/png": "[encoded data removed]",
            "text/plain": [
              "<Figure size 432x288 with 1 Axes>"
            ]
          },
          "metadata": {
            "needs_background": "light"
          }
        }
      ]
    },
    {
      "cell_type": "code",
      "metadata": {
        "colab": {
          "base_uri": "https://localhost:8080/"
        },
        "id": "jX4daBD74vK1",
        "outputId": "ba4de509-a030-474e-ec80-729d45f92bad"
      },
      "source": [
        "print(\"Mean squared error in Predicition by defined model on test data : \",mean_squared_error(target,y_test)*100)\n",
        "print(\"Mean squared error in Predicition by original(sklearn) model on test data : \",mean_squared_error(target1,y_test)*100)"
      ],
      "execution_count": 15,
      "outputs": [
        {
          "output_type": "stream",
          "name": "stdout",
          "text": [
            "Mean squared error in Predicition by defined model on test data :  2.0040013017690796\n",
            "Mean squared error in Predicition by original(sklearn) model on test data :  1.6570624612756668\n"
          ]
        }
      ]
    },
    {
      "cell_type": "markdown",
      "metadata": {
        "id": "EZ83MARyf8IL"
      },
      "source": [
        "# For Training Data Accuracy and plot"
      ]
    },
    {
      "cell_type": "code",
      "metadata": {
        "colab": {
          "base_uri": "https://localhost:8080/",
          "height": 606
        },
        "id": "4WoTRqqkf--N",
        "outputId": "863c4916-07b2-4f12-b3eb-3c54049dd488"
      },
      "source": [
        "t = model.predict(X_train)\n",
        "t1 = model1.predict( X_train )\n",
        "plt.scatter( X_train, y_train, color = 'blue' )  \n",
        "plt.plot( X_train, t, color = 'orange' )  \n",
        "plt.title( 'Feature VS Target (defined model)' )  \n",
        "plt.xlabel( 'Feature' )  \n",
        "plt.ylabel( 'Target' )  \n",
        "plt.show()\n",
        "plt.scatter( X_train, y_train, color = 'blue' )  \n",
        "plt.plot( X_train, t1, color = 'orange' )  \n",
        "plt.title( 'Feature VS Target (sklearn model)' )  \n",
        "plt.xlabel( 'Feature' )  \n",
        "plt.ylabel( 'Target' )  \n",
        "plt.show()\n",
        "print(\"Mean squared error in Predicition by defined model on training data : \",mean_squared_error(target,y_test)*100)\n",
        "print(\"Mean squared error in Predicition by original(sklearn) model on training data : \",mean_squared_error(target1,y_test)*100)"
      ],
      "execution_count": 18,
      "outputs": [
        {
          "output_type": "display_data",
          "data": {
            "image/png": "[encoded data removed]",
            "text/plain": [
              "<Figure size 432x288 with 1 Axes>"
            ]
          },
          "metadata": {
            "needs_background": "light"
          }
        },
        {
          "output_type": "display_data",
          "data": {
            "image/png": "[encoded data removed]",
            "text/plain": [
              "<Figure size 432x288 with 1 Axes>"
            ]
          },
          "metadata": {
            "needs_background": "light"
          }
        },
        {
          "output_type": "stream",
          "name": "stdout",
          "text": [
            "Mean squared error in Predicition by defined model on training data :  2.0040013017690796\n",
            "Mean squared error in Predicition by original(sklearn) model on training data :  1.6570624612756668\n"
          ]
        }
      ]
    }
  ]
}