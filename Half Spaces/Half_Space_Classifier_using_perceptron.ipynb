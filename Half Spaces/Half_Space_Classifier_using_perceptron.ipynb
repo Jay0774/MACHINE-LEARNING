{
  "nbformat": 4,
  "nbformat_minor": 0,
  "metadata": {
    "colab": {
      "name": "Half Space Classifier using perceptron",
      "provenance": []
    },
    "kernelspec": {
      "display_name": "Python 3",
      "name": "python3"
    },
    "language_info": {
      "name": "python"
    }
  },
  "cells": [
    {
      "cell_type": "markdown",
      "metadata": {
        "id": "x1UqBtAvhEHD"
      },
      "source": [
        "# Half Sapce Classifier using Perceptron\n",
        "\n",
        "## Step 1: Import All required Libraries"
      ]
    },
    {
      "cell_type": "code",
      "metadata": {
        "id": "bDvNdYa9CjLj"
      },
      "source": [
        "import pandas as pd\n",
        "import numpy as np\n",
        "from sklearn.model_selection import train_test_split"
      ],
      "execution_count": 1,
      "outputs": []
    },
    {
      "cell_type": "markdown",
      "metadata": {
        "id": "YwbCo4pnhNcv"
      },
      "source": [
        "## Step 2: Read CSV file (For this i have uploded the file on google colab) "
      ]
    },
    {
      "cell_type": "code",
      "metadata": {
        "colab": {
          "base_uri": "https://localhost:8080/"
        },
        "id": "VKpaEb3HDOUT",
        "outputId": "fc3ee159-5a89-4423-c123-acf9e340e367"
      },
      "source": [
        "df = pd.read_csv('file.csv')\n",
        "print(df.shape,df)"
      ],
      "execution_count": 36,
      "outputs": [
        {
          "output_type": "stream",
          "name": "stdout",
          "text": [
            "(2665, 6)       Temperature   Humidity       Light          CO2  HumidityRatio  Occupancy\n",
            "0       23.700000  26.272000  585.200000   749.200000       0.004764          1\n",
            "1       23.718000  26.290000  578.400000   760.400000       0.004773          1\n",
            "2       23.730000  26.230000  572.666667   769.666667       0.004765          1\n",
            "3       23.722500  26.125000  493.750000   774.750000       0.004744          1\n",
            "4       23.754000  26.200000  488.600000   779.000000       0.004767          1\n",
            "...           ...        ...         ...          ...            ...        ...\n",
            "2660    24.290000  25.700000  808.000000  1150.250000       0.004829          1\n",
            "2661    24.330000  25.736000  809.800000  1129.200000       0.004848          1\n",
            "2662    24.330000  25.700000  817.000000  1125.800000       0.004841          1\n",
            "2663    24.356667  25.700000  813.000000  1123.000000       0.004849          1\n",
            "2664    24.408333  25.681667  798.000000  1124.000000       0.004860          1\n",
            "\n",
            "[2665 rows x 6 columns]\n"
          ]
        }
      ]
    },
    {
      "cell_type": "markdown",
      "metadata": {
        "id": "_pqvpAIihVza"
      },
      "source": [
        "## Step 3: Store the features and target in X , Y seperately and since target has value 0,1 change label 0 to -1"
      ]
    },
    {
      "cell_type": "code",
      "metadata": {
        "colab": {
          "base_uri": "https://localhost:8080/"
        },
        "id": "poQAQWxkDlIQ",
        "outputId": "c149dab8-9b93-4ed0-8d87-242ed72b870b"
      },
      "source": [
        "X = df.iloc[:,:-1].values\n",
        "Y = df.iloc[:,-1:].values\n",
        "print(X.shape,X)\n",
        "Y[Y==0]=-1\n",
        "print(Y.shape,Y)"
      ],
      "execution_count": 45,
      "outputs": [
        {
          "output_type": "stream",
          "name": "stdout",
          "text": [
            "(2665, 5) [[2.37000000e+01 2.62720000e+01 5.85200000e+02 7.49200000e+02\n",
            "  4.76416302e-03]\n",
            " [2.37180000e+01 2.62900000e+01 5.78400000e+02 7.60400000e+02\n",
            "  4.77266099e-03]\n",
            " [2.37300000e+01 2.62300000e+01 5.72666667e+02 7.69666667e+02\n",
            "  4.76515255e-03]\n",
            " ...\n",
            " [2.43300000e+01 2.57000000e+01 8.17000000e+02 1.12580000e+03\n",
            "  4.84075873e-03]\n",
            " [2.43566667e+01 2.57000000e+01 8.13000000e+02 1.12300000e+03\n",
            "  4.84855928e-03]\n",
            " [2.44083333e+01 2.56816667e+01 7.98000000e+02 1.12400000e+03\n",
            "  4.86020770e-03]]\n",
            "(2665, 1) [[1]\n",
            " [1]\n",
            " [1]\n",
            " ...\n",
            " [1]\n",
            " [1]\n",
            " [1]]\n"
          ]
        }
      ]
    },
    {
      "cell_type": "markdown",
      "metadata": {
        "id": "AjSE8T5ihdNM"
      },
      "source": [
        "## Step 4: Processing the Data and Splitting\n"
      ]
    },
    {
      "cell_type": "code",
      "metadata": {
        "colab": {
          "base_uri": "https://localhost:8080/"
        },
        "id": "SZfy-oNAEACo",
        "outputId": "5bc6a523-e5e7-4813-df98-d55b9e335019"
      },
      "source": [
        "from sklearn import preprocessing\n",
        "min_max_scaler = preprocessing.MinMaxScaler()\n",
        "X_scale = min_max_scaler.fit_transform(X)\n",
        "X_scale"
      ],
      "execution_count": 73,
      "outputs": [
        {
          "output_type": "execute_result",
          "data": {
            "text/plain": [
              "array([[0.83168317, 0.44513204, 0.34479305, 0.33003334, 0.70421197],\n",
              "       [0.8359604 , 0.44705255, 0.34078657, 0.34152347, 0.70830847],\n",
              "       [0.83881188, 0.44065084, 0.33740855, 0.35103018, 0.70468898],\n",
              "       ...,\n",
              "       [0.98138614, 0.38410243, 0.48136692, 0.71638882, 0.74113545],\n",
              "       [0.98772277, 0.38410243, 0.47901016, 0.71351629, 0.74489576],\n",
              "       [1.        , 0.38214635, 0.47017234, 0.71454219, 0.75051096]])"
            ]
          },
          "metadata": {},
          "execution_count": 73
        }
      ]
    },
    {
      "cell_type": "markdown",
      "metadata": {
        "id": "vWkz0kv_mRqT"
      },
      "source": [
        "A. Split the data in 70,30 for training and testing the model "
      ]
    },
    {
      "cell_type": "code",
      "metadata": {
        "colab": {
          "base_uri": "https://localhost:8080/"
        },
        "id": "q8yozto7mOKz",
        "outputId": "47b0b86f-170d-4839-e7d6-563a67139640"
      },
      "source": [
        "X_train, X_test, y_train, y_test = train_test_split(X_scale, Y, test_size=0.3, random_state=1)\n",
        "print(X_train.shape, X_test.shape, y_train.shape, y_test.shape)"
      ],
      "execution_count": 74,
      "outputs": [
        {
          "output_type": "stream",
          "name": "stdout",
          "text": [
            "(1865, 5) (800, 5) (1865, 1) (800, 1)\n"
          ]
        }
      ]
    },
    {
      "cell_type": "markdown",
      "metadata": {
        "id": "CgkjzYQmheUB"
      },
      "source": [
        "B. Split the data in 80,20 for training and testing the model "
      ]
    },
    {
      "cell_type": "code",
      "metadata": {
        "colab": {
          "base_uri": "https://localhost:8080/"
        },
        "id": "miV86CSwhjt3",
        "outputId": "70bb3094-9c72-4e63-9687-bc1a82f9b151"
      },
      "source": [
        "X_train, X_test, y_train, y_test = train_test_split(X, Y, test_size=0.2, random_state=1)\n",
        "print(X_train.shape, X_test.shape, y_train.shape, y_test.shape)"
      ],
      "execution_count": 75,
      "outputs": [
        {
          "output_type": "stream",
          "name": "stdout",
          "text": [
            "(2132, 5) (533, 5) (2132, 1) (533, 1)\n"
          ]
        }
      ]
    },
    {
      "cell_type": "markdown",
      "metadata": {
        "id": "XOQq3SrIiBVo"
      },
      "source": [
        "C. Split the data in 90,10 for training and testing the model "
      ]
    },
    {
      "cell_type": "code",
      "metadata": {
        "colab": {
          "base_uri": "https://localhost:8080/"
        },
        "id": "pDNx6FeziGfn",
        "outputId": "7685c8d0-54a2-4af9-c8a5-a29945cfd921"
      },
      "source": [
        "X_train, X_test, y_train, y_test = train_test_split(X, Y, test_size=0.1, random_state=1)\n",
        "print(X_train.shape, X_test.shape, y_train.shape, y_test.shape)"
      ],
      "execution_count": 76,
      "outputs": [
        {
          "output_type": "stream",
          "name": "stdout",
          "text": [
            "(2398, 5) (267, 5) (2398, 1) (267, 1)\n"
          ]
        }
      ]
    },
    {
      "cell_type": "markdown",
      "metadata": {
        "id": "zgyzBmnHiJKA"
      },
      "source": [
        "## Step 5: Defining W,W1 for calculating the value of w"
      ]
    },
    {
      "cell_type": "code",
      "metadata": {
        "colab": {
          "base_uri": "https://localhost:8080/"
        },
        "id": "NGifnzNfEFEA",
        "outputId": "0df22325-d2c9-4f37-ab7c-252518a8c70c"
      },
      "source": [
        "w1 = np.full((1,X_train.shape[1]),0)\n",
        "w = []\n",
        "w.append(w1)\n",
        "len(w)"
      ],
      "execution_count": 78,
      "outputs": [
        {
          "output_type": "execute_result",
          "data": {
            "text/plain": [
              "1"
            ]
          },
          "metadata": {},
          "execution_count": 78
        }
      ]
    },
    {
      "cell_type": "markdown",
      "metadata": {
        "id": "aJCY02A8nK0F"
      },
      "source": [
        "## Step 6: Calculating optimized value of w using perceptron rule that is w[i+1] = w[i] + yi*xi"
      ]
    },
    {
      "cell_type": "code",
      "metadata": {
        "colab": {
          "base_uri": "https://localhost:8080/"
        },
        "id": "ZWaOI7nyEKOb",
        "outputId": "1768ce28-fb79-4b0e-95a7-664de6413d13"
      },
      "source": [
        "t=0\n",
        "s=0\n",
        "for k in range(len(w)) :\n",
        "    for i in range(X_train.shape[0]):\n",
        "      for j in range(X_train.shape[1]):\n",
        "        t += (w[k][0,j]*X_train[i,j])\n",
        "        s += (y_train[i]*X_train[i,j])\n",
        "    if (y_train[i]*t<=0):\n",
        "      w2 = w[k] + s\n",
        "      w.append(w2)\n",
        "    else :\n",
        "      break;\n",
        "print(w[len(w)-1])"
      ],
      "execution_count": 81,
      "outputs": [
        {
          "output_type": "stream",
          "name": "stdout",
          "text": [
            "[[443443.65768144 443443.65768144 443443.65768144 443443.65768144\n",
            "  443443.65768144]]\n"
          ]
        }
      ]
    },
    {
      "cell_type": "markdown",
      "metadata": {
        "id": "pDUC3aBjnZDO"
      },
      "source": [
        "## Step 7: Creating target Array."
      ]
    },
    {
      "cell_type": "code",
      "metadata": {
        "colab": {
          "base_uri": "https://localhost:8080/"
        },
        "id": "NjmcLnrGVuMd",
        "outputId": "5117e18c-83be-4078-a3d9-f49c59fa1e72"
      },
      "source": [
        "target = np.full((y_test.shape[0],1),0)\n",
        "print(target.shape,X_test.shape)"
      ],
      "execution_count": 82,
      "outputs": [
        {
          "output_type": "stream",
          "name": "stdout",
          "text": [
            "(267, 1) (267, 5)\n"
          ]
        }
      ]
    },
    {
      "cell_type": "markdown",
      "metadata": {
        "id": "Ln9sG8dom_et"
      },
      "source": [
        "## Step 8: Calculation target as inner product of wi*xi. "
      ]
    },
    {
      "cell_type": "code",
      "metadata": {
        "id": "Iw8e8vLbXK2t"
      },
      "source": [
        "for i in range(X_test.shape[0]):\n",
        "  for j in range(X_test.shape[1]):\n",
        "    t += (w[len(w)-1][0,j]*X_test[i,j])\n",
        "    if t>=0 :\n",
        "      target[i,0] = 1\n",
        "    else :\n",
        "      target[i,0] = -1"
      ],
      "execution_count": 83,
      "outputs": []
    },
    {
      "cell_type": "markdown",
      "metadata": {
        "id": "PFR8-UtNm8SP"
      },
      "source": [
        "## Step 9: Checking for Accuracy. "
      ]
    },
    {
      "cell_type": "code",
      "metadata": {
        "colab": {
          "base_uri": "https://localhost:8080/"
        },
        "id": "Rs7ja6NHm23v",
        "outputId": "e264f256-fb40-4209-e758-e5bab1500f24"
      },
      "source": [
        "correctly_classified = 0\n",
        "for c in range( np.size( y_test ) ) :  \n",
        "  if y_test[c] == target[c] :            \n",
        "    correctly_classified = correctly_classified + 1\n",
        "  c = c + 1 \n",
        "print(\"Accuracy = \",(correctly_classified/c) * 100)"
      ],
      "execution_count": 84,
      "outputs": [
        {
          "output_type": "stream",
          "name": "stdout",
          "text": [
            "Accuracy =  35.95505617977528\n"
          ]
        }
      ]
    }
  ]
}