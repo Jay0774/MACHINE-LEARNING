{
  "nbformat": 4,
  "nbformat_minor": 0,
  "metadata": {
    "colab": {
      "name": "Half_Space_using_Logistic_Regression.ipynb",
      "provenance": []
    },
    "kernelspec": {
      "name": "python3",
      "display_name": "Python 3"
    },
    "language_info": {
      "name": "python"
    }
  },
  "cells": [
    {
      "cell_type": "markdown",
      "metadata": {
        "id": "-ldLmhm74X1X"
      },
      "source": [
        "# Half Sapce Classifier using Linear Programming\n",
        "\n",
        "## Step 1: Import All required Libraries"
      ]
    },
    {
      "cell_type": "code",
      "metadata": {
        "id": "4vdKv9l_4QyD"
      },
      "source": [
        "import numpy as np\n",
        "import pandas as pd\n",
        "from sklearn.model_selection import train_test_split"
      ],
      "execution_count": 1,
      "outputs": []
    },
    {
      "cell_type": "markdown",
      "metadata": {
        "id": "kVChucUu4c-3"
      },
      "source": [
        "## Step 2: Import Logistic Regression for checking accuracy of defined model with original model"
      ]
    },
    {
      "cell_type": "code",
      "metadata": {
        "id": "Ek5UHRG14p0_"
      },
      "source": [
        "from sklearn.linear_model import LogisticRegression"
      ],
      "execution_count": 2,
      "outputs": []
    },
    {
      "cell_type": "markdown",
      "metadata": {
        "id": "G3tq_xUE4svG"
      },
      "source": [
        "## Step 3: Defining class and functions for model training (update is used for gradient decent)"
      ]
    },
    {
      "cell_type": "code",
      "metadata": {
        "id": "1DsGQYkF5Aln"
      },
      "source": [
        "class learning() :\n",
        "    def __init__( self, learningrate, iterations ) :        \n",
        "        self.learning_rate = learningrate        \n",
        "        self.iterations = iterations \n",
        "    def fit_model( self, X, Y ) :               \n",
        "        self.m, self.n = X.shape              \n",
        "        self.W = np.zeros( self.n )        \n",
        "        self.b = 0        \n",
        "        self.X = X        \n",
        "        self.Y = Y\n",
        "        for i in range( self.iterations ) :            \n",
        "            self.update()            \n",
        "        return self\n",
        "    def update( self ) :           \n",
        "        A = 1 / ( 1 + np.exp( - ( self.X.dot( self.W ) + self.b ) ) )      \n",
        "        temp = ( A - self.Y.T )        \n",
        "        temp = np.reshape( temp, self.m )        \n",
        "        dW = np.dot( self.X.T, temp ) / self.m         \n",
        "        db = np.sum( temp ) / self.m   \n",
        "        self.W = self.W - self.learning_rate * dW    \n",
        "        self.b = self.b - self.learning_rate * db\n",
        "        return self\n",
        "    def predict( self, X ) :    \n",
        "        Z = 1 / ( 1 + np.exp( - ( X.dot( self.W ) + self.b ) ) )        \n",
        "        Y = np.where( Z > 0.5, 1, 0 )        \n",
        "        return Y"
      ],
      "execution_count": 3,
      "outputs": []
    },
    {
      "cell_type": "markdown",
      "metadata": {
        "id": "htf4IJgt5r_Z"
      },
      "source": [
        "## Step 4: Reading CSV File for dataset (For this i have uploded the file on google colab)"
      ]
    },
    {
      "cell_type": "code",
      "metadata": {
        "colab": {
          "base_uri": "https://localhost:8080/"
        },
        "id": "SfhzIhqH5zZH",
        "outputId": "f2aed716-de1e-4eae-ba7d-113e03729e33"
      },
      "source": [
        "df = pd.read_csv('diabetes.csv')\n",
        "values = df.iloc[0:].values\n",
        "print(df)\n",
        "print(values)"
      ],
      "execution_count": 4,
      "outputs": [
        {
          "output_type": "stream",
          "name": "stdout",
          "text": [
            "     Pregnancies  Glucose  ...  Age  Outcome\n",
            "0              6      148  ...   50        1\n",
            "1              1       85  ...   31        0\n",
            "2              8      183  ...   32        1\n",
            "3              1       89  ...   21        0\n",
            "4              0      137  ...   33        1\n",
            "..           ...      ...  ...  ...      ...\n",
            "763           10      101  ...   63        0\n",
            "764            2      122  ...   27        0\n",
            "765            5      121  ...   30        0\n",
            "766            1      126  ...   47        1\n",
            "767            1       93  ...   23        0\n",
            "\n",
            "[768 rows x 9 columns]\n",
            "[[  6.    148.     72.    ...   0.627  50.      1.   ]\n",
            " [  1.     85.     66.    ...   0.351  31.      0.   ]\n",
            " [  8.    183.     64.    ...   0.672  32.      1.   ]\n",
            " ...\n",
            " [  5.    121.     72.    ...   0.245  30.      0.   ]\n",
            " [  1.    126.     60.    ...   0.349  47.      1.   ]\n",
            " [  1.     93.     70.    ...   0.315  23.      0.   ]]\n"
          ]
        }
      ]
    },
    {
      "cell_type": "markdown",
      "metadata": {
        "id": "g1CzY0qc5-cG"
      },
      "source": [
        "## Step 5: Store the features and target in X , Y separately"
      ]
    },
    {
      "cell_type": "code",
      "metadata": {
        "colab": {
          "base_uri": "https://localhost:8080/"
        },
        "id": "gk23X_3C6C54",
        "outputId": "76544a55-a46f-4405-cfdd-2933630d5c7f"
      },
      "source": [
        "X = df.iloc[:,:-1].values\n",
        "Y = df.iloc[:,-1:].values\n",
        "print(X.shape)\n",
        "print(Y.shape)"
      ],
      "execution_count": 5,
      "outputs": [
        {
          "output_type": "stream",
          "name": "stdout",
          "text": [
            "(768, 8)\n",
            "(768, 1)\n"
          ]
        }
      ]
    },
    {
      "cell_type": "markdown",
      "metadata": {
        "id": "mzOnwEyk6Hb2"
      },
      "source": [
        "## Step 6: \n",
        "A. Split the data in 70,30 for training and testing the model "
      ]
    },
    {
      "cell_type": "code",
      "metadata": {
        "colab": {
          "base_uri": "https://localhost:8080/"
        },
        "id": "jtLHhb8h6No2",
        "outputId": "42a70c03-b2be-4a95-f907-95bd1f2b86d0"
      },
      "source": [
        "X_train, X_test, y_train, y_test = train_test_split(X, Y, test_size=0.3, random_state=1)\n",
        "print(X_train.shape, X_test.shape, y_train.shape, y_test.shape)\n"
      ],
      "execution_count": 6,
      "outputs": [
        {
          "output_type": "stream",
          "name": "stdout",
          "text": [
            "(537, 8) (231, 8) (537, 1) (231, 1)\n"
          ]
        }
      ]
    },
    {
      "cell_type": "markdown",
      "metadata": {
        "id": "N1Fm9lit6TN3"
      },
      "source": [
        "B. Split the data in 80,20 for training and testing the model "
      ]
    },
    {
      "cell_type": "code",
      "metadata": {
        "colab": {
          "base_uri": "https://localhost:8080/"
        },
        "id": "p4qDY5BV6UCX",
        "outputId": "eb5f75bc-c33b-43b5-948e-67eb85dc5495"
      },
      "source": [
        "X_train, X_test, y_train, y_test = train_test_split(X, Y, test_size=0.2, random_state=1)\n",
        "print(X_train.shape, X_test.shape, y_train.shape, y_test.shape)"
      ],
      "execution_count": 18,
      "outputs": [
        {
          "output_type": "stream",
          "name": "stdout",
          "text": [
            "(614, 8) (154, 8) (614, 1) (154, 1)\n"
          ]
        }
      ]
    },
    {
      "cell_type": "markdown",
      "metadata": {
        "id": "34ZXVHgM6W3I"
      },
      "source": [
        "C. Split the data in 90,10 for training and testing the model"
      ]
    },
    {
      "cell_type": "code",
      "metadata": {
        "colab": {
          "base_uri": "https://localhost:8080/"
        },
        "id": "8l9mMuEV6Y5v",
        "outputId": "5908044d-e851-4927-a213-bcbed16b6509"
      },
      "source": [
        "X_train, X_test, y_train, y_test = train_test_split(X, Y, test_size=0.1, random_state=1)\n",
        "print(X_train.shape, X_test.shape, y_train.shape, y_test.shape)\n"
      ],
      "execution_count": 12,
      "outputs": [
        {
          "output_type": "stream",
          "name": "stdout",
          "text": [
            "(691, 8) (77, 8) (691, 1) (77, 1)\n"
          ]
        }
      ]
    },
    {
      "cell_type": "markdown",
      "metadata": {
        "id": "_qWkcac86cH-"
      },
      "source": [
        "## Step 7: Creating model object and passing values."
      ]
    },
    {
      "cell_type": "code",
      "metadata": {
        "id": "3Yh-o1AV6pXu"
      },
      "source": [
        "model = learning( learningrate = 0.01, iterations = 1000 )"
      ],
      "execution_count": 19,
      "outputs": []
    },
    {
      "cell_type": "markdown",
      "metadata": {
        "id": "WLquCPSc651l"
      },
      "source": [
        "## Step 8: Fitting model."
      ]
    },
    {
      "cell_type": "code",
      "metadata": {
        "colab": {
          "base_uri": "https://localhost:8080/"
        },
        "id": "4RJhOpXx6_U_",
        "outputId": "772a24f7-2198-4ea8-ab91-bcb1c909da6a"
      },
      "source": [
        "model.fit_model( X_train, y_train )"
      ],
      "execution_count": 20,
      "outputs": [
        {
          "output_type": "execute_result",
          "data": {
            "text/plain": [
              "<__main__.learning at 0x7f2036f06610>"
            ]
          },
          "metadata": {},
          "execution_count": 20
        }
      ]
    },
    {
      "cell_type": "markdown",
      "metadata": {
        "id": "AWzYK1Y37Z-n"
      },
      "source": [
        "## Step 9: Creating model provided by Sklearn and fitting that model"
      ]
    },
    {
      "cell_type": "code",
      "metadata": {
        "colab": {
          "base_uri": "https://localhost:8080/"
        },
        "id": "1_sgMQgY7N6N",
        "outputId": "36640f4c-5f34-47e8-d63a-7b7b4a1aa634"
      },
      "source": [
        "model1 = LogisticRegression()    \n",
        "model1.fit( X_train, y_train)"
      ],
      "execution_count": 21,
      "outputs": [
        {
          "output_type": "stream",
          "name": "stderr",
          "text": [
            "/usr/local/lib/python3.7/dist-packages/sklearn/utils/validation.py:760: DataConversionWarning: A column-vector y was passed when a 1d array was expected. Please change the shape of y to (n_samples, ), for example using ravel().\n",
            "  y = column_or_1d(y, warn=True)\n",
            "/usr/local/lib/python3.7/dist-packages/sklearn/linear_model/_logistic.py:940: ConvergenceWarning: lbfgs failed to converge (status=1):\n",
            "STOP: TOTAL NO. of ITERATIONS REACHED LIMIT.\n",
            "\n",
            "Increase the number of iterations (max_iter) or scale the data as shown in:\n",
            "    https://scikit-learn.org/stable/modules/preprocessing.html\n",
            "Please also refer to the documentation for alternative solver options:\n",
            "    https://scikit-learn.org/stable/modules/linear_model.html#logistic-regression\n",
            "  extra_warning_msg=_LOGISTIC_SOLVER_CONVERGENCE_MSG)\n"
          ]
        },
        {
          "output_type": "execute_result",
          "data": {
            "text/plain": [
              "LogisticRegression(C=1.0, class_weight=None, dual=False, fit_intercept=True,\n",
              "                   intercept_scaling=1, l1_ratio=None, max_iter=100,\n",
              "                   multi_class='auto', n_jobs=None, penalty='l2',\n",
              "                   random_state=None, solver='lbfgs', tol=0.0001, verbose=0,\n",
              "                   warm_start=False)"
            ]
          },
          "metadata": {},
          "execution_count": 21
        }
      ]
    },
    {
      "cell_type": "markdown",
      "metadata": {
        "id": "cnserFvg7ptG"
      },
      "source": [
        "## Step 10: Predicting the values of both models"
      ]
    },
    {
      "cell_type": "code",
      "metadata": {
        "colab": {
          "base_uri": "https://localhost:8080/"
        },
        "id": "vs0hfALe7xE0",
        "outputId": "87953734-425a-479b-9159-481435b82ed6"
      },
      "source": [
        "target = model.predict( X_test )\n",
        "target1 = model1.predict( X_test )\n",
        "print(target,target1)"
      ],
      "execution_count": 22,
      "outputs": [
        {
          "output_type": "stream",
          "name": "stdout",
          "text": [
            "[0 0 0 0 0 0 0 0 0 0 0 0 0 0 0 0 0 0 1 0 0 0 0 0 0 0 0 0 0 0 0 1 0 0 0 0 0\n",
            " 0 0 0 0 0 0 0 0 0 0 0 0 0 1 0 0 0 0 0 1 0 0 0 0 1 0 0 0 0 0 0 0 0 0 0 0 0\n",
            " 0 0 0 0 0 0 0 0 0 0 0 0 0 0 0 0 0 0 0 0 0 0 0 0 0 0 0 0 0 0 0 0 0 0 0 0 0\n",
            " 0 0 0 0 0 0 0 0 0 0 0 0 0 0 0 0 0 0 0 0 0 0 0 0 0 0 0 0 0 0 0 0 0 0 0 0 0\n",
            " 0 0 0 0 0 1] [0 0 0 0 0 0 0 0 0 0 0 0 1 1 0 1 0 0 0 0 0 0 1 0 0 0 0 1 0 1 0 0 0 1 0 1 0\n",
            " 0 0 1 0 0 0 0 0 0 1 1 0 0 0 0 1 0 1 0 1 0 1 0 1 0 1 0 0 0 0 0 1 1 1 1 1 0\n",
            " 1 0 1 0 0 1 1 0 0 0 0 1 1 0 0 0 0 0 0 0 1 0 0 0 1 0 0 0 1 0 0 0 1 1 0 0 0\n",
            " 0 0 0 0 0 0 0 0 0 0 1 0 0 0 0 0 0 1 0 1 0 0 0 0 0 0 1 0 0 1 0 0 1 1 0 0 0\n",
            " 0 0 0 1 0 0]\n"
          ]
        }
      ]
    },
    {
      "cell_type": "markdown",
      "metadata": {
        "id": "3oDE4oDq75DX"
      },
      "source": [
        "## Step 11: Checking for Accuracy"
      ]
    },
    {
      "cell_type": "code",
      "metadata": {
        "colab": {
          "base_uri": "https://localhost:8080/"
        },
        "id": "ElhNjo247-gF",
        "outputId": "95392eca-b3c2-448c-aa08-c4d639dc8ede"
      },
      "source": [
        "v1 = 0  \n",
        "v2 = 0   \n",
        "c = 0    \n",
        "for c in range( np.size( target ) ) :  \n",
        "  if y_test[c] == target[c] :            \n",
        "    v1 = v1 + 1\n",
        "  if y_test[c] == target1[c] :            \n",
        "    v2 = v2 + 1\n",
        "  c = c + 1\n",
        "print(\"Accuracy of Defined Model :\",(v1/c)*100)\n",
        "print(\"Accuracy of sklearn Model :\",(v2/c)*100)            "
      ],
      "execution_count": 23,
      "outputs": [
        {
          "output_type": "stream",
          "name": "stdout",
          "text": [
            "Accuracy of Defined Model : 61.68831168831169\n",
            "Accuracy of sklearn Model : 77.92207792207793\n"
          ]
        }
      ]
    }
  ]
}