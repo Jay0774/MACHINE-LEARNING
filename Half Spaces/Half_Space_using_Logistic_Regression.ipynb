{
  "nbformat": 4,
  "nbformat_minor": 0,
  "metadata": {
    "colab": {
      "name": "Half_Space_using_Logistic_Regression.ipynb",
      "provenance": []
    },
    "kernelspec": {
      "name": "python3",
      "display_name": "Python 3"
    },
    "language_info": {
      "name": "python"
    }
  },
  "cells": [
    {
      "cell_type": "markdown",
      "metadata": {
        "id": "-ldLmhm74X1X"
      },
      "source": [
        "# Logistic regression\n",
        "\n",
        "## Step 1: Import All required Libraries\n",
        "\n"
      ]
    },
    {
      "cell_type": "code",
      "metadata": {
        "id": "4vdKv9l_4QyD"
      },
      "source": [
        "import numpy as np\n",
        "import pandas as pd\n",
        "from sklearn.model_selection import train_test_split"
      ],
      "execution_count": 38,
      "outputs": []
    },
    {
      "cell_type": "markdown",
      "metadata": {
        "id": "G3tq_xUE4svG"
      },
      "source": [
        "## Step 2: Defining class and functions for model training (update is used for gradient decent)"
      ]
    },
    {
      "cell_type": "code",
      "metadata": {
        "id": "1DsGQYkF5Aln"
      },
      "source": [
        "class learning() :\n",
        "    # Constructor\n",
        "    def __init__( self, learningrate, iterations ) :        \n",
        "        self.learningrate = learningrate        \n",
        "        self.iterations = iterations \n",
        "    # fit_model used for gradient descent \n",
        "    def fit_model( self, X, Y ) :               \n",
        "        self.m, self.n = X.shape              \n",
        "        self.W = np.zeros( self.n )        \n",
        "        self.b = 0        \n",
        "        self.X = X        \n",
        "        self.Y = Y\n",
        "        # Loop for gradient Descent iterations\n",
        "        for i in range( self.iterations ) :            \n",
        "            self.update()            \n",
        "        return self\n",
        "    # updating gradients\n",
        "    def update( self ) :           \n",
        "        T = 1 / ( 1 + np.exp( - ( self.X.dot( self.W ) + self.b ) ) )      \n",
        "        t = ( T - self.Y.T )        \n",
        "        t = np.reshape( t, self.m )        \n",
        "        dW = np.dot( self.X.T, t ) / self.m         \n",
        "        db = np.sum( t ) / self.m   \n",
        "        self.W = self.W - self.learningrate * dW    \n",
        "        self.b = self.b - self.learningrate * db\n",
        "        return self\n",
        "    # predict the values \n",
        "    def predict( self, X ) :    \n",
        "        Z = 1 / ( 1 + np.exp( - ( X.dot( self.W ) + self.b ) ) )        \n",
        "        Y = np.where( Z > 0.5, 1, 0 )        \n",
        "        return Y"
      ],
      "execution_count": 39,
      "outputs": []
    },
    {
      "cell_type": "markdown",
      "metadata": {
        "id": "htf4IJgt5r_Z"
      },
      "source": [
        "## Step 3: Reading CSV File for dataset (For this i have uploded the file on google colab)"
      ]
    },
    {
      "cell_type": "code",
      "metadata": {
        "colab": {
          "base_uri": "https://localhost:8080/"
        },
        "id": "SfhzIhqH5zZH",
        "outputId": "9c817620-19d1-46cb-db58-8c240552d65d"
      },
      "source": [
        "df = pd.read_csv('diabetes.csv')\n",
        "values = df.iloc[0:].values\n",
        "print(df)\n",
        "print(values)"
      ],
      "execution_count": 40,
      "outputs": [
        {
          "output_type": "stream",
          "name": "stdout",
          "text": [
            "     Pregnancies  Glucose  ...  Age  Outcome\n",
            "0              6      148  ...   50        1\n",
            "1              1       85  ...   31        0\n",
            "2              8      183  ...   32        1\n",
            "3              1       89  ...   21        0\n",
            "4              0      137  ...   33        1\n",
            "..           ...      ...  ...  ...      ...\n",
            "763           10      101  ...   63        0\n",
            "764            2      122  ...   27        0\n",
            "765            5      121  ...   30        0\n",
            "766            1      126  ...   47        1\n",
            "767            1       93  ...   23        0\n",
            "\n",
            "[768 rows x 9 columns]\n",
            "[[  6.    148.     72.    ...   0.627  50.      1.   ]\n",
            " [  1.     85.     66.    ...   0.351  31.      0.   ]\n",
            " [  8.    183.     64.    ...   0.672  32.      1.   ]\n",
            " ...\n",
            " [  5.    121.     72.    ...   0.245  30.      0.   ]\n",
            " [  1.    126.     60.    ...   0.349  47.      1.   ]\n",
            " [  1.     93.     70.    ...   0.315  23.      0.   ]]\n"
          ]
        }
      ]
    },
    {
      "cell_type": "markdown",
      "metadata": {
        "id": "g1CzY0qc5-cG"
      },
      "source": [
        "## Step 4: Store the features and target in X , Y separately"
      ]
    },
    {
      "cell_type": "code",
      "metadata": {
        "colab": {
          "base_uri": "https://localhost:8080/"
        },
        "id": "gk23X_3C6C54",
        "outputId": "341e82e2-cc44-47bc-a83f-3189572a599c"
      },
      "source": [
        "X = df.iloc[:,:-1].values\n",
        "Y = df.iloc[:,-1:].values\n",
        "print(X.shape)\n",
        "print(Y.shape)"
      ],
      "execution_count": 41,
      "outputs": [
        {
          "output_type": "stream",
          "name": "stdout",
          "text": [
            "(768, 8)\n",
            "(768, 1)\n"
          ]
        }
      ]
    },
    {
      "cell_type": "markdown",
      "metadata": {
        "id": "mzOnwEyk6Hb2"
      },
      "source": [
        "## Step 5: Splitting the Data in different ratios\n",
        "A. Split the data in 70,30 for training and testing the model "
      ]
    },
    {
      "cell_type": "code",
      "metadata": {
        "colab": {
          "base_uri": "https://localhost:8080/"
        },
        "id": "jtLHhb8h6No2",
        "outputId": "4cefeeab-8207-45c1-8c90-f1720c44bcec"
      },
      "source": [
        "X_train, X_test, y_train, y_test = train_test_split(X, Y, test_size=0.3, random_state=1)\n",
        "print(X_train.shape, X_test.shape, y_train.shape, y_test.shape)\n"
      ],
      "execution_count": 42,
      "outputs": [
        {
          "output_type": "stream",
          "name": "stdout",
          "text": [
            "(537, 8) (231, 8) (537, 1) (231, 1)\n"
          ]
        }
      ]
    },
    {
      "cell_type": "markdown",
      "metadata": {
        "id": "N1Fm9lit6TN3"
      },
      "source": [
        "B. Split the data in 80,20 for training and testing the model "
      ]
    },
    {
      "cell_type": "code",
      "metadata": {
        "colab": {
          "base_uri": "https://localhost:8080/"
        },
        "id": "p4qDY5BV6UCX",
        "outputId": "60716c4b-39c1-40ac-e850-51e266c3a949"
      },
      "source": [
        "X_train, X_test, y_train, y_test = train_test_split(X, Y, test_size=0.2, random_state=1)\n",
        "print(X_train.shape, X_test.shape, y_train.shape, y_test.shape)"
      ],
      "execution_count": 43,
      "outputs": [
        {
          "output_type": "stream",
          "name": "stdout",
          "text": [
            "(614, 8) (154, 8) (614, 1) (154, 1)\n"
          ]
        }
      ]
    },
    {
      "cell_type": "markdown",
      "metadata": {
        "id": "34ZXVHgM6W3I"
      },
      "source": [
        "C. Split the data in 90,10 for training and testing the model"
      ]
    },
    {
      "cell_type": "code",
      "metadata": {
        "colab": {
          "base_uri": "https://localhost:8080/"
        },
        "id": "8l9mMuEV6Y5v",
        "outputId": "22407538-bff6-4983-e7f3-c45eb8764e7e"
      },
      "source": [
        "X_train, X_test, y_train, y_test = train_test_split(X, Y, test_size=0.1, random_state=1)\n",
        "print(X_train.shape, X_test.shape, y_train.shape, y_test.shape)\n"
      ],
      "execution_count": 44,
      "outputs": [
        {
          "output_type": "stream",
          "name": "stdout",
          "text": [
            "(691, 8) (77, 8) (691, 1) (77, 1)\n"
          ]
        }
      ]
    },
    {
      "cell_type": "markdown",
      "metadata": {
        "id": "_qWkcac86cH-"
      },
      "source": [
        "## Step 6: Creating model object and passing values."
      ]
    },
    {
      "cell_type": "code",
      "metadata": {
        "id": "3Yh-o1AV6pXu"
      },
      "source": [
        "model = learning( learningrate = 0.01, iterations = 10000 )"
      ],
      "execution_count": 45,
      "outputs": []
    },
    {
      "cell_type": "markdown",
      "metadata": {
        "id": "WLquCPSc651l"
      },
      "source": [
        "## Step 7: Fitting model."
      ]
    },
    {
      "cell_type": "code",
      "metadata": {
        "colab": {
          "base_uri": "https://localhost:8080/"
        },
        "id": "4RJhOpXx6_U_",
        "outputId": "19a22d5d-a898-468f-aba5-0e9c2a0bdf96"
      },
      "source": [
        "model.fit_model( X_train, y_train )"
      ],
      "execution_count": 46,
      "outputs": [
        {
          "output_type": "execute_result",
          "data": {
            "text/plain": [
              "<__main__.learning at 0x7fb9cb0835d0>"
            ]
          },
          "metadata": {},
          "execution_count": 46
        }
      ]
    },
    {
      "cell_type": "markdown",
      "metadata": {
        "id": "cnserFvg7ptG"
      },
      "source": [
        "## Step 8: Predicting the values by using defined model"
      ]
    },
    {
      "cell_type": "code",
      "metadata": {
        "colab": {
          "base_uri": "https://localhost:8080/"
        },
        "id": "vs0hfALe7xE0",
        "outputId": "1d9e6e8c-5748-48bd-b4e4-c2619d7a2f33"
      },
      "source": [
        "target = model.predict( X_test )\n",
        "t = model.predict( X_train )\n",
        "print(target,t,y_test)"
      ],
      "execution_count": 47,
      "outputs": [
        {
          "output_type": "stream",
          "name": "stdout",
          "text": [
            "[1 1 1 0 0 0 0 1 0 0 0 0 1 1 1 1 0 0 1 0 1 0 1 1 0 0 0 1 0 1 0 1 0 1 0 0 0\n",
            " 0 0 1 0 0 0 0 0 0 1 1 1 0 1 0 1 0 0 0 1 0 1 1 1 1 1 0 0 1 0 0 1 1 1 1 0 0\n",
            " 1 1 1] [1 1 1 0 1 0 1 0 0 1 1 0 1 1 0 0 0 1 1 1 0 1 1 0 1 0 1 0 0 1 0 0 0 1 0 0 0\n",
            " 0 0 0 1 0 0 0 1 0 0 1 0 0 0 1 0 1 0 0 1 1 1 1 0 0 0 1 0 1 1 1 1 0 0 0 1 1\n",
            " 1 0 1 1 1 0 0 0 1 1 1 0 0 1 0 0 1 1 1 1 1 0 0 1 0 1 0 0 0 1 1 0 1 0 0 0 1\n",
            " 1 1 1 0 0 0 0 1 1 0 1 1 1 0 0 0 1 1 0 0 1 1 0 1 0 1 1 1 1 0 0 1 1 1 0 1 1\n",
            " 1 0 1 0 1 1 1 0 0 0 0 1 1 1 1 0 1 0 0 1 0 1 1 0 0 1 1 1 1 1 1 0 0 0 1 1 1\n",
            " 0 0 0 0 0 0 1 1 1 0 0 0 0 1 0 1 0 1 0 1 0 1 1 1 1 0 1 0 1 0 0 0 1 1 0 1 0\n",
            " 1 0 1 1 1 0 0 0 0 1 0 0 0 0 1 0 0 0 0 0 1 1 1 0 0 1 1 1 1 0 1 0 0 1 1 0 1\n",
            " 1 0 1 0 1 1 1 0 0 0 0 1 1 0 1 0 1 0 1 1 0 0 1 1 1 1 0 0 1 0 1 1 0 0 1 1 0\n",
            " 0 0 0 0 1 1 1 0 1 1 0 1 1 0 0 0 0 0 0 0 0 0 1 0 0 0 0 0 1 0 1 1 1 1 0 0 1\n",
            " 0 1 0 0 0 1 0 1 0 1 1 0 1 0 0 1 1 0 1 0 0 0 0 0 1 1 1 1 1 0 0 0 1 0 1 1 0\n",
            " 0 0 0 0 0 0 0 1 0 0 0 0 0 1 0 0 0 0 1 1 0 0 1 1 0 1 1 0 1 0 0 1 1 0 1 0 0\n",
            " 1 1 1 1 0 1 0 0 1 1 0 1 1 1 0 0 1 0 1 1 1 0 0 0 1 0 0 1 1 0 0 1 1 1 0 0 1\n",
            " 0 0 0 0 0 0 0 0 0 0 0 1 0 1 1 0 0 1 1 1 0 0 0 1 0 1 0 1 1 0 1 0 0 1 1 0 1\n",
            " 0 1 1 1 0 0 1 0 0 1 0 1 0 0 0 0 0 0 0 1 1 1 0 0 0 0 1 0 1 1 1 1 1 0 0 0 0\n",
            " 1 0 0 0 1 1 0 1 0 1 1 0 0 1 1 0 0 0 1 1 0 1 0 0 1 1 1 1 0 0 1 1 0 1 0 1 0\n",
            " 0 1 0 0 0 1 1 0 1 1 0 0 1 1 0 1 1 1 1 0 0 0 1 1 0 1 0 0 0 0 0 0 0 1 1 0 0\n",
            " 0 0 0 1 1 1 0 0 0 0 0 0 0 0 1 0 1 0 1 0 0 1 1 1 1 0 1 1 0 1 1 1 0 0 1 0 0\n",
            " 1 0 1 1 0 0 0 1 1 1 1 0 1 0 1 1 0 1 0 1 0 0 0 1 1 1 1 0 0 1 0 1 1 0 0 1 1\n",
            " 1 1 0 0 0 1 0 0 1 1 1 1 0 1 0 0 1 0 0 1 1 1 1 1 0] [[0]\n",
            " [0]\n",
            " [0]\n",
            " [0]\n",
            " [0]\n",
            " [0]\n",
            " [0]\n",
            " [0]\n",
            " [0]\n",
            " [0]\n",
            " [0]\n",
            " [0]\n",
            " [1]\n",
            " [1]\n",
            " [0]\n",
            " [1]\n",
            " [1]\n",
            " [0]\n",
            " [0]\n",
            " [0]\n",
            " [1]\n",
            " [1]\n",
            " [1]\n",
            " [1]\n",
            " [0]\n",
            " [0]\n",
            " [0]\n",
            " [1]\n",
            " [0]\n",
            " [1]\n",
            " [1]\n",
            " [0]\n",
            " [0]\n",
            " [1]\n",
            " [0]\n",
            " [1]\n",
            " [0]\n",
            " [0]\n",
            " [0]\n",
            " [0]\n",
            " [0]\n",
            " [0]\n",
            " [0]\n",
            " [1]\n",
            " [0]\n",
            " [0]\n",
            " [1]\n",
            " [1]\n",
            " [0]\n",
            " [1]\n",
            " [0]\n",
            " [0]\n",
            " [1]\n",
            " [0]\n",
            " [1]\n",
            " [0]\n",
            " [1]\n",
            " [0]\n",
            " [0]\n",
            " [0]\n",
            " [0]\n",
            " [0]\n",
            " [1]\n",
            " [0]\n",
            " [1]\n",
            " [0]\n",
            " [1]\n",
            " [1]\n",
            " [0]\n",
            " [1]\n",
            " [1]\n",
            " [0]\n",
            " [0]\n",
            " [0]\n",
            " [1]\n",
            " [1]\n",
            " [1]]\n"
          ]
        }
      ]
    },
    {
      "cell_type": "markdown",
      "metadata": {
        "id": "3oDE4oDq75DX"
      },
      "source": [
        "## Step 9: Checking for Accuracy"
      ]
    },
    {
      "cell_type": "code",
      "metadata": {
        "colab": {
          "base_uri": "https://localhost:8080/"
        },
        "id": "ElhNjo247-gF",
        "outputId": "45ebfe41-801c-4fb1-f3db-69bdfc293f58"
      },
      "source": [
        "v1 = 0  \n",
        "v2 = 0\n",
        "c = 0\n",
        "i=0    \n",
        "for c in range( np.size( target ) ) :  \n",
        "  if y_test[c] == target[c] :            \n",
        "    v1 = v1 + 1\n",
        "for i in range( np.size( t ) ) :\n",
        "  if y_train[i] == t[i] :            \n",
        "    v2 = v2 + 1\n",
        "  i = i + 1\n",
        "print(\"Accuracy of Defined Model on test data :\",(v1/c)*100)     \n",
        "print(\"Accuracy of Defined Model on train data:\",(v2/i)*100)   "
      ],
      "execution_count": 52,
      "outputs": [
        {
          "output_type": "stream",
          "name": "stdout",
          "text": [
            "Accuracy of Defined Model on test data : 65.78947368421053\n",
            "Accuracy of Defined Model on train data: 64.97829232995659\n"
          ]
        }
      ]
    }
  ]
}