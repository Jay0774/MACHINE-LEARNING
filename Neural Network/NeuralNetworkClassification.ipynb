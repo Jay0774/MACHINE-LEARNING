{
  "nbformat": 4,
  "nbformat_minor": 0,
  "metadata": {
    "colab": {
      "name": "NeuralNetworkClassification.ipynb",
      "provenance": []
    },
    "kernelspec": {
      "name": "python3",
      "display_name": "Python 3"
    },
    "language_info": {
      "name": "python"
    }
  },
  "cells": [
    {
      "cell_type": "markdown",
      "metadata": {
        "id": "Wfz1gDYZUuA5"
      },
      "source": [
        "# Importing Libraries"
      ]
    },
    {
      "cell_type": "code",
      "metadata": {
        "id": "RrC07VsjLi9L"
      },
      "source": [
        "import torch\n",
        "import os\n",
        "import numpy as np\n",
        "import pandas as pd\n",
        "from tqdm import tqdm\n",
        "import seaborn as sns\n",
        "from pylab import rcParams\n",
        "import matplotlib.pyplot as plt\n",
        "from matplotlib import rc\n",
        "from sklearn.model_selection import train_test_split\n",
        "from sklearn.metrics import confusion_matrix, classification_report\n",
        "from torch import nn, optim\n",
        "import torch.nn.functional as F"
      ],
      "execution_count": 65,
      "outputs": []
    },
    {
      "cell_type": "markdown",
      "metadata": {
        "id": "mbVNAy_YU0SW"
      },
      "source": [
        "## Setting some parameters"
      ]
    },
    {
      "cell_type": "code",
      "metadata": {
        "colab": {
          "base_uri": "https://localhost:8080/"
        },
        "id": "hfvQJ8DpLvRT",
        "outputId": "b04ddc70-4995-42c7-f611-5ec16bd7205b"
      },
      "source": [
        "%matplotlib inline\n",
        "%config InlineBackend.figure_format='retina'\n",
        "RANDOM_SEED = 50\n",
        "np.random.seed(RANDOM_SEED)\n",
        "torch.manual_seed(RANDOM_SEED)"
      ],
      "execution_count": 66,
      "outputs": [
        {
          "output_type": "execute_result",
          "data": {
            "text/plain": [
              "<torch._C.Generator at 0x7f9a0970aab0>"
            ]
          },
          "metadata": {},
          "execution_count": 66
        }
      ]
    },
    {
      "cell_type": "markdown",
      "metadata": {
        "id": "lh9ZOQMhU37n"
      },
      "source": [
        "## Loading dataset"
      ]
    },
    {
      "cell_type": "code",
      "metadata": {
        "colab": {
          "base_uri": "https://localhost:8080/"
        },
        "id": "aHvvLsutL7RM",
        "outputId": "f9b84015-b281-4b96-e048-0e0dd5816707"
      },
      "source": [
        "df = pd.read_csv('diabetes.csv')\n",
        "df.shape"
      ],
      "execution_count": 67,
      "outputs": [
        {
          "output_type": "execute_result",
          "data": {
            "text/plain": [
              "(768, 9)"
            ]
          },
          "metadata": {},
          "execution_count": 67
        }
      ]
    },
    {
      "cell_type": "markdown",
      "metadata": {
        "id": "HH6J-xaJU7n2"
      },
      "source": [
        "## checking the dataset"
      ]
    },
    {
      "cell_type": "code",
      "metadata": {
        "colab": {
          "base_uri": "https://localhost:8080/"
        },
        "id": "E8KiXlQYMADs",
        "outputId": "40f4faaf-0062-4944-c398-8dc4e74e6309"
      },
      "source": [
        "cols = df.columns \n",
        "print(cols)\n",
        "print(df['Outcome'])"
      ],
      "execution_count": 68,
      "outputs": [
        {
          "output_type": "stream",
          "name": "stdout",
          "text": [
            "Index(['Pregnancies', 'Glucose', 'BloodPressure', 'SkinThickness', 'Insulin',\n",
            "       'BMI', 'DiabetesPedigreeFunction', 'Age', 'Outcome'],\n",
            "      dtype='object')\n",
            "0      1\n",
            "1      0\n",
            "2      1\n",
            "3      0\n",
            "4      1\n",
            "      ..\n",
            "763    0\n",
            "764    0\n",
            "765    0\n",
            "766    1\n",
            "767    0\n",
            "Name: Outcome, Length: 768, dtype: int64\n"
          ]
        }
      ]
    },
    {
      "cell_type": "markdown",
      "metadata": {
        "id": "LCkKcxNzU-zX"
      },
      "source": [
        "## Dropping the samples having no values"
      ]
    },
    {
      "cell_type": "code",
      "metadata": {
        "colab": {
          "base_uri": "https://localhost:8080/"
        },
        "id": "tjpLgQYLMGRN",
        "outputId": "2b9f4beb-9ed3-48f6-b950-30565cf0e3cf"
      },
      "source": [
        "df = df.dropna()\n",
        "print(df)"
      ],
      "execution_count": 69,
      "outputs": [
        {
          "output_type": "stream",
          "name": "stdout",
          "text": [
            "     Pregnancies  Glucose  ...  Age  Outcome\n",
            "0              6      148  ...   50        1\n",
            "1              1       85  ...   31        0\n",
            "2              8      183  ...   32        1\n",
            "3              1       89  ...   21        0\n",
            "4              0      137  ...   33        1\n",
            "..           ...      ...  ...  ...      ...\n",
            "763           10      101  ...   63        0\n",
            "764            2      122  ...   27        0\n",
            "765            5      121  ...   30        0\n",
            "766            1      126  ...   47        1\n",
            "767            1       93  ...   23        0\n",
            "\n",
            "[768 rows x 9 columns]\n"
          ]
        }
      ]
    },
    {
      "cell_type": "markdown",
      "metadata": {
        "id": "TVnthd9uVGw_"
      },
      "source": [
        "## Checking For count of ground truth"
      ]
    },
    {
      "cell_type": "code",
      "metadata": {
        "colab": {
          "base_uri": "https://localhost:8080/"
        },
        "id": "AaZvEsohMMU0",
        "outputId": "98c27bb4-1738-40c0-c203-30bd67f072af"
      },
      "source": [
        "df.Outcome.value_counts() / df.shape[0]"
      ],
      "execution_count": 70,
      "outputs": [
        {
          "output_type": "execute_result",
          "data": {
            "text/plain": [
              "0    0.651042\n",
              "1    0.348958\n",
              "Name: Outcome, dtype: float64"
            ]
          },
          "metadata": {},
          "execution_count": 70
        }
      ]
    },
    {
      "cell_type": "markdown",
      "metadata": {
        "id": "Ob22UW2PVP6f"
      },
      "source": [
        "## Setting samples features aside from ground truth and splitting the dataset"
      ]
    },
    {
      "cell_type": "code",
      "metadata": {
        "colab": {
          "base_uri": "https://localhost:8080/"
        },
        "id": "kyxQhYaJMQ18",
        "outputId": "fa7af57f-04e7-42a4-b87f-77ca65ddf03a"
      },
      "source": [
        "X = df.iloc[:,:-1]\n",
        "y = df['Outcome']\n",
        "# splitting the dataset\n",
        "X_train, X_test, y_train, y_test = train_test_split(X, y, test_size=0.3, random_state=RANDOM_SEED)\n",
        "print(X_train.shape)\n",
        "print(X_test.shape)\n",
        "print(y_train.shape)\n",
        "print(y_test.shape)"
      ],
      "execution_count": 71,
      "outputs": [
        {
          "output_type": "stream",
          "name": "stdout",
          "text": [
            "(537, 8)\n",
            "(231, 8)\n",
            "(537,)\n",
            "(231,)\n"
          ]
        }
      ]
    },
    {
      "cell_type": "markdown",
      "metadata": {
        "id": "1iZOcvyBVcVO"
      },
      "source": [
        "## Converting dataset into tensors "
      ]
    },
    {
      "cell_type": "code",
      "metadata": {
        "colab": {
          "base_uri": "https://localhost:8080/"
        },
        "id": "WY6ECjclMUrU",
        "outputId": "cac682a1-acec-47bf-fb6f-51136ccf9541"
      },
      "source": [
        "X_train = torch.from_numpy(X_train.to_numpy()).float()\n",
        "y_train = torch.squeeze(torch.from_numpy(y_train.to_numpy()).float())\n",
        "X_test = torch.from_numpy(X_test.to_numpy()).float()\n",
        "y_test = torch.squeeze(torch.from_numpy(y_test.to_numpy()).float())\n",
        "print(X_train.shape, y_train.shape)\n",
        "print(X_test.shape, y_test.shape)"
      ],
      "execution_count": 72,
      "outputs": [
        {
          "output_type": "stream",
          "name": "stdout",
          "text": [
            "torch.Size([537, 8]) torch.Size([537])\n",
            "torch.Size([231, 8]) torch.Size([231])\n"
          ]
        }
      ]
    },
    {
      "cell_type": "markdown",
      "metadata": {
        "id": "AWcdBOgVVhum"
      },
      "source": [
        "# Defining the Neural network having two architectures one with 3 layers and relu is used as activating function and other as having four layers and relu as activation function. \n",
        "\n",
        "# For first architecture set parameter arch defined in this cell as 1, for second set arch to 2."
      ]
    },
    {
      "cell_type": "code",
      "metadata": {
        "colab": {
          "base_uri": "https://localhost:8080/"
        },
        "id": "MXSERQuQMXok",
        "outputId": "3cca6fb8-7333-45ea-e6ad-0a60ec991dad"
      },
      "source": [
        "class Classification_model(nn.Module):\n",
        "  # defining the initialize function here a means architecture if a = 1 first architecture and a = 2 second architecture   \n",
        "  def __init__(self, n_features,a):\n",
        "    self.a = a\n",
        "    if self.a==1:\n",
        "      super(Classification_model, self).__init__()\n",
        "      self.fc1 = nn.Linear(n_features, 12)\n",
        "      self.fc2 = nn.Linear(12, 6)\n",
        "      self.fc3 = nn.Linear(6, 1)\n",
        "    elif self.a==2:\n",
        "      super(Classification_model, self).__init__()\n",
        "      self.fc1 = nn.Linear(n_features, 12)\n",
        "      self.fc2 = nn.Linear(12, 8)\n",
        "      self.fc3 = nn.Linear(8, 4)\n",
        "      self.fc4 = nn.Linear(4, 1)\n",
        "  # defining the forward function and assiging the activation functions.\n",
        "  def forward(self, x):\n",
        "    if self.a ==1:\n",
        "      x = F.relu(self.fc1(x))\n",
        "      x = F.relu(self.fc2(x))\n",
        "      return torch.sigmoid(self.fc3(x))\n",
        "    elif self.a==2:\n",
        "      x = torch.sigmoid(self.fc1(x))\n",
        "      x = torch.tanh(self.fc2(x))\n",
        "      x = F.relu(self.fc3(x))\n",
        "      return torch.sigmoid(self.fc4(x))\n",
        "arch = 2\n",
        "net = Classification_model(X_train.shape[1],arch)\n",
        "print(net)"
      ],
      "execution_count": 73,
      "outputs": [
        {
          "output_type": "stream",
          "name": "stdout",
          "text": [
            "Classification_model(\n",
            "  (fc1): Linear(in_features=8, out_features=12, bias=True)\n",
            "  (fc2): Linear(in_features=12, out_features=8, bias=True)\n",
            "  (fc3): Linear(in_features=8, out_features=4, bias=True)\n",
            "  (fc4): Linear(in_features=4, out_features=1, bias=True)\n",
            ")\n"
          ]
        }
      ]
    },
    {
      "cell_type": "markdown",
      "metadata": {
        "id": "FMcOWn80Vsvl"
      },
      "source": [
        "## Setting MSE as loss calculation criteria"
      ]
    },
    {
      "cell_type": "code",
      "metadata": {
        "id": "5eAyPOmtMb3k"
      },
      "source": [
        "# MSE is defined as criteria and adam is used for optimizing\n",
        "criterion = nn.MSELoss()\n",
        "optimizer = optim.Adam(net.parameters(), lr=0.001)"
      ],
      "execution_count": 74,
      "outputs": []
    },
    {
      "cell_type": "markdown",
      "metadata": {
        "id": "HnlAEZp4VzJ2"
      },
      "source": [
        "## Checking if device can be use GPU for calculation"
      ]
    },
    {
      "cell_type": "code",
      "metadata": {
        "id": "YYn4RaAtMgqi"
      },
      "source": [
        "device = torch.device(\"cuda:0\" if torch.cuda.is_available() else \"cpu\")\n",
        "X_train = X_train.to(device)\n",
        "y_train = y_train.to(device)\n",
        "X_test = X_test.to(device)\n",
        "y_test = y_test.to(device)\n",
        "net = net.to(device)\n",
        "criterion = criterion.to(device)"
      ],
      "execution_count": 75,
      "outputs": []
    },
    {
      "cell_type": "markdown",
      "metadata": {
        "id": "5Pvixu5cV58f"
      },
      "source": [
        "## Defining the function for calculating accuracy"
      ]
    },
    {
      "cell_type": "code",
      "metadata": {
        "id": "9fPq7UeYMi1M"
      },
      "source": [
        "def calculate_accuracy(y_true, y_pred):\n",
        "  predicted = y_pred.ge(.5).view(-1)\n",
        "  return (y_true == predicted).sum().float() / len(y_true)"
      ],
      "execution_count": 76,
      "outputs": []
    },
    {
      "cell_type": "markdown",
      "metadata": {
        "id": "dkAEktQ2V_7G"
      },
      "source": [
        "## Running Epochs and checking for train and test accuracy and loss For first architecture"
      ]
    },
    {
      "cell_type": "code",
      "metadata": {
        "colab": {
          "base_uri": "https://localhost:8080/"
        },
        "id": "dUwfw7iVMn60",
        "outputId": "5e9a1cac-f343-4b79-e6f2-4b9b2170b132"
      },
      "source": [
        "# defining the function to round the tensor \n",
        "def round_tensor(t, decimal_places=3):\n",
        "  return round(t.item(), decimal_places)\n",
        "# defining the sunction to run test based on defing architecture\n",
        "def run_test(n):\n",
        "  train_accuracy = []\n",
        "  test_accuracy = []\n",
        "  train_l = []\n",
        "  test_l = []\n",
        "  ep = []\n",
        "  for epoch in range(2000):\n",
        "      y_pred = n(X_train)\n",
        "      y_pred = torch.squeeze(y_pred)\n",
        "      train_loss = criterion(y_pred, y_train)\n",
        "      if epoch % 100 == 0:\n",
        "        train_acc = calculate_accuracy(y_train, y_pred)\n",
        "        y_test_pred = n(X_test)\n",
        "        y_test_pred = torch.squeeze(y_test_pred)\n",
        "        test_loss = criterion(y_test_pred, y_test)\n",
        "        test_acc = calculate_accuracy(y_test, y_test_pred)\n",
        "        print(\n",
        "        f'''epoch {epoch}\n",
        "        Train set - loss: {round_tensor(train_loss)}, accuracy: {round_tensor(train_acc)}\n",
        "        Test  set - loss: {round_tensor(test_loss)}, accuracy: {round_tensor(test_acc)}\n",
        "        ''')\n",
        "        ep.append(epoch)\n",
        "        train_l.append(round_tensor(train_loss)*100)\n",
        "        test_l.append(round_tensor(test_loss)*100)\n",
        "        train_accuracy.append(round_tensor(train_acc)*100)\n",
        "        test_accuracy.append(round_tensor(test_acc)*100)\n",
        "      optimizer.zero_grad()\n",
        "      train_loss.backward()\n",
        "      optimizer.step()\n",
        "  return ep,train_accuracy,train_l,test_accuracy,test_l\n",
        "\n",
        "e,tra,trl,tea,tel = run_test(net)"
      ],
      "execution_count": 77,
      "outputs": [
        {
          "output_type": "stream",
          "name": "stdout",
          "text": [
            "epoch 0\n",
            "        Train set - loss: 0.285, accuracy: 0.345\n",
            "        Test  set - loss: 0.283, accuracy: 0.359\n",
            "        \n",
            "epoch 100\n",
            "        Train set - loss: 0.242, accuracy: 0.655\n",
            "        Test  set - loss: 0.243, accuracy: 0.641\n",
            "        \n",
            "epoch 200\n",
            "        Train set - loss: 0.224, accuracy: 0.655\n",
            "        Test  set - loss: 0.229, accuracy: 0.641\n",
            "        \n",
            "epoch 300\n",
            "        Train set - loss: 0.218, accuracy: 0.655\n",
            "        Test  set - loss: 0.226, accuracy: 0.641\n",
            "        \n",
            "epoch 400\n",
            "        Train set - loss: 0.199, accuracy: 0.687\n",
            "        Test  set - loss: 0.216, accuracy: 0.645\n",
            "        \n",
            "epoch 500\n",
            "        Train set - loss: 0.18, accuracy: 0.736\n",
            "        Test  set - loss: 0.206, accuracy: 0.671\n",
            "        \n",
            "epoch 600\n",
            "        Train set - loss: 0.168, accuracy: 0.76\n",
            "        Test  set - loss: 0.193, accuracy: 0.693\n",
            "        \n",
            "epoch 700\n",
            "        Train set - loss: 0.156, accuracy: 0.777\n",
            "        Test  set - loss: 0.197, accuracy: 0.71\n",
            "        \n",
            "epoch 800\n",
            "        Train set - loss: 0.136, accuracy: 0.81\n",
            "        Test  set - loss: 0.192, accuracy: 0.71\n",
            "        \n",
            "epoch 900\n",
            "        Train set - loss: 0.122, accuracy: 0.84\n",
            "        Test  set - loss: 0.191, accuracy: 0.71\n",
            "        \n",
            "epoch 1000\n",
            "        Train set - loss: 0.116, accuracy: 0.851\n",
            "        Test  set - loss: 0.201, accuracy: 0.719\n",
            "        \n",
            "epoch 1100\n",
            "        Train set - loss: 0.112, accuracy: 0.849\n",
            "        Test  set - loss: 0.202, accuracy: 0.719\n",
            "        \n",
            "epoch 1200\n",
            "        Train set - loss: 0.109, accuracy: 0.86\n",
            "        Test  set - loss: 0.202, accuracy: 0.714\n",
            "        \n",
            "epoch 1300\n",
            "        Train set - loss: 0.108, accuracy: 0.868\n",
            "        Test  set - loss: 0.204, accuracy: 0.714\n",
            "        \n",
            "epoch 1400\n",
            "        Train set - loss: 0.107, accuracy: 0.868\n",
            "        Test  set - loss: 0.206, accuracy: 0.719\n",
            "        \n",
            "epoch 1500\n",
            "        Train set - loss: 0.106, accuracy: 0.866\n",
            "        Test  set - loss: 0.208, accuracy: 0.723\n",
            "        \n",
            "epoch 1600\n",
            "        Train set - loss: 0.106, accuracy: 0.862\n",
            "        Test  set - loss: 0.21, accuracy: 0.723\n",
            "        \n",
            "epoch 1700\n",
            "        Train set - loss: 0.106, accuracy: 0.86\n",
            "        Test  set - loss: 0.21, accuracy: 0.723\n",
            "        \n",
            "epoch 1800\n",
            "        Train set - loss: 0.105, accuracy: 0.875\n",
            "        Test  set - loss: 0.208, accuracy: 0.714\n",
            "        \n",
            "epoch 1900\n",
            "        Train set - loss: 0.105, accuracy: 0.87\n",
            "        Test  set - loss: 0.209, accuracy: 0.719\n",
            "        \n"
          ]
        }
      ]
    },
    {
      "cell_type": "markdown",
      "metadata": {
        "id": "mkSyaDiVWI2N"
      },
      "source": [
        "# Plotting the epochs with accuracy and loss of train and test dataset. "
      ]
    },
    {
      "cell_type": "code",
      "metadata": {
        "colab": {
          "base_uri": "https://localhost:8080/",
          "height": 350
        },
        "id": "jnuIBXoXR7ra",
        "outputId": "76639ca7-ae8b-42d7-810d-fce44011fc58"
      },
      "source": [
        "print(e)\n",
        "print(trl)\n",
        "fig = plt.figure()\n",
        "plt.xlabel(\"Number of epochs\")\n",
        "plt.ylabel(\"Train Loss\")\n",
        "plt.plot(e, trl)"
      ],
      "execution_count": 78,
      "outputs": [
        {
          "output_type": "stream",
          "name": "stdout",
          "text": [
            "[0, 100, 200, 300, 400, 500, 600, 700, 800, 900, 1000, 1100, 1200, 1300, 1400, 1500, 1600, 1700, 1800, 1900]\n",
            "[28.499999999999996, 24.2, 22.400000000000002, 21.8, 19.900000000000002, 18.0, 16.8, 15.6, 13.600000000000001, 12.2, 11.600000000000001, 11.200000000000001, 10.9, 10.8, 10.7, 10.6, 10.6, 10.6, 10.5, 10.5]\n"
          ]
        },
        {
          "output_type": "execute_result",
          "data": {
            "text/plain": [
              "[<matplotlib.lines.Line2D at 0x7f99f6daf410>]"
            ]
          },
          "metadata": {},
          "execution_count": 78
        },
        {
          "output_type": "display_data",
          "data": {
            "image/png": "[encoded data removed]",
            "text/plain": [
              "<Figure size 432x288 with 1 Axes>"
            ]
          },
          "metadata": {
            "image/png": {
              "width": 392,
              "height": 261
            },
            "needs_background": "light"
          }
        }
      ]
    },
    {
      "cell_type": "code",
      "metadata": {
        "colab": {
          "base_uri": "https://localhost:8080/",
          "height": 282
        },
        "id": "pZkoQ97QUNFW",
        "outputId": "64003876-24ea-4b7c-f2ff-9bc14b6a1055"
      },
      "source": [
        "plt.ylabel(\"Test Loss\")\n",
        "plt.plot(e,tel)"
      ],
      "execution_count": 79,
      "outputs": [
        {
          "output_type": "execute_result",
          "data": {
            "text/plain": [
              "[<matplotlib.lines.Line2D at 0x7f99f6d22750>]"
            ]
          },
          "metadata": {},
          "execution_count": 79
        },
        {
          "output_type": "display_data",
          "data": {
            "image/png": "[encoded data removed]",
            "text/plain": [
              "<Figure size 432x288 with 1 Axes>"
            ]
          },
          "metadata": {
            "image/png": {
              "width": 382,
              "height": 248
            },
            "needs_background": "light"
          }
        }
      ]
    },
    {
      "cell_type": "code",
      "metadata": {
        "colab": {
          "base_uri": "https://localhost:8080/",
          "height": 285
        },
        "id": "nc4bRy5nUPAX",
        "outputId": "497e033c-6fef-4940-ba74-f317274c322f"
      },
      "source": [
        "plt.ylabel(\"Train Accuracy\")\n",
        "plt.plot(e,tra)"
      ],
      "execution_count": 80,
      "outputs": [
        {
          "output_type": "execute_result",
          "data": {
            "text/plain": [
              "[<matplotlib.lines.Line2D at 0x7f99f6c8f7d0>]"
            ]
          },
          "metadata": {},
          "execution_count": 80
        },
        {
          "output_type": "display_data",
          "data": {
            "image/png": "[encoded data removed]",
            "text/plain": [
              "<Figure size 432x288 with 1 Axes>"
            ]
          },
          "metadata": {
            "image/png": {
              "width": 382,
              "height": 251
            },
            "needs_background": "light"
          }
        }
      ]
    },
    {
      "cell_type": "code",
      "metadata": {
        "colab": {
          "base_uri": "https://localhost:8080/",
          "height": 282
        },
        "id": "A0KyrdzrUQs9",
        "outputId": "9f1c3f50-14b5-4f51-a614-133b815d5d1c"
      },
      "source": [
        "plt.ylabel(\"Test Accuracy\")\n",
        "plt.plot(e,tea)"
      ],
      "execution_count": 81,
      "outputs": [
        {
          "output_type": "execute_result",
          "data": {
            "text/plain": [
              "[<matplotlib.lines.Line2D at 0x7f99f6c09090>]"
            ]
          },
          "metadata": {},
          "execution_count": 81
        },
        {
          "output_type": "display_data",
          "data": {
            "image/png": "[encoded data removed]",
            "text/plain": [
              "<Figure size 432x288 with 1 Axes>"
            ]
          },
          "metadata": {
            "image/png": {
              "width": 382,
              "height": 248
            },
            "needs_background": "light"
          }
        }
      ]
    }
  ]
}