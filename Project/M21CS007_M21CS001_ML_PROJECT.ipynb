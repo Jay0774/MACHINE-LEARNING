{
  "nbformat": 4,
  "nbformat_minor": 0,
  "metadata": {
    "colab": {
      "name": "M21CS007_M21CS001_ML_PROJECT.ipynb",
      "provenance": [],
      "collapsed_sections": []
    },
    "kernelspec": {
      "name": "python3",
      "display_name": "Python 3"
    },
    "language_info": {
      "name": "python"
    }
  },
  "cells": [
    {
      "cell_type": "markdown",
      "metadata": {
        "id": "C3tZHBM9mM5j"
      },
      "source": [
        "# Preparing the dataset"
      ]
    },
    {
      "cell_type": "code",
      "metadata": {
        "id": "2RFG4dvPakn5"
      },
      "source": [
        "# Loading Python libraries\n",
        "from sklearn.model_selection import train_test_split\n",
        "from sklearn.metrics import classification_report\n",
        "from sklearn.ensemble import RandomForestClassifier\n",
        "import xgboost as xgb\n",
        "import numpy as np\n",
        "import pandas as pd\n",
        "import seaborn as sns\n",
        "import matplotlib.pyplot as plt\n",
        "import matplotlib as mpl\n",
        "import warnings"
      ],
      "execution_count": 198,
      "outputs": []
    },
    {
      "cell_type": "code",
      "metadata": {
        "colab": {
          "base_uri": "https://localhost:8080/"
        },
        "id": "J_jYJvgCavnR",
        "outputId": "ef706447-2a1d-40b7-a205-0984d9d93838"
      },
      "source": [
        "# Loading data\n",
        "df = pd.read_csv('train.csv')\n",
        "\n",
        "# 30% sample of items used initially \n",
        "df = df.sample(frac=0.09)\n",
        "print(df)"
      ],
      "execution_count": 199,
      "outputs": [
        {
          "output_type": "stream",
          "name": "stdout",
          "text": [
            "                                                 msno  ... target\n",
            "1858895  BCFBeNgqfmrkB/aldv4158KSylOucH7qshgcNmskRWI=  ...    1.0\n",
            "2156590  c4mIhY3dmtonwWACLcIK4GVTywK0A5Xn7Qt6JMsrpdI=  ...    1.0\n",
            "1313598  HDLGPHJq+BFb1mhDdZwhFqz669l6rKAj77NZyruX4GY=  ...    1.0\n",
            "612610   1Ik8ihgm4qVc1wBb+R267O96zNDdLJcgccjmtwkU2H4=  ...    0.0\n",
            "1070295  TewRQYat/+bq28HxYLHTcGWgqXpPsW+9pwBmS+WL0F0=  ...    0.0\n",
            "...                                               ...  ...    ...\n",
            "301650   fg1w6/8iqYE0wNR5PuqkXbCkfShG/JgL7whHhA8eraY=  ...    0.0\n",
            "1014376  IFESfvO8k77RzKqhPy4WTll9x5O6RhQymjiOCkV1YGE=  ...    1.0\n",
            "192417   WkpCEIs/WRM4zKjbOmihnvBbxZPdRoxvhwQ+uXSkkAw=  ...    1.0\n",
            "1094210  eTuDxlwU+bzG5onQLoUVmFFPDrFQ14pDuZvEaghNNfo=  ...    1.0\n",
            "2524761  J7Y58FSoKiAOHVWztqqG4U7AinzcRFQNXADL0SEhNMo=  ...    0.0\n",
            "\n",
            "[229750 rows x 6 columns]\n"
          ]
        }
      ]
    },
    {
      "cell_type": "code",
      "metadata": {
        "colab": {
          "base_uri": "https://localhost:8080/"
        },
        "id": "qkXgcPgIg35J",
        "outputId": "0da55346-7ff9-4a96-8f8a-0f807a46d0c0"
      },
      "source": [
        "# Loading and join wuth the songs data\n",
        "songs = pd.read_csv('songs.csv')\n",
        "df = pd.merge(df, songs, on='song_id', how='left')\n",
        "del songs\n",
        "\n",
        "# Loading and join members data\n",
        "members = pd.read_csv('members.csv')\n",
        "df = pd.merge(df, members, on='msno', how='left')\n",
        "del members\n",
        "print(df)"
      ],
      "execution_count": 200,
      "outputs": [
        {
          "output_type": "stream",
          "name": "stdout",
          "text": [
            "                                                msno  ... expiration_date\n",
            "0       BCFBeNgqfmrkB/aldv4158KSylOucH7qshgcNmskRWI=  ...        20170923\n",
            "1       c4mIhY3dmtonwWACLcIK4GVTywK0A5Xn7Qt6JMsrpdI=  ...        20180417\n",
            "2       HDLGPHJq+BFb1mhDdZwhFqz669l6rKAj77NZyruX4GY=  ...        20170913\n",
            "3       1Ik8ihgm4qVc1wBb+R267O96zNDdLJcgccjmtwkU2H4=  ...        20180806\n",
            "4       TewRQYat/+bq28HxYLHTcGWgqXpPsW+9pwBmS+WL0F0=  ...        20180201\n",
            "...                                              ...  ...             ...\n",
            "229745  fg1w6/8iqYE0wNR5PuqkXbCkfShG/JgL7whHhA8eraY=  ...        20170930\n",
            "229746  IFESfvO8k77RzKqhPy4WTll9x5O6RhQymjiOCkV1YGE=  ...        20170930\n",
            "229747  WkpCEIs/WRM4zKjbOmihnvBbxZPdRoxvhwQ+uXSkkAw=  ...        20170610\n",
            "229748  eTuDxlwU+bzG5onQLoUVmFFPDrFQ14pDuZvEaghNNfo=  ...        20170916\n",
            "229749  J7Y58FSoKiAOHVWztqqG4U7AinzcRFQNXADL0SEhNMo=  ...        20170930\n",
            "\n",
            "[229750 rows x 18 columns]\n"
          ]
        }
      ]
    },
    {
      "cell_type": "code",
      "metadata": {
        "id": "PhQVlgERhdHy",
        "colab": {
          "base_uri": "https://localhost:8080/"
        },
        "outputId": "495b51b6-9094-4764-f072-9057f3e57d35"
      },
      "source": [
        "df.info()"
      ],
      "execution_count": 201,
      "outputs": [
        {
          "output_type": "stream",
          "name": "stdout",
          "text": [
            "<class 'pandas.core.frame.DataFrame'>\n",
            "Int64Index: 229750 entries, 0 to 229749\n",
            "Data columns (total 18 columns):\n",
            " #   Column                  Non-Null Count   Dtype  \n",
            "---  ------                  --------------   -----  \n",
            " 0   msno                    229750 non-null  object \n",
            " 1   song_id                 229750 non-null  object \n",
            " 2   source_system_tab       228894 non-null  object \n",
            " 3   source_screen_name      218503 non-null  object \n",
            " 4   source_type             229023 non-null  object \n",
            " 5   target                  229750 non-null  float64\n",
            " 6   song_length             229747 non-null  float64\n",
            " 7   genre_ids               226391 non-null  object \n",
            " 8   artist_name             229747 non-null  object \n",
            " 9   composer                179423 non-null  object \n",
            " 10  lyricist                133451 non-null  object \n",
            " 11  language                229743 non-null  float64\n",
            " 12  city                    229750 non-null  int64  \n",
            " 13  bd                      229750 non-null  int64  \n",
            " 14  gender                  139858 non-null  object \n",
            " 15  registered_via          229750 non-null  int64  \n",
            " 16  registration_init_time  229750 non-null  int64  \n",
            " 17  expiration_date         229750 non-null  int64  \n",
            "dtypes: float64(3), int64(5), object(10)\n",
            "memory usage: 33.3+ MB\n"
          ]
        }
      ]
    },
    {
      "cell_type": "code",
      "metadata": {
        "id": "2RmpEPdwhfGn",
        "colab": {
          "base_uri": "https://localhost:8080/"
        },
        "outputId": "25950b50-4578-4463-c06f-39efafcd4b49"
      },
      "source": [
        "# Counting null values in %\n",
        "df.isnull().sum()/df.isnull().count()*100"
      ],
      "execution_count": 202,
      "outputs": [
        {
          "output_type": "execute_result",
          "data": {
            "text/plain": [
              "msno                       0.000000\n",
              "song_id                    0.000000\n",
              "source_system_tab          0.372579\n",
              "source_screen_name         4.895321\n",
              "source_type                0.316431\n",
              "target                     0.000000\n",
              "song_length                0.001306\n",
              "genre_ids                  1.462024\n",
              "artist_name                0.001306\n",
              "composer                  21.905114\n",
              "lyricist                  41.914690\n",
              "language                   0.003047\n",
              "city                       0.000000\n",
              "bd                         0.000000\n",
              "gender                    39.126007\n",
              "registered_via             0.000000\n",
              "registration_init_time     0.000000\n",
              "expiration_date            0.000000\n",
              "dtype: float64"
            ]
          },
          "metadata": {},
          "execution_count": 202
        }
      ]
    },
    {
      "cell_type": "code",
      "metadata": {
        "id": "HwHk-Z3dhg2m",
        "colab": {
          "base_uri": "https://localhost:8080/"
        },
        "outputId": "bb946ce5-d975-4691-cdbe-471c36c89e23"
      },
      "source": [
        "# Replacing the values of null by unkown\n",
        "for i in df.select_dtypes(include=['object']).columns:\n",
        "    df[i][df[i].isnull()] = 'unknown'\n",
        "df = df.fillna(value=0)\n",
        "# Again checking for null values\n",
        "print(df.isnull().sum()/df.isnull().count()*100)"
      ],
      "execution_count": 203,
      "outputs": [
        {
          "output_type": "stream",
          "name": "stderr",
          "text": [
            "/usr/local/lib/python3.7/dist-packages/ipykernel_launcher.py:3: SettingWithCopyWarning: \n",
            "A value is trying to be set on a copy of a slice from a DataFrame\n",
            "\n",
            "See the caveats in the documentation: https://pandas.pydata.org/pandas-docs/stable/user_guide/indexing.html#returning-a-view-versus-a-copy\n",
            "  This is separate from the ipykernel package so we can avoid doing imports until\n"
          ]
        },
        {
          "output_type": "stream",
          "name": "stdout",
          "text": [
            "msno                      0.0\n",
            "song_id                   0.0\n",
            "source_system_tab         0.0\n",
            "source_screen_name        0.0\n",
            "source_type               0.0\n",
            "target                    0.0\n",
            "song_length               0.0\n",
            "genre_ids                 0.0\n",
            "artist_name               0.0\n",
            "composer                  0.0\n",
            "lyricist                  0.0\n",
            "language                  0.0\n",
            "city                      0.0\n",
            "bd                        0.0\n",
            "gender                    0.0\n",
            "registered_via            0.0\n",
            "registration_init_time    0.0\n",
            "expiration_date           0.0\n",
            "dtype: float64\n"
          ]
        }
      ]
    },
    {
      "cell_type": "code",
      "metadata": {
        "id": "vySS2nxGhkdf",
        "colab": {
          "base_uri": "https://localhost:8080/",
          "height": 296
        },
        "outputId": "34f99d2d-4f89-4083-8e0d-f1208b6571d6"
      },
      "source": [
        "df.head()"
      ],
      "execution_count": 204,
      "outputs": [
        {
          "output_type": "execute_result",
          "data": {
            "text/html": [
              "<div>\n",
              "<style scoped>\n",
              "    .dataframe tbody tr th:only-of-type {\n",
              "        vertical-align: middle;\n",
              "    }\n",
              "\n",
              "    .dataframe tbody tr th {\n",
              "        vertical-align: top;\n",
              "    }\n",
              "\n",
              "    .dataframe thead th {\n",
              "        text-align: right;\n",
              "    }\n",
              "</style>\n",
              "<table border=\"1\" class=\"dataframe\">\n",
              "  <thead>\n",
              "    <tr style=\"text-align: right;\">\n",
              "      <th></th>\n",
              "      <th>msno</th>\n",
              "      <th>song_id</th>\n",
              "      <th>source_system_tab</th>\n",
              "      <th>source_screen_name</th>\n",
              "      <th>source_type</th>\n",
              "      <th>target</th>\n",
              "      <th>song_length</th>\n",
              "      <th>genre_ids</th>\n",
              "      <th>artist_name</th>\n",
              "      <th>composer</th>\n",
              "      <th>lyricist</th>\n",
              "      <th>language</th>\n",
              "      <th>city</th>\n",
              "      <th>bd</th>\n",
              "      <th>gender</th>\n",
              "      <th>registered_via</th>\n",
              "      <th>registration_init_time</th>\n",
              "      <th>expiration_date</th>\n",
              "    </tr>\n",
              "  </thead>\n",
              "  <tbody>\n",
              "    <tr>\n",
              "      <th>0</th>\n",
              "      <td>BCFBeNgqfmrkB/aldv4158KSylOucH7qshgcNmskRWI=</td>\n",
              "      <td>Z0wf/1MUUfujEmnzNmkxAMFXOQsT1koAO1xgDYjLd5s=</td>\n",
              "      <td>my library</td>\n",
              "      <td>Artist more</td>\n",
              "      <td>top-hits-for-artist</td>\n",
              "      <td>1.0</td>\n",
              "      <td>232942.0</td>\n",
              "      <td>465</td>\n",
              "      <td>Jason Chen</td>\n",
              "      <td>unknown</td>\n",
              "      <td>unknown</td>\n",
              "      <td>52.0</td>\n",
              "      <td>6</td>\n",
              "      <td>24</td>\n",
              "      <td>male</td>\n",
              "      <td>3</td>\n",
              "      <td>20130113</td>\n",
              "      <td>20170923</td>\n",
              "    </tr>\n",
              "    <tr>\n",
              "      <th>1</th>\n",
              "      <td>c4mIhY3dmtonwWACLcIK4GVTywK0A5Xn7Qt6JMsrpdI=</td>\n",
              "      <td>UGp34rMncOPbuWO1T1FJvEf1pdLTGpAwW34lm4fhCNk=</td>\n",
              "      <td>my library</td>\n",
              "      <td>Local playlist more</td>\n",
              "      <td>local-library</td>\n",
              "      <td>1.0</td>\n",
              "      <td>282017.0</td>\n",
              "      <td>465</td>\n",
              "      <td>AKB48</td>\n",
              "      <td>井上　ヨシマサ</td>\n",
              "      <td>秋元 康</td>\n",
              "      <td>17.0</td>\n",
              "      <td>1</td>\n",
              "      <td>0</td>\n",
              "      <td>unknown</td>\n",
              "      <td>4</td>\n",
              "      <td>20160611</td>\n",
              "      <td>20180417</td>\n",
              "    </tr>\n",
              "    <tr>\n",
              "      <th>2</th>\n",
              "      <td>HDLGPHJq+BFb1mhDdZwhFqz669l6rKAj77NZyruX4GY=</td>\n",
              "      <td>BVne9E4h0yAAcXWXY48PNoakvvDQaYIcXvobLW0apOU=</td>\n",
              "      <td>my library</td>\n",
              "      <td>Local playlist more</td>\n",
              "      <td>local-library</td>\n",
              "      <td>1.0</td>\n",
              "      <td>245864.0</td>\n",
              "      <td>465</td>\n",
              "      <td>家家 (JiaJia)</td>\n",
              "      <td>謝廣太</td>\n",
              "      <td>廖瑩如</td>\n",
              "      <td>3.0</td>\n",
              "      <td>13</td>\n",
              "      <td>0</td>\n",
              "      <td>unknown</td>\n",
              "      <td>4</td>\n",
              "      <td>20151012</td>\n",
              "      <td>20170913</td>\n",
              "    </tr>\n",
              "    <tr>\n",
              "      <th>3</th>\n",
              "      <td>1Ik8ihgm4qVc1wBb+R267O96zNDdLJcgccjmtwkU2H4=</td>\n",
              "      <td>Tx03INE7jKUjUxYCLsUDLYDBUea7pGt/3e+S1y7oJ3M=</td>\n",
              "      <td>my library</td>\n",
              "      <td>Local playlist more</td>\n",
              "      <td>local-library</td>\n",
              "      <td>0.0</td>\n",
              "      <td>296542.0</td>\n",
              "      <td>458</td>\n",
              "      <td>梁靜茹 (Fish Leong)</td>\n",
              "      <td>Xue Bin Peng</td>\n",
              "      <td>unknown</td>\n",
              "      <td>3.0</td>\n",
              "      <td>13</td>\n",
              "      <td>43</td>\n",
              "      <td>male</td>\n",
              "      <td>3</td>\n",
              "      <td>20131126</td>\n",
              "      <td>20180806</td>\n",
              "    </tr>\n",
              "    <tr>\n",
              "      <th>4</th>\n",
              "      <td>TewRQYat/+bq28HxYLHTcGWgqXpPsW+9pwBmS+WL0F0=</td>\n",
              "      <td>WznMG5LmzE4k7q1OQLPAV2s96k8ZIrVvG/rihErlYWk=</td>\n",
              "      <td>my library</td>\n",
              "      <td>Local playlist more</td>\n",
              "      <td>local-library</td>\n",
              "      <td>0.0</td>\n",
              "      <td>252656.0</td>\n",
              "      <td>465</td>\n",
              "      <td>朱俐靜 (Miu Chu)</td>\n",
              "      <td>朱俐靜+陳勢安</td>\n",
              "      <td>天樂</td>\n",
              "      <td>3.0</td>\n",
              "      <td>21</td>\n",
              "      <td>20</td>\n",
              "      <td>male</td>\n",
              "      <td>9</td>\n",
              "      <td>20151030</td>\n",
              "      <td>20180201</td>\n",
              "    </tr>\n",
              "  </tbody>\n",
              "</table>\n",
              "</div>"
            ],
            "text/plain": [
              "                                           msno  ... expiration_date\n",
              "0  BCFBeNgqfmrkB/aldv4158KSylOucH7qshgcNmskRWI=  ...        20170923\n",
              "1  c4mIhY3dmtonwWACLcIK4GVTywK0A5Xn7Qt6JMsrpdI=  ...        20180417\n",
              "2  HDLGPHJq+BFb1mhDdZwhFqz669l6rKAj77NZyruX4GY=  ...        20170913\n",
              "3  1Ik8ihgm4qVc1wBb+R267O96zNDdLJcgccjmtwkU2H4=  ...        20180806\n",
              "4  TewRQYat/+bq28HxYLHTcGWgqXpPsW+9pwBmS+WL0F0=  ...        20180201\n",
              "\n",
              "[5 rows x 18 columns]"
            ]
          },
          "metadata": {},
          "execution_count": 204
        }
      ]
    },
    {
      "cell_type": "code",
      "metadata": {
        "id": "VzZ01rNNhoHl"
      },
      "source": [
        "# Object data to category\n",
        "for col in df.select_dtypes(include=['object']).columns:\n",
        "    df[col] = df[col].astype('category')\n",
        "    \n",
        "# Encoding categorical features\n",
        "for col in df.select_dtypes(include=['category']).columns:\n",
        "    df[col] = df[col].cat.codes"
      ],
      "execution_count": 205,
      "outputs": []
    },
    {
      "cell_type": "code",
      "metadata": {
        "id": "bbEwDxMYhqJw",
        "colab": {
          "base_uri": "https://localhost:8080/",
          "height": 292
        },
        "outputId": "bb07767b-9274-4fa5-af08-821037f4fb7f"
      },
      "source": [
        "# plotting Сorrelation matrix\n",
        "plt.figure(figsize=[10,10])\n",
        "plt.matshow(df.corr())\n",
        "plt.show()"
      ],
      "execution_count": 206,
      "outputs": [
        {
          "output_type": "display_data",
          "data": {
            "text/plain": [
              "<Figure size 720x720 with 0 Axes>"
            ]
          },
          "metadata": {}
        },
        {
          "output_type": "display_data",
          "data": {
            "image/png": "[encoded data removed]",
            "text/plain": [
              "<Figure size 288x288 with 1 Axes>"
            ]
          },
          "metadata": {
            "needs_background": "light"
          }
        }
      ]
    },
    {
      "cell_type": "code",
      "metadata": {
        "id": "Bb0Ks9TZhswf",
        "colab": {
          "base_uri": "https://localhost:8080/"
        },
        "outputId": "5dec2d6e-0aaa-4079-84e9-2df50a21a392"
      },
      "source": [
        "# Droping columns date and time\n",
        "df = df.drop(['expiration_date', 'registration_init_time'], 1)\n",
        "# separating target from dataframe\n",
        "target = df.pop('target')\n",
        "print(df.head())\n",
        "print(target)"
      ],
      "execution_count": 207,
      "outputs": [
        {
          "output_type": "stream",
          "name": "stdout",
          "text": [
            "    msno  song_id  source_system_tab  ...  bd  gender  registered_via\n",
            "0   3833    30067                  3  ...  24       1               3\n",
            "1  11912    26280                  3  ...   0       2               4\n",
            "2   5604    11037                  3  ...   0       2               4\n",
            "3    944    26022                  3  ...  43       1               3\n",
            "4   9264    28382                  3  ...  20       1               9\n",
            "\n",
            "[5 rows x 15 columns]\n",
            "0         1.0\n",
            "1         1.0\n",
            "2         1.0\n",
            "3         0.0\n",
            "4         0.0\n",
            "         ... \n",
            "229745    0.0\n",
            "229746    1.0\n",
            "229747    1.0\n",
            "229748    1.0\n",
            "229749    0.0\n",
            "Name: target, Length: 229750, dtype: float64\n"
          ]
        }
      ]
    },
    {
      "cell_type": "code",
      "metadata": {
        "id": "IhIs6EG6hvaO",
        "colab": {
          "base_uri": "https://localhost:8080/"
        },
        "outputId": "5f8be855-0c84-4c7b-f15d-4bce8ebbc485"
      },
      "source": [
        "# Train & Test split done using 70 to 30 ratio\n",
        "train_data, test_data, train_labels, test_labels = train_test_split(df, target, test_size = 0.3)\n",
        "test_l = list(test_labels)\n",
        "print(\"Training data-----------------------\")\n",
        "print(\"Training data shape = \",train_data.shape)\n",
        "print(\"Testing data------------------------\")\n",
        "print(\"Testing data shape = \",test_data.shape)"
      ],
      "execution_count": 208,
      "outputs": [
        {
          "output_type": "stream",
          "name": "stdout",
          "text": [
            "Training data-----------------------\n",
            "Training data shape =  (160825, 15)\n",
            "Testing data------------------------\n",
            "Testing data shape =  (68925, 15)\n"
          ]
        }
      ]
    },
    {
      "cell_type": "markdown",
      "metadata": {
        "id": "BTCG1eiFtdmW"
      },
      "source": [
        "# Using XGBoost for classification"
      ]
    },
    {
      "cell_type": "code",
      "metadata": {
        "id": "7vXY7S6a1Dt4"
      },
      "source": [
        "# defining the functions for model parameters generation\n",
        "from random import randint\n",
        "# defining a function that generates the parameters randomly\n",
        "def model_parameters_random(LearningRate,MaxDepth,MinChildWeight,Estimators):\n",
        "  m = []\n",
        "  for i in range(5):\n",
        "    a = randint(0,len(LearningRate)-1)\n",
        "    b = randint(0,len(MaxDepth)-1)\n",
        "    c = randint(0,len(MinChildWeight)-1)\n",
        "    d = randint(0,len(Estimators)-1) \n",
        "    l = []\n",
        "    l.append(LearningRate[a])\n",
        "    l.append(MaxDepth[b])\n",
        "    l.append(MinChildWeight[c])\n",
        "    l.append(Estimators[d])\n",
        "    m.append(l)\n",
        "  return m\n",
        "# selecting a model from randomly generated models using the test accuracy of model as selection criteria\n",
        "def model_Selection(model_parms):\n",
        "  s = [] \n",
        "  for i in range(len(model_parms)):\n",
        "    l = model_parms[i]\n",
        "    print(\"Training model with parameters:----------------------------\\n\",l)\n",
        "    model = xgb.XGBClassifier(learning_rate=l[0], max_depth=l[1], min_child_weight=l[2], n_estimators=l[3])\n",
        "    model.fit(train_data, train_labels)\n",
        "    test_p = model.predict(test_data)\n",
        "    accuracy = model_accuracy(test_l,test_p)\n",
        "    print(\"Accuracy on test data is:----------------------------------\\n\",accuracy)\n",
        "    s.append(accuracy)\n",
        "  max = 0\n",
        "  index = 0\n",
        "  for i in range(len(s)):\n",
        "    if (accuracy*100>max):\n",
        "      max=accuracy*100\n",
        "      index = i\n",
        "  return model_parms[i]\n",
        "\n",
        "# defining the function that calculates the accuracy of model\n",
        "def model_accuracy(y,t):\n",
        "  c = 0\n",
        "  for i in range(len(y)):\n",
        "    if y[i]==t[i]:\n",
        "      c = c + 1\n",
        "  return (c/len(y))"
      ],
      "execution_count": 209,
      "outputs": []
    },
    {
      "cell_type": "code",
      "metadata": {
        "id": "4zmzt14zhxoG",
        "colab": {
          "base_uri": "https://localhost:8080/"
        },
        "outputId": "f68771ac-3ac7-45f1-f1d4-7c74abfba406"
      },
      "source": [
        "# Create model and model selection strategy\n",
        "# creating a small sample space\n",
        "l_r = [0.1,0.01]\n",
        "m_d = [25,30,35,40]\n",
        "m_c_w = [5,10,20]\n",
        "n_e = [250,300,150]\n",
        "# generating the models using random parameters\n",
        "model_parms = model_parameters_random(l_r,m_d,m_c_w,n_e)\n",
        "print(model_parms)\n",
        "# selecting the best model\n",
        "model_parms_predicted = model_Selection(model_parms)\n",
        "print(model_parms_predicted)"
      ],
      "execution_count": 210,
      "outputs": [
        {
          "output_type": "stream",
          "name": "stdout",
          "text": [
            "[[0.01, 35, 20, 150], [0.01, 25, 20, 150], [0.01, 35, 20, 150], [0.1, 30, 5, 250], [0.01, 35, 10, 150]]\n",
            "Training model with parameters:----------------------------\n",
            " [0.01, 35, 20, 150]\n",
            "Accuracy on test data is:----------------------------------\n",
            " 0.7020239390642002\n",
            "Training model with parameters:----------------------------\n",
            " [0.01, 25, 20, 150]\n",
            "Accuracy on test data is:----------------------------------\n",
            " 0.7016031918752267\n",
            "Training model with parameters:----------------------------\n",
            " [0.01, 35, 20, 150]\n",
            "Accuracy on test data is:----------------------------------\n",
            " 0.7020239390642002\n",
            "Training model with parameters:----------------------------\n",
            " [0.1, 30, 5, 250]\n",
            "Accuracy on test data is:----------------------------------\n",
            " 0.7056945955749002\n",
            "Training model with parameters:----------------------------\n",
            " [0.01, 35, 10, 150]\n",
            "Accuracy on test data is:----------------------------------\n",
            " 0.7027493652520856\n",
            "[0.01, 35, 10, 150]\n"
          ]
        }
      ]
    },
    {
      "cell_type": "code",
      "metadata": {
        "id": "eASsrcIj8puV",
        "colab": {
          "base_uri": "https://localhost:8080/"
        },
        "outputId": "76d8da86-5e00-49c3-ecad-6b53d0350998"
      },
      "source": [
        "# finally using the best model for task\n",
        "p = model_parms_predicted\n",
        "final_model = xgb.XGBClassifier(learning_rate=p[0], max_depth=p[1], min_child_weight=p[2], n_estimators=p[3])\n",
        "final_model.fit(train_data, train_labels)"
      ],
      "execution_count": 211,
      "outputs": [
        {
          "output_type": "execute_result",
          "data": {
            "text/plain": [
              "XGBClassifier(learning_rate=0.01, max_depth=35, min_child_weight=10,\n",
              "              n_estimators=150)"
            ]
          },
          "metadata": {},
          "execution_count": 211
        }
      ]
    },
    {
      "cell_type": "code",
      "metadata": {
        "id": "mQ6tQayHhzmh"
      },
      "source": [
        "# Predicting the target values for test and trainng data\n",
        "predict_labels_train = final_model.predict(train_data) \n",
        "predict_labels = final_model.predict(test_data)"
      ],
      "execution_count": 212,
      "outputs": []
    },
    {
      "cell_type": "code",
      "metadata": {
        "id": "l_TX9n4mh1mG",
        "colab": {
          "base_uri": "https://localhost:8080/"
        },
        "outputId": "f89b6252-56df-4e7d-a780-01a0838c4ab9"
      },
      "source": [
        "# providing a classification report for training and test data\n",
        "print(\"For Training data--------------------------------------\\n\")\n",
        "print(classification_report(train_labels,predict_labels_train))\n",
        "print(\"For Testing data---------------------------------------\\n\")\n",
        "print(classification_report(test_labels,predict_labels))"
      ],
      "execution_count": 213,
      "outputs": [
        {
          "output_type": "stream",
          "name": "stdout",
          "text": [
            "For Training data--------------------------------------\n",
            "\n",
            "              precision    recall  f1-score   support\n",
            "\n",
            "         0.0       0.77      0.55      0.64     60612\n",
            "         1.0       0.77      0.90      0.83    100213\n",
            "\n",
            "    accuracy                           0.77    160825\n",
            "   macro avg       0.77      0.73      0.74    160825\n",
            "weighted avg       0.77      0.77      0.76    160825\n",
            "\n",
            "For Testing data---------------------------------------\n",
            "\n",
            "              precision    recall  f1-score   support\n",
            "\n",
            "         0.0       0.65      0.47      0.55     26053\n",
            "         1.0       0.72      0.84      0.78     42872\n",
            "\n",
            "    accuracy                           0.70     68925\n",
            "   macro avg       0.69      0.66      0.66     68925\n",
            "weighted avg       0.69      0.70      0.69     68925\n",
            "\n"
          ]
        }
      ]
    },
    {
      "cell_type": "markdown",
      "metadata": {
        "id": "cTQkaK7fkXGY"
      },
      "source": [
        "# Using Random Forest Classifier for comparision with XGBoost"
      ]
    },
    {
      "cell_type": "code",
      "metadata": {
        "id": "kg5m7Y2iAlWS"
      },
      "source": [
        "# creating a random forst classifier \n",
        "R_model = RandomForestClassifier(n_estimators=100, max_depth=5)"
      ],
      "execution_count": 214,
      "outputs": []
    },
    {
      "cell_type": "code",
      "metadata": {
        "id": "WnzLemgxBBSS",
        "colab": {
          "base_uri": "https://localhost:8080/"
        },
        "outputId": "273b1cbe-4c46-405d-d72d-b82ba55b5d29"
      },
      "source": [
        "# fitting the model\n",
        "R_model.fit(train_data,train_labels)"
      ],
      "execution_count": 215,
      "outputs": [
        {
          "output_type": "execute_result",
          "data": {
            "text/plain": [
              "RandomForestClassifier(max_depth=5)"
            ]
          },
          "metadata": {},
          "execution_count": 215
        }
      ]
    },
    {
      "cell_type": "code",
      "metadata": {
        "id": "ZR-JORljBWnp"
      },
      "source": [
        "# predicting the values\n",
        "importance = R_model.feature_importances_ \n",
        "predicted_values = R_model.predict(test_data)\n",
        "#print(predicted_values)\n",
        "#print(model.feature_importances_)"
      ],
      "execution_count": 216,
      "outputs": []
    },
    {
      "cell_type": "code",
      "metadata": {
        "colab": {
          "base_uri": "https://localhost:8080/"
        },
        "id": "x2MFWHytjQu6",
        "outputId": "e4bd8476-48e5-47d1-ee3c-45b96698888c"
      },
      "source": [
        "# checking for accuracy and classification report\n",
        "print(\"For Testing data accuracy--------------------------------------\\n\")\n",
        "print(model_accuracy(predicted_values,test_l),'\\n')\n",
        "print(\"For Testing data-----------------------------------------------\\n\")\n",
        "print(classification_report(test_labels,predicted_values))"
      ],
      "execution_count": 217,
      "outputs": [
        {
          "output_type": "stream",
          "name": "stdout",
          "text": [
            "For Testing data accuracy--------------------------------------\n",
            "\n",
            "0.682727602466449 \n",
            "\n",
            "For Testing data-----------------------------------------------\n",
            "\n",
            "              precision    recall  f1-score   support\n",
            "\n",
            "         0.0       0.60      0.49      0.54     26053\n",
            "         1.0       0.72      0.80      0.76     42872\n",
            "\n",
            "    accuracy                           0.68     68925\n",
            "   macro avg       0.66      0.64      0.65     68925\n",
            "weighted avg       0.67      0.68      0.67     68925\n",
            "\n"
          ]
        }
      ]
    }
  ]
}